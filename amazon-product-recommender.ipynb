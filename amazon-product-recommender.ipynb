{
 "cells": [
  {
   "cell_type": "code",
   "execution_count": 6,
   "id": "dba3ee39",
   "metadata": {
    "_cell_guid": "b1076dfc-b9ad-4769-8c92-a6c4dae69d19",
    "_uuid": "8f2839f25d086af736a60e9eeb907d3b93b6e0e5",
    "execution": {
     "iopub.execute_input": "2023-04-04T18:52:55.639897Z",
     "iopub.status.busy": "2023-04-04T18:52:55.639076Z",
     "iopub.status.idle": "2023-04-04T18:52:55.654325Z",
     "shell.execute_reply": "2023-04-04T18:52:55.653363Z"
    },
    "papermill": {
     "duration": 0.027516,
     "end_time": "2023-04-04T18:52:55.657030",
     "exception": false,
     "start_time": "2023-04-04T18:52:55.629514",
     "status": "completed"
    },
    "tags": []
   },
   "outputs": [],
   "source": [
    "# This Python 3 environment comes with many helpful analytics libraries installed\n",
    "# It is defined by the kaggle/python Docker image: https://github.com/kaggle/docker-python\n",
    "# For example, here's several helpful packages to load\n",
    "\n",
    "import numpy as np # linear algebra\n",
    "import pandas as pd # data processing, CSV file I/O (e.g. pd.read_csv)\n",
    "\n",
    "# Input data files are available in the read-only \"../input/\" directory\n",
    "# For example, running this (by clicking run or pressing Shift+Enter) will list all files under the input directory\n",
    "\n",
    "import os\n",
    "for dirname, _, filenames in os.walk('/kaggle/input'):\n",
    "    for filename in filenames:\n",
    "        print(os.path.join(dirname, filename))\n",
    "\n",
    "# You can write up to 20GB to the current directory (/kaggle/working/) that gets preserved as output when you create a version using \"Save & Run All\" \n",
    "# You can also write temporary files to /kaggle/temp/, but they won't be saved outside of the current session"
   ]
  },
  {
   "cell_type": "markdown",
   "id": "56feca98",
   "metadata": {
    "papermill": {
     "duration": 0.006787,
     "end_time": "2023-04-04T18:52:55.670823",
     "exception": false,
     "start_time": "2023-04-04T18:52:55.664036",
     "status": "completed"
    },
    "tags": []
   },
   "source": [
    "# Read Data"
   ]
  },
  {
   "cell_type": "code",
   "execution_count": 7,
   "id": "8b62740b",
   "metadata": {
    "execution": {
     "iopub.execute_input": "2023-04-04T18:52:55.685799Z",
     "iopub.status.busy": "2023-04-04T18:52:55.685018Z",
     "iopub.status.idle": "2023-04-04T18:52:56.791876Z",
     "shell.execute_reply": "2023-04-04T18:52:56.790364Z"
    },
    "papermill": {
     "duration": 1.11767,
     "end_time": "2023-04-04T18:52:56.794810",
     "exception": false,
     "start_time": "2023-04-04T18:52:55.677140",
     "status": "completed"
    },
    "tags": []
   },
   "outputs": [],
   "source": [
    "import pandas as pd \n",
    "import matplotlib.pyplot as plt\n",
    "import seaborn as sns"
   ]
  },
  {
   "cell_type": "code",
   "execution_count": 8,
   "id": "59735b56",
   "metadata": {
    "execution": {
     "iopub.execute_input": "2023-04-04T18:52:56.809804Z",
     "iopub.status.busy": "2023-04-04T18:52:56.809360Z",
     "iopub.status.idle": "2023-04-04T18:53:07.981680Z",
     "shell.execute_reply": "2023-04-04T18:53:07.980179Z"
    },
    "papermill": {
     "duration": 11.183401,
     "end_time": "2023-04-04T18:53:07.984888",
     "exception": false,
     "start_time": "2023-04-04T18:52:56.801487",
     "status": "completed"
    },
    "tags": []
   },
   "outputs": [
    {
     "data": {
      "text/html": [
       "<div>\n",
       "<style scoped>\n",
       "    .dataframe tbody tr th:only-of-type {\n",
       "        vertical-align: middle;\n",
       "    }\n",
       "\n",
       "    .dataframe tbody tr th {\n",
       "        vertical-align: top;\n",
       "    }\n",
       "\n",
       "    .dataframe thead th {\n",
       "        text-align: right;\n",
       "    }\n",
       "</style>\n",
       "<table border=\"1\" class=\"dataframe\">\n",
       "  <thead>\n",
       "    <tr style=\"text-align: right;\">\n",
       "      <th></th>\n",
       "      <th>userId</th>\n",
       "      <th>productId</th>\n",
       "      <th>rating</th>\n",
       "      <th>timestamp</th>\n",
       "    </tr>\n",
       "  </thead>\n",
       "  <tbody>\n",
       "    <tr>\n",
       "      <th>0</th>\n",
       "      <td>AKM1MP6P0OYPR</td>\n",
       "      <td>0132793040</td>\n",
       "      <td>5.0</td>\n",
       "      <td>1365811200</td>\n",
       "    </tr>\n",
       "    <tr>\n",
       "      <th>1</th>\n",
       "      <td>A2CX7LUOHB2NDG</td>\n",
       "      <td>0321732944</td>\n",
       "      <td>5.0</td>\n",
       "      <td>1341100800</td>\n",
       "    </tr>\n",
       "    <tr>\n",
       "      <th>2</th>\n",
       "      <td>A2NWSAGRHCP8N5</td>\n",
       "      <td>0439886341</td>\n",
       "      <td>1.0</td>\n",
       "      <td>1367193600</td>\n",
       "    </tr>\n",
       "    <tr>\n",
       "      <th>3</th>\n",
       "      <td>A2WNBOD3WNDNKT</td>\n",
       "      <td>0439886341</td>\n",
       "      <td>3.0</td>\n",
       "      <td>1374451200</td>\n",
       "    </tr>\n",
       "    <tr>\n",
       "      <th>4</th>\n",
       "      <td>A1GI0U4ZRJA8WN</td>\n",
       "      <td>0439886341</td>\n",
       "      <td>1.0</td>\n",
       "      <td>1334707200</td>\n",
       "    </tr>\n",
       "  </tbody>\n",
       "</table>\n",
       "</div>"
      ],
      "text/plain": [
       "           userId   productId  rating   timestamp\n",
       "0   AKM1MP6P0OYPR  0132793040     5.0  1365811200\n",
       "1  A2CX7LUOHB2NDG  0321732944     5.0  1341100800\n",
       "2  A2NWSAGRHCP8N5  0439886341     1.0  1367193600\n",
       "3  A2WNBOD3WNDNKT  0439886341     3.0  1374451200\n",
       "4  A1GI0U4ZRJA8WN  0439886341     1.0  1334707200"
      ]
     },
     "execution_count": 8,
     "metadata": {},
     "output_type": "execute_result"
    }
   ],
   "source": [
    "df = pd.read_csv(\"ratings_Electronics.csv\", names=[\"userId\", \"productId\", \"rating\", \"timestamp\"])  \n",
    "df.head() "
   ]
  },
  {
   "cell_type": "code",
   "execution_count": 9,
   "id": "7782f42b",
   "metadata": {
    "execution": {
     "iopub.execute_input": "2023-04-04T18:53:08.000641Z",
     "iopub.status.busy": "2023-04-04T18:53:07.999834Z",
     "iopub.status.idle": "2023-04-04T18:53:08.709978Z",
     "shell.execute_reply": "2023-04-04T18:53:08.708317Z"
    },
    "papermill": {
     "duration": 0.72117,
     "end_time": "2023-04-04T18:53:08.712800",
     "exception": false,
     "start_time": "2023-04-04T18:53:07.991630",
     "status": "completed"
    },
    "tags": []
   },
   "outputs": [
    {
     "name": "stdout",
     "output_type": "stream",
     "text": [
      "<class 'pandas.core.frame.DataFrame'>\n",
      "RangeIndex: 7824482 entries, 0 to 7824481\n",
      "Data columns (total 4 columns):\n",
      " #   Column     Dtype  \n",
      "---  ------     -----  \n",
      " 0   userId     object \n",
      " 1   productId  object \n",
      " 2   rating     float64\n",
      " 3   timestamp  int64  \n",
      "dtypes: float64(1), int64(1), object(2)\n",
      "memory usage: 238.8+ MB\n",
      "None\n",
      "             rating     timestamp\n",
      "count  7.824482e+06  7.824482e+06\n",
      "mean   4.012337e+00  1.338178e+09\n",
      "std    1.380910e+00  6.900426e+07\n",
      "min    1.000000e+00  9.127296e+08\n",
      "25%    3.000000e+00  1.315354e+09\n",
      "50%    5.000000e+00  1.361059e+09\n",
      "75%    5.000000e+00  1.386115e+09\n",
      "max    5.000000e+00  1.406074e+09\n"
     ]
    }
   ],
   "source": [
    "# Display dataset information and basic statistics\n",
    "print(df.info())\n",
    "print(df.describe())"
   ]
  },
  {
   "cell_type": "markdown",
   "id": "7e25477b",
   "metadata": {
    "papermill": {
     "duration": 0.006358,
     "end_time": "2023-04-04T18:53:08.726003",
     "exception": false,
     "start_time": "2023-04-04T18:53:08.719645",
     "status": "completed"
    },
    "tags": []
   },
   "source": [
    "# Data Preprocess"
   ]
  },
  {
   "cell_type": "code",
   "execution_count": 10,
   "id": "f7d22ea9",
   "metadata": {
    "execution": {
     "iopub.execute_input": "2023-04-04T18:53:08.741426Z",
     "iopub.status.busy": "2023-04-04T18:53:08.740910Z",
     "iopub.status.idle": "2023-04-04T18:53:16.886121Z",
     "shell.execute_reply": "2023-04-04T18:53:16.884782Z"
    },
    "papermill": {
     "duration": 8.15629,
     "end_time": "2023-04-04T18:53:16.889018",
     "exception": false,
     "start_time": "2023-04-04T18:53:08.732728",
     "status": "completed"
    },
    "tags": []
   },
   "outputs": [
    {
     "name": "stdout",
     "output_type": "stream",
     "text": [
      "Missing values:\n",
      " userId       0\n",
      "productId    0\n",
      "rating       0\n",
      "timestamp    0\n",
      "dtype: int64\n",
      "Duplicate rows:\n",
      " 0\n"
     ]
    }
   ],
   "source": [
    "# Check for missing values\n",
    "print(\"Missing values:\\n\", df.isnull().sum())\n",
    "\n",
    "# Check for duplicate rows\n",
    "print(\"Duplicate rows:\\n\", df.duplicated().sum())"
   ]
  },
  {
   "cell_type": "code",
   "execution_count": 11,
   "id": "6036ea3a",
   "metadata": {
    "execution": {
     "iopub.execute_input": "2023-04-04T18:53:16.904831Z",
     "iopub.status.busy": "2023-04-04T18:53:16.904395Z",
     "iopub.status.idle": "2023-04-04T18:53:24.811447Z",
     "shell.execute_reply": "2023-04-04T18:53:24.810096Z"
    },
    "papermill": {
     "duration": 7.918341,
     "end_time": "2023-04-04T18:53:24.814362",
     "exception": false,
     "start_time": "2023-04-04T18:53:16.896021",
     "status": "completed"
    },
    "tags": []
   },
   "outputs": [],
   "source": [
    "# Drop duplicate rows, if any\n",
    "df = df.drop_duplicates()"
   ]
  },
  {
   "cell_type": "code",
   "execution_count": 12,
   "id": "d7583163",
   "metadata": {
    "execution": {
     "iopub.execute_input": "2023-04-04T18:53:24.830531Z",
     "iopub.status.busy": "2023-04-04T18:53:24.830093Z",
     "iopub.status.idle": "2023-04-04T18:53:25.790364Z",
     "shell.execute_reply": "2023-04-04T18:53:25.789031Z"
    },
    "papermill": {
     "duration": 0.971327,
     "end_time": "2023-04-04T18:53:25.793088",
     "exception": false,
     "start_time": "2023-04-04T18:53:24.821761",
     "status": "completed"
    },
    "tags": []
   },
   "outputs": [
    {
     "data": {
      "image/png": "[encoded data removed]",
      "text/plain": [
       "<Figure size 576x432 with 1 Axes>"
      ]
     },
     "metadata": {
      "needs_background": "light"
     },
     "output_type": "display_data"
    }
   ],
   "source": [
    "# Explore the distribution of ratings\n",
    "plt.figure(figsize=(8, 6))\n",
    "sns.countplot(data=df, x='rating', palette='viridis')\n",
    "plt.title('Distribution of Ratings')\n",
    "plt.xlabel('Rating')\n",
    "plt.ylabel('Frequency')\n",
    "plt.show()"
   ]
  },
  {
   "cell_type": "markdown",
   "id": "9a5e5ea2",
   "metadata": {
    "papermill": {
     "duration": 0.006941,
     "end_time": "2023-04-04T18:53:25.807832",
     "exception": false,
     "start_time": "2023-04-04T18:53:25.800891",
     "status": "completed"
    },
    "tags": []
   },
   "source": [
    "# Data Filter"
   ]
  },
  {
   "cell_type": "code",
   "execution_count": 13,
   "id": "1e3fa35c",
   "metadata": {
    "execution": {
     "iopub.execute_input": "2023-04-04T18:53:25.824566Z",
     "iopub.status.busy": "2023-04-04T18:53:25.824128Z",
     "iopub.status.idle": "2023-04-04T18:53:38.154895Z",
     "shell.execute_reply": "2023-04-04T18:53:38.153594Z"
    },
    "papermill": {
     "duration": 12.342797,
     "end_time": "2023-04-04T18:53:38.157902",
     "exception": false,
     "start_time": "2023-04-04T18:53:25.815105",
     "status": "completed"
    },
    "tags": []
   },
   "outputs": [
    {
     "data": {
      "image/png": "[encoded data removed]",
      "text/plain": [
       "<Figure size 1152x432 with 1 Axes>"
      ]
     },
     "metadata": {
      "needs_background": "light"
     },
     "output_type": "display_data"
    }
   ],
   "source": [
    "# Explore the number of ratings per user\n",
    "user_ratings_count = df['userId'].value_counts()\n",
    "plt.figure(figsize=(16, 6))\n",
    "sns.histplot(user_ratings_count, kde=False, bins=100, log_scale=(False, True))\n",
    "plt.title('Number of Ratings per User (Logarithmic Scale on Y-axis)')\n",
    "plt.xlabel('Number of Ratings')\n",
    "plt.ylabel('User Count (Logarithmic Scale)')\n",
    "plt.xlim(0, user_ratings_count.max())  # Set the x-axis range from 0 to the maximum number of ratings per user\n",
    "plt.show()"
   ]
  },
  {
   "cell_type": "code",
   "execution_count": 14,
   "id": "edb89ef2",
   "metadata": {
    "execution": {
     "iopub.execute_input": "2023-04-04T18:53:38.175937Z",
     "iopub.status.busy": "2023-04-04T18:53:38.175528Z",
     "iopub.status.idle": "2023-04-04T18:53:40.208522Z",
     "shell.execute_reply": "2023-04-04T18:53:40.207640Z"
    },
    "papermill": {
     "duration": 2.044704,
     "end_time": "2023-04-04T18:53:40.210954",
     "exception": false,
     "start_time": "2023-04-04T18:53:38.166250",
     "status": "completed"
    },
    "tags": []
   },
   "outputs": [
    {
     "data": {
      "image/png": "[encoded data removed]",
      "text/plain": [
       "<Figure size 1152x432 with 1 Axes>"
      ]
     },
     "metadata": {
      "needs_background": "light"
     },
     "output_type": "display_data"
    }
   ],
   "source": [
    "# Explore the number of ratings per product\n",
    "product_ratings_count = df['productId'].value_counts()\n",
    "plt.figure(figsize=(16, 6))\n",
    "sns.histplot(product_ratings_count, kde=False, bins=100, log_scale=(False, True))\n",
    "plt.title('Number of Ratings per Product (Logarithmic Scale on Y-axis)')\n",
    "plt.xlabel('Number of Ratings')\n",
    "plt.ylabel('Product Count (Logarithmic Scale)')\n",
    "plt.xlim(0, product_ratings_count.max())  # Set the x-axis range from 0 to the maximum number of ratings per product\n",
    "plt.show()"
   ]
  },
  {
   "cell_type": "code",
   "execution_count": 15,
   "id": "6b7aba66",
   "metadata": {
    "execution": {
     "iopub.execute_input": "2023-04-04T18:53:40.231465Z",
     "iopub.status.busy": "2023-04-04T18:53:40.230397Z",
     "iopub.status.idle": "2023-04-04T18:53:43.106788Z",
     "shell.execute_reply": "2023-04-04T18:53:43.105015Z"
    },
    "papermill": {
     "duration": 2.889498,
     "end_time": "2023-04-04T18:53:43.109591",
     "exception": false,
     "start_time": "2023-04-04T18:53:40.220093",
     "status": "completed"
    },
    "tags": []
   },
   "outputs": [
    {
     "name": "stdout",
     "output_type": "stream",
     "text": [
      "Original data shape: (7824482, 4)\n",
      "Filtered data shape: (1991560, 4)\n"
     ]
    }
   ],
   "source": [
    "# Filter users and products with a minimum number of ratings\n",
    "min_user_ratings = 5\n",
    "min_product_ratings = 10\n",
    "\n",
    "filtered_users = user_ratings_count[user_ratings_count >= min_user_ratings].index\n",
    "filtered_products = product_ratings_count[product_ratings_count >= min_product_ratings].index\n",
    "\n",
    "filtered_data = df[(df['userId'].isin(filtered_users)) & (df['productId'].isin(filtered_products))]\n",
    "\n",
    "# Print the shape of the original and filtered data\n",
    "print(f\"Original data shape: {df.shape}\")\n",
    "print(f\"Filtered data shape: {filtered_data.shape}\")"
   ]
  },
  {
   "cell_type": "markdown",
   "id": "4df6bff6",
   "metadata": {
    "papermill": {
     "duration": 0.008497,
     "end_time": "2023-04-04T18:53:43.127217",
     "exception": false,
     "start_time": "2023-04-04T18:53:43.118720",
     "status": "completed"
    },
    "tags": []
   },
   "source": [
    "# EDA"
   ]
  },
  {
   "cell_type": "code",
   "execution_count": 16,
   "id": "78368e91",
   "metadata": {
    "execution": {
     "iopub.execute_input": "2023-04-04T18:53:43.147039Z",
     "iopub.status.busy": "2023-04-04T18:53:43.146268Z",
     "iopub.status.idle": "2023-04-04T18:53:43.431843Z",
     "shell.execute_reply": "2023-04-04T18:53:43.430182Z"
    },
    "papermill": {
     "duration": 0.298289,
     "end_time": "2023-04-04T18:53:43.434379",
     "exception": false,
     "start_time": "2023-04-04T18:53:43.136090",
     "status": "completed"
    },
    "tags": []
   },
   "outputs": [
    {
     "name": "stdout",
     "output_type": "stream",
     "text": [
      "Data shape: (1991560, 4)\n",
      "\n",
      "Data types:\n",
      " userId        object\n",
      "productId     object\n",
      "rating       float64\n",
      "timestamp      int64\n",
      "dtype: object\n",
      "\n",
      "Missing values:\n",
      " userId       0\n",
      "productId    0\n",
      "rating       0\n",
      "timestamp    0\n",
      "dtype: int64\n"
     ]
    }
   ],
   "source": [
    "print(\"Data shape:\", filtered_data.shape)\n",
    "print(\"\\nData types:\\n\", filtered_data.dtypes)\n",
    "print(\"\\nMissing values:\\n\", filtered_data.isnull().sum())"
   ]
  },
  {
   "cell_type": "code",
   "execution_count": 17,
   "id": "96500e46",
   "metadata": {
    "execution": {
     "iopub.execute_input": "2023-04-04T18:53:43.456221Z",
     "iopub.status.busy": "2023-04-04T18:53:43.455448Z",
     "iopub.status.idle": "2023-04-04T18:53:44.905861Z",
     "shell.execute_reply": "2023-04-04T18:53:44.903886Z"
    },
    "papermill": {
     "duration": 1.465102,
     "end_time": "2023-04-04T18:53:44.910092",
     "exception": false,
     "start_time": "2023-04-04T18:53:43.444990",
     "status": "completed"
    },
    "tags": []
   },
   "outputs": [
    {
     "name": "stdout",
     "output_type": "stream",
     "text": [
      "\n",
      "Summary statistics for numerical features:\n",
      "              rating     timestamp\n",
      "count  1.991560e+06  1.991560e+06\n",
      "mean   4.201605e+00  1.339592e+09\n",
      "std    1.205818e+00  6.520485e+07\n",
      "min    1.000000e+00  9.292320e+08\n",
      "25%    4.000000e+00  1.316909e+09\n",
      "50%    5.000000e+00  1.360714e+09\n",
      "75%    5.000000e+00  1.385078e+09\n",
      "max    5.000000e+00  1.406074e+09\n",
      "\n",
      "Frequency distribution for categorical features:\n",
      "\n",
      "userId:\n",
      "ADLVFFE4VBT8      439\n",
      "A3OXHLG6DIBRW8    423\n",
      "A5JLAU2ARJ0BO     410\n",
      "A6FIAB28IS79      390\n",
      "A680RUE1FDO8B     356\n",
      "                 ... \n",
      "A3EXR9VUQ5BPL1      1\n",
      "AF29M8Y39NFJA       1\n",
      "A3H2QCJ2H4X7O9      1\n",
      "A192NSQ0XZX3Z7      1\n",
      "AARVQS2FQQVVB       1\n",
      "Name: userId, Length: 253895, dtype: int64\n",
      "\n",
      "productId:\n",
      "B007WTAJTO    5483\n",
      "B003ES5ZUU    4480\n",
      "B00DR0PDNE    4283\n",
      "B0019EHU8G    3836\n",
      "B002WE6D44    3107\n",
      "              ... \n",
      "B000ODYL58       1\n",
      "B00B7TNWU8       1\n",
      "B000ODYT96       1\n",
      "B000OF0IBW       1\n",
      "B005HB8H7A       1\n",
      "Name: productId, Length: 95177, dtype: int64\n"
     ]
    }
   ],
   "source": [
    "# For numerical features\n",
    "print(\"\\nSummary statistics for numerical features:\\n\", filtered_data.describe())\n",
    "\n",
    "# For categorical features\n",
    "print(\"\\nFrequency distribution for categorical features:\")\n",
    "for col in filtered_data.select_dtypes(include=['object']):\n",
    "    print(f\"\\n{col}:\\n{filtered_data[col].value_counts()}\")"
   ]
  },
  {
   "cell_type": "code",
   "execution_count": 18,
   "id": "98c73076",
   "metadata": {
    "execution": {
     "iopub.execute_input": "2023-04-04T18:53:44.937426Z",
     "iopub.status.busy": "2023-04-04T18:53:44.936927Z",
     "iopub.status.idle": "2023-04-04T18:53:45.790528Z",
     "shell.execute_reply": "2023-04-04T18:53:45.789065Z"
    },
    "papermill": {
     "duration": 0.869,
     "end_time": "2023-04-04T18:53:45.793306",
     "exception": false,
     "start_time": "2023-04-04T18:53:44.924306",
     "status": "completed"
    },
    "tags": []
   },
   "outputs": [
    {
     "name": "stdout",
     "output_type": "stream",
     "text": [
      "Number of unique users: 253895\n",
      "Number of unique products: 95177\n"
     ]
    }
   ],
   "source": [
    "unique_users = filtered_data['userId'].nunique()\n",
    "unique_products = filtered_data['productId'].nunique()\n",
    "print(f\"Number of unique users: {unique_users}\")\n",
    "print(f\"Number of unique products: {unique_products}\")"
   ]
  },
  {
   "cell_type": "code",
   "execution_count": 19,
   "id": "6d06c208",
   "metadata": {
    "execution": {
     "iopub.execute_input": "2023-04-04T18:53:45.813837Z",
     "iopub.status.busy": "2023-04-04T18:53:45.813069Z",
     "iopub.status.idle": "2023-04-04T18:53:47.442391Z",
     "shell.execute_reply": "2023-04-04T18:53:47.441291Z"
    },
    "papermill": {
     "duration": 1.642589,
     "end_time": "2023-04-04T18:53:47.445208",
     "exception": false,
     "start_time": "2023-04-04T18:53:45.802619",
     "status": "completed"
    },
    "tags": []
   },
   "outputs": [],
   "source": [
    "# Product rating mean and count\n",
    "product_rating_agg = filtered_data.groupby('productId')['rating'].agg(['mean', 'count']).reset_index()\n",
    "\n",
    "# User rating mean and count\n",
    "user_rating_agg = filtered_data.groupby('userId')['rating'].agg(['mean', 'count']).reset_index()\n"
   ]
  },
  {
   "cell_type": "code",
   "execution_count": 20,
   "id": "486a29ae",
   "metadata": {
    "execution": {
     "iopub.execute_input": "2023-04-04T18:53:47.466232Z",
     "iopub.status.busy": "2023-04-04T18:53:47.465141Z",
     "iopub.status.idle": "2023-04-04T18:53:48.455068Z",
     "shell.execute_reply": "2023-04-04T18:53:48.453767Z"
    },
    "papermill": {
     "duration": 1.003832,
     "end_time": "2023-04-04T18:53:48.458465",
     "exception": false,
     "start_time": "2023-04-04T18:53:47.454633",
     "status": "completed"
    },
    "tags": []
   },
   "outputs": [
    {
     "data": {
      "image/png": "[encoded data removed]",
      "text/plain": [
       "<Figure size 720x432 with 1 Axes>"
      ]
     },
     "metadata": {
      "needs_background": "light"
     },
     "output_type": "display_data"
    },
    {
     "data": {
      "image/png": "[encoded data removed]",
      "text/plain": [
       "<Figure size 720x432 with 1 Axes>"
      ]
     },
     "metadata": {
      "needs_background": "light"
     },
     "output_type": "display_data"
    }
   ],
   "source": [
    "plt.figure(figsize=(10, 6))\n",
    "sns.histplot(user_rating_agg['mean'], bins=50, kde=False)\n",
    "plt.title('Distribution of Average Ratings per User')\n",
    "plt.xlabel('Average Rating')\n",
    "plt.ylabel('Frequency')\n",
    "plt.show()\n",
    "\n",
    "plt.figure(figsize=(10, 6))\n",
    "sns.histplot(product_rating_agg['mean'], bins=50, kde=False)\n",
    "plt.title('Distribution of Average Ratings per Product')\n",
    "plt.xlabel('Average Rating')\n",
    "plt.ylabel('Frequency')\n",
    "plt.show()"
   ]
  },
  {
   "cell_type": "code",
   "execution_count": 21,
   "id": "058a7227",
   "metadata": {
    "execution": {
     "iopub.execute_input": "2023-04-04T18:53:48.483170Z",
     "iopub.status.busy": "2023-04-04T18:53:48.482769Z",
     "iopub.status.idle": "2023-04-04T18:53:52.434351Z",
     "shell.execute_reply": "2023-04-04T18:53:52.433138Z"
    },
    "papermill": {
     "duration": 3.967244,
     "end_time": "2023-04-04T18:53:52.437111",
     "exception": false,
     "start_time": "2023-04-04T18:53:48.469867",
     "status": "completed"
    },
    "tags": []
   },
   "outputs": [
    {
     "data": {
      "image/png": "[encoded data removed]",
      "text/plain": [
       "<Figure size 720x432 with 1 Axes>"
      ]
     },
     "metadata": {
      "needs_background": "light"
     },
     "output_type": "display_data"
    },
    {
     "data": {
      "image/png": "[encoded data removed]",
      "text/plain": [
       "<Figure size 720x432 with 1 Axes>"
      ]
     },
     "metadata": {
      "needs_background": "light"
     },
     "output_type": "display_data"
    },
    {
     "data": {
      "image/png": "[encoded data removed]",
      "text/plain": [
       "<Figure size 720x432 with 1 Axes>"
      ]
     },
     "metadata": {
      "needs_background": "light"
     },
     "output_type": "display_data"
    }
   ],
   "source": [
    "from datetime import datetime\n",
    "data_with_datetime = filtered_data.copy()\n",
    "\n",
    "# Convert the 'timestamp' column to a datetime object\n",
    "data_with_datetime['datetime'] = data_with_datetime['timestamp'].apply(lambda x: datetime.fromtimestamp(x))\n",
    "\n",
    "# Extract year, month, day, and hour information\n",
    "data_with_datetime['year'] = data_with_datetime['datetime'].dt.year\n",
    "data_with_datetime['month'] = data_with_datetime['datetime'].dt.month\n",
    "data_with_datetime['day'] = data_with_datetime['datetime'].dt.day\n",
    "\n",
    "\n",
    "\n",
    "# Visualize the distribution of ratings by year, month, day, and hour\n",
    "plt.figure(figsize=(10, 6))\n",
    "sns.countplot(x='year', data=data_with_datetime)\n",
    "plt.title('Number of Ratings by Year')\n",
    "plt.xlabel('Year')\n",
    "plt.ylabel('Frequency')\n",
    "plt.show()\n",
    "\n",
    "plt.figure(figsize=(10, 6))\n",
    "sns.countplot(x='month', data=data_with_datetime)\n",
    "plt.title('Number of Ratings by Month')\n",
    "plt.xlabel('Month')\n",
    "plt.ylabel('Frequency')\n",
    "plt.show()\n",
    "\n",
    "plt.figure(figsize=(10, 6))\n",
    "sns.countplot(x='day', data=data_with_datetime)\n",
    "plt.title('Number of Ratings by Day of Month')\n",
    "plt.xlabel('Day')\n",
    "plt.ylabel('Frequency')\n",
    "plt.show()"
   ]
  },
  {
   "cell_type": "markdown",
   "id": "e756f908",
   "metadata": {
    "papermill": {
     "duration": 0.011893,
     "end_time": "2023-04-04T18:53:52.460832",
     "exception": false,
     "start_time": "2023-04-04T18:53:52.448939",
     "status": "completed"
    },
    "tags": []
   },
   "source": [
    "# TA Feedback"
   ]
  },
  {
   "cell_type": "markdown",
   "id": "e4bdee5c",
   "metadata": {
    "papermill": {
     "duration": 0.011494,
     "end_time": "2023-04-04T18:53:52.484185",
     "exception": false,
     "start_time": "2023-04-04T18:53:52.472691",
     "status": "completed"
    },
    "tags": []
   },
   "source": [
    "Doable strategy in approaching the project. A small detail is that you need to have a clear statement about your objective of the project. I do see the intuition here so I didn't take points off, but please do so next time.\n",
    "\n",
    "Deep learning is a good approach but you may want to start with KNN and SVD first, and if you have more time, you can give DL models a try. Also, note that you need to differentiate your project implementation with the ones already in Kaggle. Innovation is required. See rubric for Part 1 for acceptable innovation.\n",
    "\n",
    "Another thing to consider before you actually build your model is filtering the input data. You may want to ignore some users who don't meet certain criteria to better generate the result."
   ]
  },
  {
   "cell_type": "markdown",
   "id": "25555a5b",
   "metadata": {
    "papermill": {
     "duration": 0.011681,
     "end_time": "2023-04-04T18:53:52.507625",
     "exception": false,
     "start_time": "2023-04-04T18:53:52.495944",
     "status": "completed"
    },
    "tags": []
   },
   "source": [
    "# Milestone2 Template"
   ]
  },
  {
   "cell_type": "markdown",
   "id": "fe569d0e",
   "metadata": {
    "papermill": {
     "duration": 0.011406,
     "end_time": "2023-04-04T18:53:52.530875",
     "exception": false,
     "start_time": "2023-04-04T18:53:52.519469",
     "status": "completed"
    },
    "tags": []
   },
   "source": [
    "Classifying Animal Images Using Vision Transformers\n",
    "Team: Name 1, Name 2, Name 3. Project Mentor TA: TA Name\n",
    "1) Introduction\n",
    "Set up the problem: In 1-2 paragraphs, describe the dataset you are/will be training and testing on, as well as what are the inputs and outputs of your eventual machine learning model.\n",
    "\n",
    "Implementation: In one paragraph, summarize your implementation contributions.\n",
    "\n",
    "Evaluation: In one paragraph, summarize your evaluation contributions.\n",
    "\n",
    "Throughout the report, use mathematical notation to explain clearly as appropriate. You may find add-ons like “Auto-LaTeX Equations” (https://workspace.google.com/marketplace/app/autolatex_equations/850293439076) useful, and you are of course welcome to use Google Docs’ native equation mode. \n",
    "2) How We Have Addressed Feedback From the Proposal Evaluations\n",
    "Describe clearly the key feedback you received from the proposal and any other interactions with your project mentor etc., and how you have incorporated it into your project plans. 1-2 paragraphs. \n",
    "3) Prior Work We are Closely Building From\n",
    "2-3 sentence introduction if necessary to set up the context for what follows. You may be able to reuse material from your proposal for this section.\n",
    "Paper / blog post/ Kaggle submission etc.: Title. URL. What it does that is relevant to this project (2-3 sentences). Code link. Provide any links in text, like www.google.com, not like Google.\n",
    "More if needed. There should be at most 2 such closely related prior works in most cases.\n",
    "4) Contributions\n",
    "Describe in detail your implementation and evaluation contributions, including:\n",
    "\n",
    "Details regarding the proposed contributions\n",
    "Progress towards completing the contributions\n",
    "Any difficulties encountered so far\n",
    "\n",
    "At this point, you should have a fairly complete plan for carrying out the project, and have made significant progress towards submission. Please report preliminary results in Section 4.2. At the very least, you should have written code to read in the dataset, set up the evaluation metrics, and train/evaluate a few baselines (both simple things like constant predictions, as well as things basic machine learning algorithms such as linear/logistic regression). You should also explore at least one dataset shift, and evaluate its impact on your baselines.\n",
    "4.1 Implementation Contributions\n",
    "Describe your proposed implementation contributions:\n",
    "\n",
    "Option 1: If you are implementing and systematically comparing a wide variety of different approaches, describe them. Describe features you plan to implement, neural network architectures you plan to consider, hyperparameters you plan to vary, etc.\n",
    "Option 2: If you are implementing a substantial approach for the target dataset, write out some high-level pseudocode, and discuss how your algorithm extends the prior work you have cited in Sec 2, and talk about how much progress you have made towards actually implementing and testing it, and any early results.\n",
    "\n",
    "Be scholarly, and generously cite prior work, even aside from those in Section 3, if needed. Format them as [Author 1, 2020] or as [A]. \n",
    "4.2 Evaluation Contribution\n",
    "What are the key questions your experiments will try to answer, or hypotheses your experiments will try to validate? What will be the baselines for your approach? What datasets and performance metrics? What are the dataset shifts you plan to consider?\n",
    "5)  Risk Mitigation Plan\n",
    "Examples of questions to consider here: How will you build a minimum viable project within the remaining time? Will you start with a simplified setting where you can get some early results, so that you still have time to pivot if needed? If your approach doesn’t work, how will you still turn in a useful project report? What if you find that you need too much compute? Will you try your algorithm on different, simpler data, such as a “toy” synthetic dataset you generated? Will you evaluate the reasons for failure, or find specific examples where your approach works better, even if it does not do better on the full dataset? We are looking here for evidence that you understand the risks associated with your plans, and have thought through these possibilities.\n"
   ]
  },
  {
   "cell_type": "markdown",
   "id": "8c3fb04c",
   "metadata": {
    "papermill": {
     "duration": 0.011255,
     "end_time": "2023-04-04T18:53:52.553658",
     "exception": false,
     "start_time": "2023-04-04T18:53:52.542403",
     "status": "completed"
    },
    "tags": []
   },
   "source": [
    "# ChatGPT auto generate report"
   ]
  },
  {
   "cell_type": "markdown",
   "id": "cab78549",
   "metadata": {
    "papermill": {
     "duration": 0.011165,
     "end_time": "2023-04-04T18:53:52.576294",
     "exception": false,
     "start_time": "2023-04-04T18:53:52.565129",
     "status": "completed"
    },
    "tags": []
   },
   "source": [
    "Building a Recommender System for Product Recommendations\n",
    "Team: Name 1, Name 2, Name 3. Project Mentor TA: TA Name\n",
    "\n",
    "Introduction\n",
    "In this project, our objective is to develop a recommender system that suggests products to users based on their preferences and historical data. We are working on a dataset containing user-item interactions with information about users, products, and their ratings. The dataset consists of approximately 1,991,560 records, with each record containing a user ID, product ID, rating (1 to 5), and a timestamp.\n",
    "Implementation: We started by reading and filtering the data to remove any potential noise and focused on users who meet certain criteria, such as having a minimum number of ratings. We then performed exploratory data analysis (EDA) to gain insights into the data and identify any trends or patterns. Based on these insights and TA feedback, we chose to first implement and evaluate collaborative filtering methods (User-User and Item-Item) using the surprise library, and later explore deep learning approaches if time permits.\n",
    "\n",
    "Evaluation: We have evaluated the performance of both User-User and Item-Item collaborative filtering models using 5-fold cross-validation and calculated their Root Mean Square Error (RMSE). We will compare the performance of these models to decide which one to use for our recommender system.\n",
    "\n",
    "How We Have Addressed Feedback From the Proposal Evaluations\n",
    "We received valuable feedback from our project mentor and proposal evaluations, which we have incorporated into our project plans. The key feedback included having a clear statement of the project objective, starting with simpler models like KNN and SVD before exploring deep learning approaches, and filtering the input data to better generate results. We have addressed these concerns in our revised plan and have focused on implementing and evaluating User-User and Item-Item collaborative filtering models using the surprise library.\n",
    "\n",
    "Prior Work We are Closely Building From\n",
    "We closely followed the tutorial by Nicolas Hug, \"A basic collaborative filtering algorithm with the Surprise library.\" The tutorial provides an introduction to building collaborative filtering-based recommender systems using the surprise library. Tutorial: https://surprise.readthedocs.io/en/stable/getting_started.html\n",
    "\n",
    "Contributions\n",
    "4.1 Implementation Contributions\n",
    "We implemented User-User and Item-Item collaborative filtering models using the surprise library, specifically the KNNWithMeans algorithm. We compared their performance using 5-fold cross-validation and calculated their RMSE. We also plan to explore more sophisticated models like SVD and deep learning approaches if time permits, ensuring that our implementation is innovative and distinct from existing Kaggle solutions.\n",
    "\n",
    "4.2 Evaluation Contribution\n",
    "Our experiments aim to compare the performance of User-User and Item-Item collaborative filtering methods to decide which approach is more suitable for our dataset. We used 5-fold cross-validation and calculated the RMSE to evaluate the performance of both models. We also explored the impact of different time-based features on the rating distribution.\n",
    "\n",
    "Risk Mitigation Plan\n",
    "To ensure a minimum viable project within the remaining time, we have started by implementing and evaluating two well-established recommender system methods, User-User and Item-Item collaborative filtering. In case we face any difficulties or limitations with our chosen approach, we can consider alternative methods, such as matrix factorization or content-based filtering, to improve the performance of our recommender system. If computational resources become a concern, we can explore techniques to reduce the dataset size or work with a smaller sample. We can also evaluate the reasons for failure and identify specific cases where our approach performs better, even if it does not outperform on the entire"
   ]
  }
 ],
 "metadata": {
  "kernelspec": {
   "display_name": "base",
   "language": "python",
   "name": "python3"
  },
  "language_info": {
   "codemirror_mode": {
    "name": "ipython",
    "version": 3
   },
   "file_extension": ".py",
   "mimetype": "text/x-python",
   "name": "python",
   "nbconvert_exporter": "python",
   "pygments_lexer": "ipython3",
   "version": "3.9.12"
  },
  "papermill": {
   "default_parameters": {},
   "duration": 69.84245,
   "end_time": "2023-04-04T18:53:53.913330",
   "environment_variables": {},
   "exception": null,
   "input_path": "__notebook__.ipynb",
   "output_path": "__notebook__.ipynb",
   "parameters": {},
   "start_time": "2023-04-04T18:52:44.070880",
   "version": "2.4.0"
  },
  "vscode": {
   "interpreter": {
    "hash": "3b1534848ab4d51b546c1e1edf85918024668dbfd34c229000424be35e362e10"
   }
  }
 },
 "nbformat": 4,
 "nbformat_minor": 5
}
