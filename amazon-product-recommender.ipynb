{
 "cells": [
  {
   "cell_type": "markdown",
   "id": "856544fd",
   "metadata": {},
   "source": [
    "import and pip necessary libraries"
   ]
  },
  {
   "cell_type": "code",
   "execution_count": 1,
   "id": "3f944967",
   "metadata": {},
   "outputs": [
    {
     "name": "stdout",
     "output_type": "stream",
     "text": [
      "Looking in indexes: https://pypi.org/simple, https://pip.repos.neuron.amazonaws.com\n",
      "Requirement already satisfied: scikit-surprise in /home/ec2-user/anaconda3/envs/amazonei_mxnet_p36/lib/python3.6/site-packages (1.1.1)\n",
      "Requirement already satisfied: scipy>=1.0.0 in /home/ec2-user/anaconda3/envs/amazonei_mxnet_p36/lib/python3.6/site-packages (from scikit-surprise) (1.5.3)\n",
      "Requirement already satisfied: joblib>=0.11 in /home/ec2-user/anaconda3/envs/amazonei_mxnet_p36/lib/python3.6/site-packages (from scikit-surprise) (1.1.1)\n",
      "Requirement already satisfied: numpy>=1.11.2 in /home/ec2-user/anaconda3/envs/amazonei_mxnet_p36/lib/python3.6/site-packages (from scikit-surprise) (1.19.5)\n",
      "Requirement already satisfied: six>=1.10.0 in /home/ec2-user/anaconda3/envs/amazonei_mxnet_p36/lib/python3.6/site-packages (from scikit-surprise) (1.15.0)\n"
     ]
    }
   ],
   "source": [
    "import pandas as pd \n",
    "import time\n",
    "import matplotlib.pyplot as plt\n",
    "import seaborn as sns\n",
    "import numpy as np\n",
    "from datetime import datetime\n",
    "\n",
    "! pip install scikit-surprise\n",
    "from surprise import Dataset, Reader\n",
    "from surprise import KNNBasic\n",
    "from surprise import KNNBaseline\n",
    "from surprise.model_selection import cross_validate, train_test_split\n",
    "from surprise import accuracy\n",
    "from surprise.model_selection import GridSearchCV\n",
    "from surprise import SVD\n",
    "from surprise.model_selection import cross_validate"
   ]
  },
  {
   "cell_type": "markdown",
   "id": "787c5a4b",
   "metadata": {},
   "source": [
    "Read Data"
   ]
  },
  {
   "cell_type": "code",
   "execution_count": 2,
   "id": "37042713",
   "metadata": {},
   "outputs": [
    {
     "data": {
      "text/html": [
       "<div>\n",
       "<style scoped>\n",
       "    .dataframe tbody tr th:only-of-type {\n",
       "        vertical-align: middle;\n",
       "    }\n",
       "\n",
       "    .dataframe tbody tr th {\n",
       "        vertical-align: top;\n",
       "    }\n",
       "\n",
       "    .dataframe thead th {\n",
       "        text-align: right;\n",
       "    }\n",
       "</style>\n",
       "<table border=\"1\" class=\"dataframe\">\n",
       "  <thead>\n",
       "    <tr style=\"text-align: right;\">\n",
       "      <th></th>\n",
       "      <th>userId</th>\n",
       "      <th>productId</th>\n",
       "      <th>rating</th>\n",
       "      <th>timestamp</th>\n",
       "    </tr>\n",
       "  </thead>\n",
       "  <tbody>\n",
       "    <tr>\n",
       "      <th>0</th>\n",
       "      <td>AKM1MP6P0OYPR</td>\n",
       "      <td>0132793040</td>\n",
       "      <td>5.0</td>\n",
       "      <td>1365811200</td>\n",
       "    </tr>\n",
       "    <tr>\n",
       "      <th>1</th>\n",
       "      <td>A2CX7LUOHB2NDG</td>\n",
       "      <td>0321732944</td>\n",
       "      <td>5.0</td>\n",
       "      <td>1341100800</td>\n",
       "    </tr>\n",
       "    <tr>\n",
       "      <th>2</th>\n",
       "      <td>A2NWSAGRHCP8N5</td>\n",
       "      <td>0439886341</td>\n",
       "      <td>1.0</td>\n",
       "      <td>1367193600</td>\n",
       "    </tr>\n",
       "    <tr>\n",
       "      <th>3</th>\n",
       "      <td>A2WNBOD3WNDNKT</td>\n",
       "      <td>0439886341</td>\n",
       "      <td>3.0</td>\n",
       "      <td>1374451200</td>\n",
       "    </tr>\n",
       "    <tr>\n",
       "      <th>4</th>\n",
       "      <td>A1GI0U4ZRJA8WN</td>\n",
       "      <td>0439886341</td>\n",
       "      <td>1.0</td>\n",
       "      <td>1334707200</td>\n",
       "    </tr>\n",
       "  </tbody>\n",
       "</table>\n",
       "</div>"
      ],
      "text/plain": [
       "           userId   productId  rating   timestamp\n",
       "0   AKM1MP6P0OYPR  0132793040     5.0  1365811200\n",
       "1  A2CX7LUOHB2NDG  0321732944     5.0  1341100800\n",
       "2  A2NWSAGRHCP8N5  0439886341     1.0  1367193600\n",
       "3  A2WNBOD3WNDNKT  0439886341     3.0  1374451200\n",
       "4  A1GI0U4ZRJA8WN  0439886341     1.0  1334707200"
      ]
     },
     "execution_count": 2,
     "metadata": {},
     "output_type": "execute_result"
    }
   ],
   "source": [
    "df = pd.read_csv(\"ratings_Electronics.csv\", names=[\"userId\", \"productId\", \"rating\", \"timestamp\"])  \n",
    "df.head() "
   ]
  },
  {
   "cell_type": "code",
   "execution_count": 3,
   "id": "108c521e",
   "metadata": {},
   "outputs": [
    {
     "name": "stdout",
     "output_type": "stream",
     "text": [
      "<class 'pandas.core.frame.DataFrame'>\n",
      "RangeIndex: 7824482 entries, 0 to 7824481\n",
      "Data columns (total 4 columns):\n",
      " #   Column     Dtype  \n",
      "---  ------     -----  \n",
      " 0   userId     object \n",
      " 1   productId  object \n",
      " 2   rating     float64\n",
      " 3   timestamp  int64  \n",
      "dtypes: float64(1), int64(1), object(2)\n",
      "memory usage: 238.8+ MB\n",
      "None\n",
      "             rating     timestamp\n",
      "count  7.824482e+06  7.824482e+06\n",
      "mean   4.012337e+00  1.338178e+09\n",
      "std    1.380910e+00  6.900426e+07\n",
      "min    1.000000e+00  9.127296e+08\n",
      "25%    3.000000e+00  1.315354e+09\n",
      "50%    5.000000e+00  1.361059e+09\n",
      "75%    5.000000e+00  1.386115e+09\n",
      "max    5.000000e+00  1.406074e+09\n"
     ]
    }
   ],
   "source": [
    "# Display dataset information and basic statistics\n",
    "print(df.info())\n",
    "print(df.describe())"
   ]
  },
  {
   "cell_type": "markdown",
   "id": "e18a9ed6",
   "metadata": {},
   "source": [
    "Data Preprocess"
   ]
  },
  {
   "cell_type": "code",
   "execution_count": 4,
   "id": "4a83c83d",
   "metadata": {},
   "outputs": [
    {
     "name": "stdout",
     "output_type": "stream",
     "text": [
      "Missing values:\n",
      " userId       0\n",
      "productId    0\n",
      "rating       0\n",
      "timestamp    0\n",
      "dtype: int64\n",
      "Duplicate rows:\n",
      " 0\n"
     ]
    }
   ],
   "source": [
    "# Check for missing values\n",
    "print(\"Missing values:\\n\", df.isnull().sum())\n",
    "\n",
    "# Check for duplicate rows\n",
    "print(\"Duplicate rows:\\n\", df.duplicated().sum())"
   ]
  },
  {
   "cell_type": "code",
   "execution_count": 5,
   "id": "455c752d",
   "metadata": {},
   "outputs": [],
   "source": [
    "# Drop duplicate rows, if any\n",
    "df = df.drop_duplicates()"
   ]
  },
  {
   "cell_type": "code",
   "execution_count": 6,
   "id": "f476ac95",
   "metadata": {},
   "outputs": [
    {
     "data": {
      "image/png": "[encoded data removed]",
      "text/plain": [
       "<Figure size 576x432 with 1 Axes>"
      ]
     },
     "metadata": {
      "needs_background": "light"
     },
     "output_type": "display_data"
    }
   ],
   "source": [
    "# Explore the distribution of ratings\n",
    "plt.figure(figsize=(8, 6))\n",
    "sns.countplot(data=df, x='rating', palette='viridis')\n",
    "plt.title('Distribution of Ratings')\n",
    "plt.xlabel('Rating')\n",
    "plt.ylabel('Frequency')\n",
    "plt.show()"
   ]
  },
  {
   "cell_type": "markdown",
   "id": "aaa50d8b",
   "metadata": {},
   "source": [
    "Data Filter"
   ]
  },
  {
   "cell_type": "code",
   "execution_count": 7,
   "id": "3bea68e2",
   "metadata": {},
   "outputs": [
    {
     "data": {
      "image/png": "[encoded data removed]",
      "text/plain": [
       "<Figure size 1152x432 with 1 Axes>"
      ]
     },
     "metadata": {
      "needs_background": "light"
     },
     "output_type": "display_data"
    }
   ],
   "source": [
    "# Explore the number of ratings per user\n",
    "user_ratings_count = df['userId'].value_counts()\n",
    "plt.figure(figsize=(16, 6))\n",
    "sns.histplot(user_ratings_count, kde=False, bins=100, log_scale=(False, True))\n",
    "plt.title('Number of Ratings per User (Logarithmic Scale on Y-axis)')\n",
    "plt.xlabel('Number of Ratings')\n",
    "plt.ylabel('User Count (Logarithmic Scale)')\n",
    "plt.xlim(0, user_ratings_count.max())\n",
    "plt.show()"
   ]
  },
  {
   "cell_type": "code",
   "execution_count": 8,
   "id": "9fc07e56",
   "metadata": {},
   "outputs": [
    {
     "data": {
      "image/png": "[encoded data removed]",
      "text/plain": [
       "<Figure size 1152x432 with 1 Axes>"
      ]
     },
     "metadata": {
      "needs_background": "light"
     },
     "output_type": "display_data"
    }
   ],
   "source": [
    "# Explore the number of ratings per product\n",
    "product_ratings_count = df['productId'].value_counts()\n",
    "plt.figure(figsize=(16, 6))\n",
    "sns.histplot(product_ratings_count, kde=False, bins=100, log_scale=(False, True))\n",
    "plt.title('Number of Ratings per Product (Logarithmic Scale on Y-axis)')\n",
    "plt.xlabel('Number of Ratings')\n",
    "plt.ylabel('Product Count (Logarithmic Scale)')\n",
    "plt.xlim(0, product_ratings_count.max())\n",
    "plt.show()"
   ]
  },
  {
   "cell_type": "code",
   "execution_count": 9,
   "id": "9a7e519a",
   "metadata": {},
   "outputs": [
    {
     "name": "stdout",
     "output_type": "stream",
     "text": [
      "Original data shape: (7824482, 4)\n",
      "Filtered data shape: (1828344, 4)\n"
     ]
    }
   ],
   "source": [
    "# Filter users and products with a minimum number of ratings\n",
    "# we set min user ratings as 5 and min product ratings as 10\n",
    "min_user_ratings = 5\n",
    "min_product_ratings = 20\n",
    "\n",
    "filtered_users = user_ratings_count[user_ratings_count >= min_user_ratings].index\n",
    "filtered_products = product_ratings_count[product_ratings_count >= min_product_ratings].index\n",
    "\n",
    "filtered_data = df[(df['userId'].isin(filtered_users)) & (df['productId'].isin(filtered_products))]\n",
    "\n",
    "# Print the shape of the original and filtered data\n",
    "print(f\"Original data shape: {df.shape}\")\n",
    "print(f\"Filtered data shape: {filtered_data.shape}\")"
   ]
  },
  {
   "cell_type": "markdown",
   "id": "89f5fc2c",
   "metadata": {},
   "source": [
    "EDA"
   ]
  },
  {
   "cell_type": "code",
   "execution_count": 10,
   "id": "c953f74e",
   "metadata": {},
   "outputs": [
    {
     "name": "stdout",
     "output_type": "stream",
     "text": [
      "Data shape: (1828344, 4)\n",
      "\n",
      "Data types:\n",
      " userId        object\n",
      "productId     object\n",
      "rating       float64\n",
      "timestamp      int64\n",
      "dtype: object\n",
      "\n",
      "Missing values:\n",
      " userId       0\n",
      "productId    0\n",
      "rating       0\n",
      "timestamp    0\n",
      "dtype: int64\n"
     ]
    }
   ],
   "source": [
    "# basic data information\n",
    "print(\"Data shape:\", filtered_data.shape)\n",
    "print(\"\\nData types:\\n\", filtered_data.dtypes)\n",
    "print(\"\\nMissing values:\\n\", filtered_data.isnull().sum())"
   ]
  },
  {
   "cell_type": "code",
   "execution_count": 11,
   "id": "fa56d1e9",
   "metadata": {},
   "outputs": [
    {
     "name": "stdout",
     "output_type": "stream",
     "text": [
      "\n",
      "Summary statistics for numerical features:\n",
      "              rating     timestamp\n",
      "count  1.828344e+06  1.828344e+06\n",
      "mean   4.209477e+00  1.340618e+09\n",
      "std    1.200339e+00  6.384993e+07\n",
      "min    1.000000e+00  9.292320e+08\n",
      "25%    4.000000e+00  1.318464e+09\n",
      "50%    5.000000e+00  1.361059e+09\n",
      "75%    5.000000e+00  1.385251e+09\n",
      "max    5.000000e+00  1.406074e+09\n",
      "\n",
      "Frequency distribution for categorical features:\n",
      "\n",
      "userId:\n",
      "ADLVFFE4VBT8      395\n",
      "A3OXHLG6DIBRW8    375\n",
      "A6FIAB28IS79      352\n",
      "A5JLAU2ARJ0BO     329\n",
      "A680RUE1FDO8B     325\n",
      "                 ... \n",
      "ACFY333M2KDBO       1\n",
      "A3DDU7E893MEJG      1\n",
      "A1M7376BKSSLR3      1\n",
      "A22JQ5VSW1RML8      1\n",
      "A1QDNA03IMP9CQ      1\n",
      "Name: userId, Length: 253613, dtype: int64\n",
      "\n",
      "productId:\n",
      "B007WTAJTO    5483\n",
      "B003ES5ZUU    4480\n",
      "B00DR0PDNE    4283\n",
      "B0019EHU8G    3836\n",
      "B002WE6D44    3107\n",
      "              ... \n",
      "B005GM5OXA       1\n",
      "B003L9WPUU       1\n",
      "B003MG07O8       1\n",
      "B004G5NC6E       1\n",
      "B0011FV3PY       1\n",
      "Name: productId, Length: 57586, dtype: int64\n"
     ]
    }
   ],
   "source": [
    "# data statistics information\n",
    "print(\"\\nSummary statistics for numerical features:\\n\", filtered_data.describe())\n",
    "\n",
    "print(\"\\nFrequency distribution for categorical features:\")\n",
    "for col in filtered_data.select_dtypes(include=['object']):\n",
    "    print(f\"\\n{col}:\\n{filtered_data[col].value_counts()}\")"
   ]
  },
  {
   "cell_type": "code",
   "execution_count": 12,
   "id": "2209b5fb",
   "metadata": {},
   "outputs": [
    {
     "name": "stdout",
     "output_type": "stream",
     "text": [
      "Number of unique users: 253613\n",
      "Number of unique products: 57586\n"
     ]
    }
   ],
   "source": [
    "# check unique values\n",
    "print(f\"Number of unique users: {filtered_data['userId'].nunique()}\")\n",
    "print(f\"Number of unique products: {filtered_data['productId'].nunique()}\")"
   ]
  },
  {
   "cell_type": "code",
   "execution_count": 13,
   "id": "8566a017",
   "metadata": {},
   "outputs": [
    {
     "data": {
      "image/png": "[encoded data removed]",
      "text/plain": [
       "<Figure size 720x432 with 1 Axes>"
      ]
     },
     "metadata": {
      "needs_background": "light"
     },
     "output_type": "display_data"
    },
    {
     "data": {
      "image/png": "[encoded data removed]",
      "text/plain": [
       "<Figure size 720x432 with 1 Axes>"
      ]
     },
     "metadata": {
      "needs_background": "light"
     },
     "output_type": "display_data"
    }
   ],
   "source": [
    "product_rating_agg = filtered_data.groupby('productId')['rating'].agg(['mean', 'count']).reset_index()\n",
    "\n",
    "user_rating_agg = filtered_data.groupby('userId')['rating'].agg(['mean', 'count']).reset_index()\n",
    "\n",
    "plt.figure(figsize=(10, 6))\n",
    "sns.histplot(user_rating_agg['mean'], bins=50, kde=False)\n",
    "plt.title('Distribution of Average Ratings per User')\n",
    "plt.xlabel('Average Rating')\n",
    "plt.ylabel('Frequency')\n",
    "plt.show()\n",
    "\n",
    "plt.figure(figsize=(10, 6))\n",
    "sns.histplot(product_rating_agg['mean'], bins=50, kde=False)\n",
    "plt.title('Distribution of Average Ratings per Product')\n",
    "plt.xlabel('Average Rating')\n",
    "plt.ylabel('Frequency')\n",
    "plt.show()"
   ]
  },
  {
   "cell_type": "code",
   "execution_count": 14,
   "id": "21083351",
   "metadata": {},
   "outputs": [
    {
     "data": {
      "image/png": "[encoded data removed]",
      "text/plain": [
       "<Figure size 720x432 with 1 Axes>"
      ]
     },
     "metadata": {
      "needs_background": "light"
     },
     "output_type": "display_data"
    },
    {
     "data": {
      "image/png": "[encoded data removed]",
      "text/plain": [
       "<Figure size 720x432 with 1 Axes>"
      ]
     },
     "metadata": {
      "needs_background": "light"
     },
     "output_type": "display_data"
    },
    {
     "data": {
      "image/png": "[encoded data removed]",
      "text/plain": [
       "<Figure size 720x432 with 1 Axes>"
      ]
     },
     "metadata": {
      "needs_background": "light"
     },
     "output_type": "display_data"
    }
   ],
   "source": [
    "data_with_datetime = filtered_data.copy()\n",
    "\n",
    "# Convert the 'timestamp' column to a datetime object\n",
    "data_with_datetime['datetime'] = data_with_datetime['timestamp'].apply(lambda x: datetime.fromtimestamp(x))\n",
    "\n",
    "# Extract year, month, day, and hour information\n",
    "data_with_datetime['year'] = data_with_datetime['datetime'].dt.year\n",
    "data_with_datetime['month'] = data_with_datetime['datetime'].dt.month\n",
    "data_with_datetime['day'] = data_with_datetime['datetime'].dt.day\n",
    "\n",
    "\n",
    "\n",
    "# Visualize the distribution of ratings by year, month, day, and hour\n",
    "plt.figure(figsize=(10, 6))\n",
    "sns.countplot(x='year', data=data_with_datetime)\n",
    "plt.title('Number of Ratings by Year')\n",
    "plt.xlabel('Year')\n",
    "plt.ylabel('Frequency')\n",
    "plt.show()\n",
    "\n",
    "plt.figure(figsize=(10, 6))\n",
    "sns.countplot(x='month', data=data_with_datetime)\n",
    "plt.title('Number of Ratings by Month')\n",
    "plt.xlabel('Month')\n",
    "plt.ylabel('Frequency')\n",
    "plt.show()\n",
    "\n",
    "plt.figure(figsize=(10, 6))\n",
    "sns.countplot(x='day', data=data_with_datetime)\n",
    "plt.title('Number of Ratings by Day of Month')\n",
    "plt.xlabel('Day')\n",
    "plt.ylabel('Frequency')\n",
    "plt.show()"
   ]
  },
  {
   "cell_type": "markdown",
   "id": "503d2c6f",
   "metadata": {},
   "source": [
    "Item-Item Collaborative Filtering model"
   ]
  },
  {
   "cell_type": "markdown",
   "id": "8ed56d0f",
   "metadata": {},
   "source": [
    "Transfer data into Surprise format, and split train and test data"
   ]
  },
  {
   "cell_type": "code",
   "execution_count": 15,
   "id": "80bb5ec4",
   "metadata": {},
   "outputs": [],
   "source": [
    "reader = Reader(rating_scale=(1, 5))\n",
    "\n",
    "surprise_data = Dataset.load_from_df(filtered_data[['userId', 'productId', 'rating']], reader)\n",
    "\n",
    "trainset, testset = train_test_split(surprise_data, test_size=0.3, random_state=42)"
   ]
  },
  {
   "cell_type": "markdown",
   "id": "3b0c98c2",
   "metadata": {},
   "source": [
    "Basic KNN"
   ]
  },
  {
   "cell_type": "code",
   "execution_count": 16,
   "id": "f4cafe2b",
   "metadata": {},
   "outputs": [
    {
     "name": "stdout",
     "output_type": "stream",
     "text": [
      "Computing the cosine similarity matrix...\n",
      "Done computing similarity matrix.\n",
      "Elapsed time: 132.31 seconds\n",
      "MAE:  0.8987\n",
      "MSE: 1.6284\n",
      "RMSE: 1.2761\n"
     ]
    }
   ],
   "source": [
    "'''\n",
    "param_grid = {\n",
    "    'k': [10, 20, 30, 40, 50],\n",
    "    'sim_options': {\n",
    "        'name': ['cosine'],\n",
    "        'user_based': [False]\n",
    "    }\n",
    "}\n",
    "gs = GridSearchCV(KNNBasic, param_grid, measures=['rmse', 'mae'], cv=5, n_jobs=-1)\n",
    "gs.fit(surprise_data)\n",
    "best_params = gs.best_params['rmse']\n",
    "best_scores = gs.best_score['rmse']\n",
    "print(\"Best parameters:\", best_params)\n",
    "print(\"Best RMSE:\", best_scores)\n",
    "'''\n",
    "# Record the start time\n",
    "start_time = time.time()\n",
    "\n",
    "# Train the basic KNN model\n",
    "basic_knn = KNNBasic(k=10, sim_options={'name': 'cosine', 'user_based': False})\n",
    "basic_knn.fit(trainset)\n",
    "\n",
    "# Calculate and print the elapsed time\n",
    "elapsed_time = time.time() - start_time\n",
    "print(f\"Elapsed time: {elapsed_time:.2f} seconds\")\n",
    "\n",
    "# Test the model on the test set\n",
    "predictions = basic_knn.test(testset)\n",
    "\n",
    "# Calculate the accuracy measures\n",
    "mae = accuracy.mae(predictions)\n",
    "mse = accuracy.mse(predictions)\n",
    "rmse = accuracy.rmse(predictions)"
   ]
  },
  {
   "cell_type": "markdown",
   "id": "72ed7917",
   "metadata": {},
   "source": [
    "KNN Baseline"
   ]
  },
  {
   "cell_type": "code",
   "execution_count": 17,
   "id": "8c474fcc",
   "metadata": {},
   "outputs": [
    {
     "name": "stdout",
     "output_type": "stream",
     "text": [
      "Estimating biases using als...\n",
      "Computing the cosine similarity matrix...\n",
      "Done computing similarity matrix.\n",
      "Elapsed time: 135.68 seconds\n",
      "MAE:  0.8565\n",
      "MSE: 1.4343\n",
      "RMSE: 1.1976\n"
     ]
    }
   ],
   "source": [
    "'''\n",
    "gs_base = GridSearchCV(KNNBaseline, param_grid, measures=['rmse', 'mae'], cv=5, n_jobs=-1)\n",
    "gs_base.fit(surprise_data)\n",
    "best_params = gs_base.best_params['rmse']\n",
    "best_scores = gs_base.best_score['rmse']\n",
    "print(\"Best parameters:\", best_params)\n",
    "print(\"Best RMSE:\", best_scores)\n",
    "'''\n",
    "\n",
    "# Record the start time\n",
    "start_time = time.time()\n",
    "\n",
    "# Train the best k-NN model using the best parameters\n",
    "base_knn = KNNBaseline(k=10, sim_options={'name': 'cosine', 'user_based': False})\n",
    "base_knn.fit(trainset)\n",
    "\n",
    "# Calculate and print the elapsed time\n",
    "elapsed_time = time.time() - start_time\n",
    "print(f\"Elapsed time: {elapsed_time:.2f} seconds\")\n",
    "\n",
    "# Test the model on the test set\n",
    "predictions = base_knn.test(testset)\n",
    "\n",
    "# Calculate the accuracy measures\n",
    "mae = accuracy.mae(predictions)\n",
    "mse = accuracy.mse(predictions)\n",
    "rmse = accuracy.rmse(predictions)"
   ]
  },
  {
   "cell_type": "markdown",
   "id": "479f7da1",
   "metadata": {},
   "source": [
    "SVD"
   ]
  },
  {
   "cell_type": "code",
   "execution_count": 18,
   "id": "3f833570",
   "metadata": {},
   "outputs": [
    {
     "name": "stdout",
     "output_type": "stream",
     "text": [
      "Evaluating RMSE, MAE of algorithm SVD on 3 split(s).\n",
      "\n",
      "                  Fold 1  Fold 2  Fold 3  Mean    Std     \n",
      "RMSE (testset)    1.1221  1.1231  1.1229  1.1227  0.0004  \n",
      "MAE (testset)     0.8394  0.8406  0.8406  0.8402  0.0006  \n",
      "Fit time          68.70   69.47   69.28   69.15   0.33    \n",
      "Test time         6.44    6.39    6.26    6.36    0.07    \n"
     ]
    },
    {
     "data": {
      "text/html": [
       "<div>\n",
       "<style scoped>\n",
       "    .dataframe tbody tr th:only-of-type {\n",
       "        vertical-align: middle;\n",
       "    }\n",
       "\n",
       "    .dataframe tbody tr th {\n",
       "        vertical-align: top;\n",
       "    }\n",
       "\n",
       "    .dataframe thead th {\n",
       "        text-align: right;\n",
       "    }\n",
       "</style>\n",
       "<table border=\"1\" class=\"dataframe\">\n",
       "  <thead>\n",
       "    <tr style=\"text-align: right;\">\n",
       "      <th></th>\n",
       "      <th>Model</th>\n",
       "      <th>RMSE</th>\n",
       "      <th>MAE</th>\n",
       "      <th>Fit Time</th>\n",
       "      <th>Test Time</th>\n",
       "    </tr>\n",
       "  </thead>\n",
       "  <tbody>\n",
       "    <tr>\n",
       "      <th>0</th>\n",
       "      <td>SVD</td>\n",
       "      <td>1.122689</td>\n",
       "      <td>0.840215</td>\n",
       "      <td>69.152889</td>\n",
       "      <td>6.363325</td>\n",
       "    </tr>\n",
       "  </tbody>\n",
       "</table>\n",
       "</div>"
      ],
      "text/plain": [
       "  Model      RMSE       MAE   Fit Time  Test Time\n",
       "0   SVD  1.122689  0.840215  69.152889   6.363325"
      ]
     },
     "execution_count": 18,
     "metadata": {},
     "output_type": "execute_result"
    }
   ],
   "source": [
    "#svd_model = SVD(n_epochs=20, lr_all=0.005, reg_all=0.2)\n",
    "svd_model = SVD()\n",
    "\n",
    "# Training the algorithm on the trainset\n",
    "svd_model.fit(trainset)\n",
    "\n",
    "# Predicting for test set\n",
    "predictions_svd = svd_model.test(testset)\n",
    "\n",
    "# Evaluating RMSE, MAE of algorithm SVD on 3 split(s) by cross validation\n",
    "svd_cv = cross_validate(svd_model, surprise_data, measures=['RMSE', 'MAE'], cv=3, verbose=True)\n",
    "\n",
    "# Storing Crossvalidation Results in dataframe\n",
    "svd_df = pd.DataFrame.from_dict(svd_cv)\n",
    "svd_described = svd_df.describe()\n",
    "svd_results = pd.DataFrame([['SVD', svd_described['test_rmse']['mean'], svd_described['test_mae']['mean'], \n",
    "                           svd_described['fit_time']['mean'], svd_described['test_time']['mean']]],\n",
    "                            columns = ['Model', 'RMSE', 'MAE', 'Fit Time', 'Test Time'])\n",
    "svd_results"
   ]
  },
  {
   "cell_type": "code",
   "execution_count": null,
   "id": "db9bb09f",
   "metadata": {},
   "outputs": [],
   "source": []
  }
 ],
 "metadata": {
  "kernelspec": {
   "display_name": "conda_amazonei_mxnet_p36",
   "language": "python",
   "name": "conda_amazonei_mxnet_p36"
  },
  "language_info": {
   "codemirror_mode": {
    "name": "ipython",
    "version": 3
   },
   "file_extension": ".py",
   "mimetype": "text/x-python",
   "name": "python",
   "nbconvert_exporter": "python",
   "pygments_lexer": "ipython3",
   "version": "3.6.13"
  }
 },
 "nbformat": 4,
 "nbformat_minor": 5
}
