{
 "cells": [
  {
   "cell_type": "markdown",
   "id": "8582e711",
   "metadata": {},
   "source": [
    "import and pip necessary libraries"
   ]
  },
  {
   "cell_type": "code",
   "execution_count": 2,
   "id": "905614ce",
   "metadata": {},
   "outputs": [
    {
     "name": "stdout",
     "output_type": "stream",
     "text": [
      "Looking in indexes: https://pypi.org/simple, https://pip.repos.neuron.amazonaws.com\n",
      "Requirement already satisfied: scikit-surprise in /home/ec2-user/anaconda3/envs/amazonei_mxnet_p36/lib/python3.6/site-packages (1.1.1)\n",
      "Requirement already satisfied: six>=1.10.0 in /home/ec2-user/anaconda3/envs/amazonei_mxnet_p36/lib/python3.6/site-packages (from scikit-surprise) (1.15.0)\n",
      "Requirement already satisfied: joblib>=0.11 in /home/ec2-user/anaconda3/envs/amazonei_mxnet_p36/lib/python3.6/site-packages (from scikit-surprise) (1.1.1)\n",
      "Requirement already satisfied: scipy>=1.0.0 in /home/ec2-user/anaconda3/envs/amazonei_mxnet_p36/lib/python3.6/site-packages (from scikit-surprise) (1.5.3)\n",
      "Requirement already satisfied: numpy>=1.11.2 in /home/ec2-user/anaconda3/envs/amazonei_mxnet_p36/lib/python3.6/site-packages (from scikit-surprise) (1.19.5)\n"
     ]
    }
   ],
   "source": [
    "import pandas as pd \n",
    "import time\n",
    "import matplotlib.pyplot as plt\n",
    "import numpy as np\n",
    "\n",
    "! pip install scikit-surprise\n",
    "from surprise import Dataset, Reader\n",
    "from surprise import KNNBasic\n",
    "from surprise import KNNBaseline\n",
    "from surprise.model_selection import cross_validate, train_test_split\n",
    "from surprise import accuracy\n",
    "from surprise.model_selection import GridSearchCV\n",
    "from surprise import SVD, SVDpp\n",
    "from surprise.model_selection import cross_validate\n",
    "from surprise.model_selection import KFold"
   ]
  },
  {
   "cell_type": "code",
   "execution_count": 3,
   "id": "7f85a44a",
   "metadata": {},
   "outputs": [
    {
     "data": {
      "text/html": [
       "<div>\n",
       "<style scoped>\n",
       "    .dataframe tbody tr th:only-of-type {\n",
       "        vertical-align: middle;\n",
       "    }\n",
       "\n",
       "    .dataframe tbody tr th {\n",
       "        vertical-align: top;\n",
       "    }\n",
       "\n",
       "    .dataframe thead th {\n",
       "        text-align: right;\n",
       "    }\n",
       "</style>\n",
       "<table border=\"1\" class=\"dataframe\">\n",
       "  <thead>\n",
       "    <tr style=\"text-align: right;\">\n",
       "      <th></th>\n",
       "      <th>userId</th>\n",
       "      <th>productId</th>\n",
       "      <th>rating</th>\n",
       "      <th>timestamp</th>\n",
       "    </tr>\n",
       "  </thead>\n",
       "  <tbody>\n",
       "    <tr>\n",
       "      <th>0</th>\n",
       "      <td>AO94DHGC771SJ</td>\n",
       "      <td>0528881469</td>\n",
       "      <td>5.0</td>\n",
       "      <td>1370131200</td>\n",
       "    </tr>\n",
       "    <tr>\n",
       "      <th>1</th>\n",
       "      <td>AMO214LNFCEI4</td>\n",
       "      <td>0528881469</td>\n",
       "      <td>1.0</td>\n",
       "      <td>1290643200</td>\n",
       "    </tr>\n",
       "    <tr>\n",
       "      <th>2</th>\n",
       "      <td>A3N7T0DY83Y4IG</td>\n",
       "      <td>0528881469</td>\n",
       "      <td>3.0</td>\n",
       "      <td>1283990400</td>\n",
       "    </tr>\n",
       "    <tr>\n",
       "      <th>3</th>\n",
       "      <td>A1H8PY3QHMQQA0</td>\n",
       "      <td>0528881469</td>\n",
       "      <td>2.0</td>\n",
       "      <td>1290556800</td>\n",
       "    </tr>\n",
       "    <tr>\n",
       "      <th>4</th>\n",
       "      <td>A24EV6RXELQZ63</td>\n",
       "      <td>0528881469</td>\n",
       "      <td>1.0</td>\n",
       "      <td>1317254400</td>\n",
       "    </tr>\n",
       "  </tbody>\n",
       "</table>\n",
       "</div>"
      ],
      "text/plain": [
       "           userId   productId  rating   timestamp\n",
       "0   AO94DHGC771SJ  0528881469     5.0  1370131200\n",
       "1   AMO214LNFCEI4  0528881469     1.0  1290643200\n",
       "2  A3N7T0DY83Y4IG  0528881469     3.0  1283990400\n",
       "3  A1H8PY3QHMQQA0  0528881469     2.0  1290556800\n",
       "4  A24EV6RXELQZ63  0528881469     1.0  1317254400"
      ]
     },
     "execution_count": 3,
     "metadata": {},
     "output_type": "execute_result"
    }
   ],
   "source": [
    "filtered_data = pd.read_csv(\"filtered_data.csv\")\n",
    "filtered_data.head() "
   ]
  },
  {
   "cell_type": "code",
   "execution_count": 4,
   "id": "e419e36a",
   "metadata": {},
   "outputs": [
    {
     "name": "stdout",
     "output_type": "stream",
     "text": [
      "<class 'pandas.core.frame.DataFrame'>\n",
      "RangeIndex: 1828344 entries, 0 to 1828343\n",
      "Data columns (total 4 columns):\n",
      " #   Column     Dtype  \n",
      "---  ------     -----  \n",
      " 0   userId     object \n",
      " 1   productId  object \n",
      " 2   rating     float64\n",
      " 3   timestamp  int64  \n",
      "dtypes: float64(1), int64(1), object(2)\n",
      "memory usage: 55.8+ MB\n",
      "None\n",
      "             rating     timestamp\n",
      "count  1.828344e+06  1.828344e+06\n",
      "mean   4.209477e+00  1.340618e+09\n",
      "std    1.200339e+00  6.384993e+07\n",
      "min    1.000000e+00  9.292320e+08\n",
      "25%    4.000000e+00  1.318464e+09\n",
      "50%    5.000000e+00  1.361059e+09\n",
      "75%    5.000000e+00  1.385251e+09\n",
      "max    5.000000e+00  1.406074e+09\n"
     ]
    }
   ],
   "source": [
    "# Display dataset information and basic statistics\n",
    "print(filtered_data.info())\n",
    "print(filtered_data.describe())"
   ]
  },
  {
   "cell_type": "markdown",
   "id": "1ae2b65d",
   "metadata": {},
   "source": [
    "Data Preprocess"
   ]
  },
  {
   "cell_type": "markdown",
   "id": "2f36c0fd",
   "metadata": {},
   "source": [
    "Item-Item Collaborative Filtering model"
   ]
  },
  {
   "cell_type": "markdown",
   "id": "ac55aa70",
   "metadata": {},
   "source": [
    "Transfer data into Surprise format, and split train and test data"
   ]
  },
  {
   "cell_type": "code",
   "execution_count": 5,
   "id": "fb3efad7",
   "metadata": {},
   "outputs": [],
   "source": [
    "reader = Reader(rating_scale=(1, 5))\n",
    "\n",
    "surprise_data = Dataset.load_from_df(filtered_data[['userId', 'productId', 'rating']], reader)"
   ]
  },
  {
   "cell_type": "markdown",
   "id": "1dfc20d9",
   "metadata": {},
   "source": [
    "SVD and SVD++"
   ]
  },
  {
   "cell_type": "code",
   "execution_count": 5,
   "id": "d063c156",
   "metadata": {},
   "outputs": [
    {
     "name": "stderr",
     "output_type": "stream",
     "text": [
      "/home/ec2-user/anaconda3/envs/amazonei_mxnet_p36/lib/python3.6/site-packages/joblib/externals/loky/process_executor.py:705: UserWarning: A worker stopped while some jobs were given to the executor. This can be caused by a too short worker timeout or by a memory leak.\n",
      "  \"timeout or by a memory leak.\", UserWarning\n"
     ]
    },
    {
     "name": "stdout",
     "output_type": "stream",
     "text": [
      "Best parameters for SVD:  {'n_epochs': 10, 'lr_all': 0.005, 'reg_all': 0.2}\n",
      "Elapsed time: 1167.66 seconds\n"
     ]
    }
   ],
   "source": [
    "# Record the start time\n",
    "start_time = time.time()\n",
    "\n",
    "# Define the parameter grid for GridSearchCV\n",
    "param_grid = {\n",
    "    'n_epochs': [5, 10, 15],\n",
    "    'lr_all': [0.002, 0.005, 0.008],\n",
    "    'reg_all': [0.2, 0.4, 0.6]\n",
    "}\n",
    "\n",
    "# Perform GridSearchCV for SVD\n",
    "grid_search_svd = GridSearchCV(SVD, param_grid, measures=['rmse', 'mae'], cv=5, n_jobs=-1)\n",
    "grid_search_svd.fit(surprise_data)\n",
    "\n",
    "# Print the best parameters for SVD\n",
    "print(\"Best parameters for SVD: \", grid_search_svd.best_params['rmse'])\n",
    "\n",
    "elapsed_time = time.time() - start_time\n",
    "print(f\"Elapsed time: {elapsed_time:.2f} seconds\")"
   ]
  },
  {
   "cell_type": "code",
   "execution_count": 6,
   "id": "d9e34ef2",
   "metadata": {},
   "outputs": [
    {
     "name": "stdout",
     "output_type": "stream",
     "text": [
      "Best parameters for SVD++:  {'n_epochs': 10, 'lr_all': 0.005, 'reg_all': 0.2}\n",
      "Elapsed time: 1260.62 seconds\n"
     ]
    }
   ],
   "source": [
    "# Record the start time\n",
    "start_time = time.time()\n",
    "\n",
    "# Perform GridSearchCV for SVD++\n",
    "grid_search_svdpp = GridSearchCV(SVDpp, param_grid, measures=['rmse', 'mae'], cv=5, n_jobs=-1)\n",
    "grid_search_svdpp.fit(surprise_data)\n",
    "\n",
    "# Print the best parameters for SVD++\n",
    "print(\"Best parameters for SVD++: \", grid_search_svdpp.best_params['rmse'])\n",
    "\n",
    "elapsed_time = time.time() - start_time\n",
    "print(f\"Elapsed time: {elapsed_time:.2f} seconds\")"
   ]
  },
  {
   "cell_type": "code",
   "execution_count": 7,
   "id": "e166e93c",
   "metadata": {},
   "outputs": [
    {
     "name": "stdout",
     "output_type": "stream",
     "text": [
      "Evaluating RMSE, MAE of algorithm SVD on 5 split(s).\n",
      "\n",
      "                  Fold 1  Fold 2  Fold 3  Fold 4  Fold 5  Mean    Std     \n",
      "RMSE (testset)    1.1227  1.1191  1.1180  1.1199  1.1178  1.1195  0.0018  \n",
      "MAE (testset)     0.8529  0.8508  0.8495  0.8518  0.8504  0.8511  0.0012  \n",
      "Fit time          40.21   41.25   41.19   41.35   41.19   41.04   0.42    \n",
      "Test time         4.02    4.49    4.42    4.06    3.92    4.18    0.23    \n",
      "Evaluating RMSE, MAE of algorithm SVDpp on 5 split(s).\n",
      "\n",
      "                  Fold 1  Fold 2  Fold 3  Fold 4  Fold 5  Mean    Std     \n",
      "RMSE (testset)    1.1190  1.1199  1.1155  1.1167  1.1171  1.1176  0.0016  \n",
      "MAE (testset)     0.8504  0.8508  0.8482  0.8492  0.8487  0.8495  0.0010  \n",
      "Fit time          143.26  141.25  143.91  141.45  142.18  142.41  1.03    \n",
      "Test time         10.02   9.13    9.32    9.23    9.30    9.40    0.32    \n",
      "Elapsed time: 1037.98 seconds\n"
     ]
    }
   ],
   "source": [
    "# Record the start time\n",
    "start_time = time.time()\n",
    "\n",
    "# Cross-validate the best SVD model\n",
    "best_svd = SVD(**grid_search_svd.best_params['rmse'])\n",
    "cv_results_svd = cross_validate(best_svd, surprise_data, measures=['rmse', 'mae'], cv=5, verbose=True)\n",
    "\n",
    "# Cross-validate the best SVD++ model\n",
    "best_svdpp = SVDpp(**grid_search_svdpp.best_params['rmse'])\n",
    "cv_results_svdpp = cross_validate(best_svdpp, surprise_data, measures=['rmse', 'mae'], cv=5, verbose=True)\n",
    "\n",
    "elapsed_time = time.time() - start_time\n",
    "print(f\"Elapsed time: {elapsed_time:.2f} seconds\")"
   ]
  },
  {
   "cell_type": "markdown",
   "id": "335bdbe1",
   "metadata": {},
   "source": [
    "Basic KNN"
   ]
  },
  {
   "cell_type": "code",
   "execution_count": 8,
   "id": "880061c1",
   "metadata": {},
   "outputs": [
    {
     "name": "stdout",
     "output_type": "stream",
     "text": [
      "Computing the cosine similarity matrix...\n",
      "Done computing similarity matrix.\n",
      "Computing the cosine similarity matrix...\n",
      "Done computing similarity matrix.\n",
      "Computing the cosine similarity matrix...\n",
      "Done computing similarity matrix.\n",
      "Computing the cosine similarity matrix...\n",
      "Done computing similarity matrix.\n",
      "Computing the cosine similarity matrix...\n",
      "Done computing similarity matrix.\n",
      "Evaluating RMSE, MAE of algorithm KNNBasic on 5 split(s).\n",
      "\n",
      "                  Fold 1  Fold 2  Fold 3  Fold 4  Fold 5  Mean    Std     \n",
      "RMSE (testset)    1.2821  1.2831  1.2826  1.2809  1.2772  1.2812  0.0021  \n",
      "MAE (testset)     0.8937  0.8939  0.8931  0.8924  0.8902  0.8927  0.0013  \n",
      "Fit time          133.22  136.08  143.77  136.62  139.68  137.87  3.59    \n",
      "Test time         8.74    9.01    8.81    9.88    10.10   9.30    0.57    \n",
      "Elapsed time: 762.00 seconds\n"
     ]
    }
   ],
   "source": [
    "# Record the start time\n",
    "start_time = time.time()\n",
    "\n",
    "# Train the basic KNN model\n",
    "basic_knn = KNNBasic(k=10, sim_options={'name': 'cosine', 'user_based': False})\n",
    "\n",
    "# Run 5-fold cross-validation and print results.\n",
    "cross_validate(basic_knn, surprise_data, measures=['RMSE', 'MAE'], cv=5, verbose=True)\n",
    "\n",
    "elapsed_time = time.time() - start_time\n",
    "print(f\"Elapsed time: {elapsed_time:.2f} seconds\")"
   ]
  },
  {
   "cell_type": "markdown",
   "id": "07a22512",
   "metadata": {},
   "source": [
    "KNN Baseline"
   ]
  },
  {
   "cell_type": "code",
   "execution_count": 6,
   "id": "c848df35",
   "metadata": {},
   "outputs": [
    {
     "name": "stdout",
     "output_type": "stream",
     "text": [
      "Estimating biases using als...\n",
      "Computing the cosine similarity matrix...\n",
      "Done computing similarity matrix.\n",
      "Estimating biases using als...\n",
      "Computing the cosine similarity matrix...\n",
      "Done computing similarity matrix.\n",
      "Estimating biases using als...\n",
      "Computing the cosine similarity matrix...\n",
      "Done computing similarity matrix.\n",
      "Estimating biases using als...\n",
      "Computing the cosine similarity matrix...\n",
      "Done computing similarity matrix.\n",
      "Estimating biases using als...\n",
      "Computing the cosine similarity matrix...\n",
      "Done computing similarity matrix.\n",
      "Evaluating RMSE, MAE of algorithm KNNBaseline on 5 split(s).\n",
      "\n",
      "                  Fold 1  Fold 2  Fold 3  Fold 4  Fold 5  Mean    Std     \n",
      "RMSE (testset)    1.2025  1.1987  1.1990  1.1997  1.2009  1.2002  0.0014  \n",
      "MAE (testset)     0.8542  0.8520  0.8526  0.8527  0.8530  0.8529  0.0007  \n",
      "Fit time          141.26  141.60  142.31  147.27  144.34  143.36  2.23    \n",
      "Test time         9.04    9.31    8.88    9.30    8.90    9.09    0.19    \n",
      "Elapsed time: 788.20 seconds\n"
     ]
    }
   ],
   "source": [
    "# Record the start time\n",
    "start_time = time.time()\n",
    "\n",
    "# Train the best k-NN model using the best parameters\n",
    "base_knn = KNNBaseline(k=10, sim_options={'name': 'cosine', 'user_based': False})\n",
    "\n",
    "# Run 5-fold cross-validation and print results.\n",
    "cross_validate(base_knn, surprise_data, measures=['RMSE', 'MAE'], cv=5, verbose=True)\n",
    "\n",
    "elapsed_time = time.time() - start_time\n",
    "print(f\"Elapsed time: {elapsed_time:.2f} seconds\")"
   ]
  }
 ],
 "metadata": {
  "kernelspec": {
   "display_name": "conda_amazonei_mxnet_p36",
   "language": "python",
   "name": "conda_amazonei_mxnet_p36"
  },
  "language_info": {
   "codemirror_mode": {
    "name": "ipython",
    "version": 3
   },
   "file_extension": ".py",
   "mimetype": "text/x-python",
   "name": "python",
   "nbconvert_exporter": "python",
   "pygments_lexer": "ipython3",
   "version": "3.6.13"
  }
 },
 "nbformat": 4,
 "nbformat_minor": 5
}
