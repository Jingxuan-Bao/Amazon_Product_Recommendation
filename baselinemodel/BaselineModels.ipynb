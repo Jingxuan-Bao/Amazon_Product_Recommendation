{
 "cells": [
  {
   "cell_type": "markdown",
   "id": "6544fe35",
   "metadata": {},
   "source": [
    "import and pip necessary libraries"
   ]
  },
  {
   "cell_type": "code",
   "execution_count": 1,
   "id": "abca31f3",
   "metadata": {},
   "outputs": [
    {
     "name": "stdout",
     "output_type": "stream",
     "text": [
      "Looking in indexes: https://pypi.org/simple, https://pip.repos.neuron.amazonaws.com\n",
      "Requirement already satisfied: scikit-surprise in /home/ec2-user/anaconda3/envs/amazonei_mxnet_p36/lib/python3.6/site-packages (1.1.1)\n",
      "Requirement already satisfied: scipy>=1.0.0 in /home/ec2-user/anaconda3/envs/amazonei_mxnet_p36/lib/python3.6/site-packages (from scikit-surprise) (1.5.3)\n",
      "Requirement already satisfied: six>=1.10.0 in /home/ec2-user/anaconda3/envs/amazonei_mxnet_p36/lib/python3.6/site-packages (from scikit-surprise) (1.15.0)\n",
      "Requirement already satisfied: numpy>=1.11.2 in /home/ec2-user/anaconda3/envs/amazonei_mxnet_p36/lib/python3.6/site-packages (from scikit-surprise) (1.19.5)\n",
      "Requirement already satisfied: joblib>=0.11 in /home/ec2-user/anaconda3/envs/amazonei_mxnet_p36/lib/python3.6/site-packages (from scikit-surprise) (1.1.1)\n"
     ]
    }
   ],
   "source": [
    "import pandas as pd \n",
    "import time\n",
    "import matplotlib.pyplot as plt\n",
    "import numpy as np\n",
    "import pickle\n",
    "\n",
    "! pip install scikit-surprise\n",
    "from surprise import Dataset, Reader\n",
    "from surprise import KNNBasic\n",
    "from surprise import KNNBaseline\n",
    "from surprise.model_selection import cross_validate, train_test_split\n",
    "from surprise import accuracy\n",
    "from surprise.model_selection import GridSearchCV\n",
    "from surprise import SVD, SVDpp\n",
    "from surprise.model_selection import cross_validate\n",
    "from surprise.model_selection import KFold"
   ]
  },
  {
   "cell_type": "code",
   "execution_count": 2,
   "id": "4a479c4b",
   "metadata": {},
   "outputs": [
    {
     "data": {
      "text/html": [
       "<div>\n",
       "<style scoped>\n",
       "    .dataframe tbody tr th:only-of-type {\n",
       "        vertical-align: middle;\n",
       "    }\n",
       "\n",
       "    .dataframe tbody tr th {\n",
       "        vertical-align: top;\n",
       "    }\n",
       "\n",
       "    .dataframe thead th {\n",
       "        text-align: right;\n",
       "    }\n",
       "</style>\n",
       "<table border=\"1\" class=\"dataframe\">\n",
       "  <thead>\n",
       "    <tr style=\"text-align: right;\">\n",
       "      <th></th>\n",
       "      <th>userId</th>\n",
       "      <th>productId</th>\n",
       "      <th>rating</th>\n",
       "      <th>timestamp</th>\n",
       "    </tr>\n",
       "  </thead>\n",
       "  <tbody>\n",
       "    <tr>\n",
       "      <th>0</th>\n",
       "      <td>AO94DHGC771SJ</td>\n",
       "      <td>0528881469</td>\n",
       "      <td>5.0</td>\n",
       "      <td>1370131200</td>\n",
       "    </tr>\n",
       "    <tr>\n",
       "      <th>1</th>\n",
       "      <td>AMO214LNFCEI4</td>\n",
       "      <td>0528881469</td>\n",
       "      <td>1.0</td>\n",
       "      <td>1290643200</td>\n",
       "    </tr>\n",
       "    <tr>\n",
       "      <th>2</th>\n",
       "      <td>A3N7T0DY83Y4IG</td>\n",
       "      <td>0528881469</td>\n",
       "      <td>3.0</td>\n",
       "      <td>1283990400</td>\n",
       "    </tr>\n",
       "    <tr>\n",
       "      <th>3</th>\n",
       "      <td>A1H8PY3QHMQQA0</td>\n",
       "      <td>0528881469</td>\n",
       "      <td>2.0</td>\n",
       "      <td>1290556800</td>\n",
       "    </tr>\n",
       "    <tr>\n",
       "      <th>4</th>\n",
       "      <td>A24EV6RXELQZ63</td>\n",
       "      <td>0528881469</td>\n",
       "      <td>1.0</td>\n",
       "      <td>1317254400</td>\n",
       "    </tr>\n",
       "  </tbody>\n",
       "</table>\n",
       "</div>"
      ],
      "text/plain": [
       "           userId   productId  rating   timestamp\n",
       "0   AO94DHGC771SJ  0528881469     5.0  1370131200\n",
       "1   AMO214LNFCEI4  0528881469     1.0  1290643200\n",
       "2  A3N7T0DY83Y4IG  0528881469     3.0  1283990400\n",
       "3  A1H8PY3QHMQQA0  0528881469     2.0  1290556800\n",
       "4  A24EV6RXELQZ63  0528881469     1.0  1317254400"
      ]
     },
     "execution_count": 2,
     "metadata": {},
     "output_type": "execute_result"
    }
   ],
   "source": [
    "filtered_data = pd.read_csv(\"filtered_data.csv\")\n",
    "filtered_data.head() "
   ]
  },
  {
   "cell_type": "code",
   "execution_count": 3,
   "id": "c696d665",
   "metadata": {},
   "outputs": [
    {
     "name": "stdout",
     "output_type": "stream",
     "text": [
      "<class 'pandas.core.frame.DataFrame'>\n",
      "RangeIndex: 1991560 entries, 0 to 1991559\n",
      "Data columns (total 4 columns):\n",
      " #   Column     Dtype  \n",
      "---  ------     -----  \n",
      " 0   userId     object \n",
      " 1   productId  object \n",
      " 2   rating     float64\n",
      " 3   timestamp  int64  \n",
      "dtypes: float64(1), int64(1), object(2)\n",
      "memory usage: 60.8+ MB\n",
      "None\n",
      "             rating     timestamp\n",
      "count  1.991560e+06  1.991560e+06\n",
      "mean   4.201605e+00  1.339592e+09\n",
      "std    1.205818e+00  6.520485e+07\n",
      "min    1.000000e+00  9.292320e+08\n",
      "25%    4.000000e+00  1.316909e+09\n",
      "50%    5.000000e+00  1.360714e+09\n",
      "75%    5.000000e+00  1.385078e+09\n",
      "max    5.000000e+00  1.406074e+09\n"
     ]
    }
   ],
   "source": [
    "# Display dataset information and basic statistics\n",
    "print(filtered_data.info())\n",
    "print(filtered_data.describe())"
   ]
  },
  {
   "cell_type": "markdown",
   "id": "8856cc34",
   "metadata": {},
   "source": [
    "Data Preprocess"
   ]
  },
  {
   "cell_type": "code",
   "execution_count": 4,
   "id": "e0989ee6",
   "metadata": {},
   "outputs": [],
   "source": [
    "sample_fraction = 0.1\n",
    "sample_data = filtered_data.sample(frac=sample_fraction)"
   ]
  },
  {
   "cell_type": "code",
   "execution_count": 5,
   "id": "fed3e526",
   "metadata": {},
   "outputs": [
    {
     "data": {
      "text/html": [
       "<div>\n",
       "<style scoped>\n",
       "    .dataframe tbody tr th:only-of-type {\n",
       "        vertical-align: middle;\n",
       "    }\n",
       "\n",
       "    .dataframe tbody tr th {\n",
       "        vertical-align: top;\n",
       "    }\n",
       "\n",
       "    .dataframe thead th {\n",
       "        text-align: right;\n",
       "    }\n",
       "</style>\n",
       "<table border=\"1\" class=\"dataframe\">\n",
       "  <thead>\n",
       "    <tr style=\"text-align: right;\">\n",
       "      <th></th>\n",
       "      <th>userId</th>\n",
       "      <th>productId</th>\n",
       "      <th>rating</th>\n",
       "      <th>timestamp</th>\n",
       "    </tr>\n",
       "  </thead>\n",
       "  <tbody>\n",
       "    <tr>\n",
       "      <th>1340798</th>\n",
       "      <td>AWV5SZ880NKXR</td>\n",
       "      <td>B005HMKKH4</td>\n",
       "      <td>5.0</td>\n",
       "      <td>1369440000</td>\n",
       "    </tr>\n",
       "    <tr>\n",
       "      <th>1164781</th>\n",
       "      <td>ACE8UPXHT6N8I</td>\n",
       "      <td>B004NBZ98K</td>\n",
       "      <td>5.0</td>\n",
       "      <td>1378339200</td>\n",
       "    </tr>\n",
       "    <tr>\n",
       "      <th>154136</th>\n",
       "      <td>AG8SR4D0V4EQW</td>\n",
       "      <td>B00068DIB4</td>\n",
       "      <td>2.0</td>\n",
       "      <td>1213142400</td>\n",
       "    </tr>\n",
       "    <tr>\n",
       "      <th>162486</th>\n",
       "      <td>A1B3DQ05GJDLLY</td>\n",
       "      <td>B0007IP4XI</td>\n",
       "      <td>5.0</td>\n",
       "      <td>1106524800</td>\n",
       "    </tr>\n",
       "    <tr>\n",
       "      <th>1205934</th>\n",
       "      <td>A3F7USIDJBR8WU</td>\n",
       "      <td>B004THA2OE</td>\n",
       "      <td>5.0</td>\n",
       "      <td>1329177600</td>\n",
       "    </tr>\n",
       "    <tr>\n",
       "      <th>...</th>\n",
       "      <td>...</td>\n",
       "      <td>...</td>\n",
       "      <td>...</td>\n",
       "      <td>...</td>\n",
       "    </tr>\n",
       "    <tr>\n",
       "      <th>937095</th>\n",
       "      <td>A27BX2HYC3BBY4</td>\n",
       "      <td>B003M0NURK</td>\n",
       "      <td>3.0</td>\n",
       "      <td>1394323200</td>\n",
       "    </tr>\n",
       "    <tr>\n",
       "      <th>1177300</th>\n",
       "      <td>AGUGSDBTRKOEY</td>\n",
       "      <td>B004PSEJHS</td>\n",
       "      <td>5.0</td>\n",
       "      <td>1362787200</td>\n",
       "    </tr>\n",
       "    <tr>\n",
       "      <th>1407400</th>\n",
       "      <td>A1UJ7DG7BEU9OV</td>\n",
       "      <td>B005Z5HT2M</td>\n",
       "      <td>4.0</td>\n",
       "      <td>1369699200</td>\n",
       "    </tr>\n",
       "    <tr>\n",
       "      <th>565795</th>\n",
       "      <td>A1UO0OMCFXQ1TG</td>\n",
       "      <td>B001ID49BO</td>\n",
       "      <td>5.0</td>\n",
       "      <td>1291766400</td>\n",
       "    </tr>\n",
       "    <tr>\n",
       "      <th>591896</th>\n",
       "      <td>A3UJBG1NLV9IZX</td>\n",
       "      <td>B001NPCTBO</td>\n",
       "      <td>5.0</td>\n",
       "      <td>1271289600</td>\n",
       "    </tr>\n",
       "  </tbody>\n",
       "</table>\n",
       "<p>199156 rows × 4 columns</p>\n",
       "</div>"
      ],
      "text/plain": [
       "                 userId   productId  rating   timestamp\n",
       "1340798   AWV5SZ880NKXR  B005HMKKH4     5.0  1369440000\n",
       "1164781   ACE8UPXHT6N8I  B004NBZ98K     5.0  1378339200\n",
       "154136    AG8SR4D0V4EQW  B00068DIB4     2.0  1213142400\n",
       "162486   A1B3DQ05GJDLLY  B0007IP4XI     5.0  1106524800\n",
       "1205934  A3F7USIDJBR8WU  B004THA2OE     5.0  1329177600\n",
       "...                 ...         ...     ...         ...\n",
       "937095   A27BX2HYC3BBY4  B003M0NURK     3.0  1394323200\n",
       "1177300   AGUGSDBTRKOEY  B004PSEJHS     5.0  1362787200\n",
       "1407400  A1UJ7DG7BEU9OV  B005Z5HT2M     4.0  1369699200\n",
       "565795   A1UO0OMCFXQ1TG  B001ID49BO     5.0  1291766400\n",
       "591896   A3UJBG1NLV9IZX  B001NPCTBO     5.0  1271289600\n",
       "\n",
       "[199156 rows x 4 columns]"
      ]
     },
     "execution_count": 5,
     "metadata": {},
     "output_type": "execute_result"
    }
   ],
   "source": [
    "sample_data"
   ]
  },
  {
   "cell_type": "markdown",
   "id": "d4b1864b",
   "metadata": {},
   "source": [
    "Item-Item Collaborative Filtering model"
   ]
  },
  {
   "cell_type": "markdown",
   "id": "0737737e",
   "metadata": {},
   "source": [
    "Transfer data into Surprise format, and split train and test data"
   ]
  },
  {
   "cell_type": "code",
   "execution_count": 7,
   "id": "0983fe2f",
   "metadata": {},
   "outputs": [],
   "source": [
    "reader = Reader(rating_scale=(1, 5))\n",
    "\n",
    "surprise_data = Dataset.load_from_df(filtered_data[['userId', 'productId', 'rating']], reader)\n",
    "surprise_subsetdata = Dataset.load_from_df(sample_data[['userId', 'productId', 'rating']], reader)"
   ]
  },
  {
   "cell_type": "markdown",
   "id": "5c9566d3",
   "metadata": {},
   "source": [
    "SVD and SVD++"
   ]
  },
  {
   "cell_type": "code",
   "execution_count": 8,
   "id": "c52c1d14",
   "metadata": {},
   "outputs": [
    {
     "name": "stdout",
     "output_type": "stream",
     "text": [
      "Best parameters for SVD:  {'n_epochs': 20, 'lr_all': 0.008, 'reg_all': 0.6}\n"
     ]
    }
   ],
   "source": [
    "# Define the parameter grid for GridSearchCV\n",
    "param_grid = {\n",
    "    'n_epochs': [5, 10, 15, 20],\n",
    "    'lr_all': [0.002, 0.005, 0.008],\n",
    "    'reg_all': [0.2, 0.4, 0.6]\n",
    "}\n",
    "\n",
    "# Perform GridSearchCV for SVD\n",
    "grid_search_svd = GridSearchCV(SVD, param_grid, measures=['rmse', 'mae'], cv=5, n_jobs=-1)\n",
    "grid_search_svd.fit(surprise_subsetdata)\n",
    "\n",
    "# Print the best parameters for SVD\n",
    "print(\"Best parameters for SVD: \", grid_search_svd.best_params['rmse'])"
   ]
  },
  {
   "cell_type": "code",
   "execution_count": 9,
   "id": "08bf5c52",
   "metadata": {},
   "outputs": [
    {
     "name": "stdout",
     "output_type": "stream",
     "text": [
      "Best parameters for SVD++:  {'n_epochs': 15, 'lr_all': 0.008, 'reg_all': 0.4}\n"
     ]
    }
   ],
   "source": [
    "# Perform GridSearchCV for SVD++\n",
    "grid_search_svdpp = GridSearchCV(SVDpp, param_grid, measures=['rmse', 'mae'], cv=5, n_jobs=-1)\n",
    "grid_search_svdpp.fit(surprise_subsetdata)\n",
    "\n",
    "# Print the best parameters for SVD++\n",
    "print(\"Best parameters for SVD++: \", grid_search_svdpp.best_params['rmse'])"
   ]
  },
  {
   "cell_type": "code",
   "execution_count": 10,
   "id": "91b05cc3",
   "metadata": {},
   "outputs": [
    {
     "name": "stdout",
     "output_type": "stream",
     "text": [
      "Mean RMSE of svd: 1.1617\n",
      "Mean MAE of svd: 0.8928\n",
      "Mean RMSE of svdpp: 1.1615\n",
      "Mean MAE of svdpp: 0.8912\n"
     ]
    }
   ],
   "source": [
    "# Cross-validate the best SVD model\n",
    "best_svd = SVD(**grid_search_svd.best_params['rmse'])\n",
    "cv_results_svd = cross_validate(best_svd, surprise_data, measures=['rmse', 'mae'], cv=5, verbose=False)\n",
    "\n",
    "# Cross-validate the best SVD++ model\n",
    "best_svdpp = SVDpp(**grid_search_svdpp.best_params['rmse'])\n",
    "cv_results_svdpp = cross_validate(best_svdpp, surprise_data, measures=['rmse', 'mae'], cv=5, verbose=False)\n",
    "\n",
    "mean_rmse_svd = cv_results_svd['test_rmse'].mean()\n",
    "mean_mae_svd = cv_results_svd['test_mae'].mean()\n",
    "\n",
    "print(f\"Mean RMSE of svd: {mean_rmse_svd:.4f}\")\n",
    "print(f\"Mean MAE of svd: {mean_mae_svd:.4f}\")\n",
    "\n",
    "mean_rmse_svdpp = cv_results_svdpp['test_rmse'].mean()\n",
    "mean_mae_svdpp = cv_results_svdpp['test_mae'].mean()\n",
    "\n",
    "print(f\"Mean RMSE of svdpp: {mean_rmse_svdpp:.4f}\")\n",
    "print(f\"Mean MAE of svdpp: {mean_mae_svdpp:.4f}\")"
   ]
  },
  {
   "cell_type": "code",
   "execution_count": 11,
   "id": "c73aa683",
   "metadata": {},
   "outputs": [],
   "source": [
    "'''\n",
    "best_svd.fit(surprise_data.build_full_trainset())\n",
    "best_svdpp.fit(surprise_data.build_full_trainset())\n",
    "\n",
    "# Save the best SVD model\n",
    "with open(\"best_svd_model.pkl\", \"wb\") as f:\n",
    "    pickle.dump(best_svd, f)\n",
    "\n",
    "# Save the best SVD++ model\n",
    "with open(\"best_svdpp_model.pkl\", \"wb\") as f:\n",
    "    pickle.dump(best_svdpp, f)\n",
    "'''"
   ]
  },
  {
   "cell_type": "markdown",
   "id": "acb0149e",
   "metadata": {},
   "source": [
    "Basic KNN and KNN Baseline"
   ]
  },
  {
   "cell_type": "code",
   "execution_count": 12,
   "id": "82d7d181",
   "metadata": {},
   "outputs": [
    {
     "name": "stdout",
     "output_type": "stream",
     "text": [
      "Best parameters for KNNBasic:  {'k': 10}\n"
     ]
    }
   ],
   "source": [
    "# Parameter grid for KNNBasic and KNNWithMeans\n",
    "param_grid = {\n",
    "    'k': [10, 30, 50]\n",
    "}\n",
    "\n",
    "# Perform GridSearchCV for KNNBasic\n",
    "grid_search_knnbasic = GridSearchCV(KNNBasic, param_grid, measures=['rmse', 'mae'], cv=5, n_jobs=-1)\n",
    "grid_search_knnbasic.fit(surprise_subsetdata)\n",
    "\n",
    "# Print the best parameters for KNNBasic\n",
    "print(\"Best parameters for KNNBasic: \", grid_search_knnbasic.best_params['rmse'])"
   ]
  },
  {
   "cell_type": "code",
   "execution_count": 13,
   "id": "5a673283",
   "metadata": {},
   "outputs": [
    {
     "name": "stdout",
     "output_type": "stream",
     "text": [
      "Best parameters for KNNBaseline:  {'k': 10}\n"
     ]
    }
   ],
   "source": [
    "# Perform GridSearchCV for KNNBaseline\n",
    "grid_search_knnbaseline = GridSearchCV(KNNBaseline, param_grid, measures=['rmse', 'mae'], cv=5, n_jobs=-1)\n",
    "grid_search_knnbaseline.fit(surprise_subsetdata)\n",
    "\n",
    "# Print the best parameters for KNNBaseline\n",
    "print(\"Best parameters for KNNBaseline: \", grid_search_knnbaseline.best_params['rmse'])"
   ]
  },
  {
   "cell_type": "markdown",
   "id": "73ea3c53",
   "metadata": {},
   "source": [
    "Basic KNN"
   ]
  },
  {
   "cell_type": "code",
   "execution_count": 14,
   "id": "918f09dc",
   "metadata": {},
   "outputs": [
    {
     "name": "stdout",
     "output_type": "stream",
     "text": [
      "Computing the cosine similarity matrix...\n",
      "Done computing similarity matrix.\n",
      "Computing the cosine similarity matrix...\n",
      "Done computing similarity matrix.\n",
      "Computing the cosine similarity matrix...\n",
      "Done computing similarity matrix.\n",
      "Computing the cosine similarity matrix...\n",
      "Done computing similarity matrix.\n",
      "Computing the cosine similarity matrix...\n",
      "Done computing similarity matrix.\n"
     ]
    }
   ],
   "source": [
    "# Train the basic KNN model\n",
    "basic_knn = KNNBasic(k=10, sim_options={'name': 'cosine', 'user_based': False})\n",
    "\n",
    "# Run 5-fold cross-validation\n",
    "cv_results_knnbasic = cross_validate(basic_knn, surprise_data, measures=['RMSE', 'MAE'], cv=5, verbose=False)"
   ]
  },
  {
   "cell_type": "markdown",
   "id": "ef0dc7ee",
   "metadata": {},
   "source": [
    "KNN Baseline"
   ]
  },
  {
   "cell_type": "code",
   "execution_count": 15,
   "id": "5923f067",
   "metadata": {},
   "outputs": [
    {
     "name": "stdout",
     "output_type": "stream",
     "text": [
      "Estimating biases using als...\n",
      "Computing the msd similarity matrix...\n",
      "Done computing similarity matrix.\n",
      "Estimating biases using als...\n",
      "Computing the msd similarity matrix...\n",
      "Done computing similarity matrix.\n",
      "Estimating biases using als...\n",
      "Computing the msd similarity matrix...\n",
      "Done computing similarity matrix.\n",
      "Estimating biases using als...\n",
      "Computing the msd similarity matrix...\n",
      "Done computing similarity matrix.\n",
      "Estimating biases using als...\n",
      "Computing the msd similarity matrix...\n",
      "Done computing similarity matrix.\n"
     ]
    }
   ],
   "source": [
    "# Train the k-NN baseline model using the best parameters\n",
    "base_knn = KNNBaseline(k=10, sim_options={'name': 'msd', 'user_based': False})\n",
    "\n",
    "# Run 5-fold cross-validation\n",
    "cv_results_knnbaseline = cross_validate(base_knn, surprise_data, measures=['RMSE', 'MAE'], cv=5, verbose=False)"
   ]
  },
  {
   "cell_type": "code",
   "execution_count": 17,
   "id": "3a31b7b6",
   "metadata": {},
   "outputs": [
    {
     "name": "stdout",
     "output_type": "stream",
     "text": [
      "Mean RMSE of knnbasic: 1.2144\n",
      "Mean MAE of knnbasic: 0.9439\n",
      "Mean RMSE of knnbaseline: 1.1715\n",
      "Mean MAE of knnbaseline: 0.8929\n"
     ]
    }
   ],
   "source": [
    "mean_rmse_knnbasic = cv_results_knnbasic['test_rmse'].mean()\n",
    "mean_mae_knnbasic = cv_results_knnbasic['test_mae'].mean()\n",
    "\n",
    "print(f\"Mean RMSE of knnbasic: {mean_rmse_knnbasic:.4f}\")\n",
    "print(f\"Mean MAE of knnbasic: {mean_mae_knnbasic:.4f}\")\n",
    "\n",
    "mean_rmse_knnbaseline = cv_results_knnbaseline['test_rmse'].mean()\n",
    "mean_mae_knnbaseline = cv_results_knnbaseline['test_mae'].mean()\n",
    "\n",
    "print(f\"Mean RMSE of knnbaseline: {mean_rmse_knnbaseline:.4f}\")\n",
    "print(f\"Mean MAE of knnbaseline: {mean_mae_knnbaseline:.4f}\")"
   ]
  },
  {
   "cell_type": "code",
   "execution_count": 20,
   "id": "9e033c6e",
   "metadata": {},
   "outputs": [
    {
     "data": {
      "text/plain": [
       "'\\nbasic_knn.fit(surprise_data.build_full_trainset())\\nbase_knn.fit(surprise_data.build_full_trainset())\\n\\n# Save the best SVD model\\nwith open(\"basic_knn.pkl\", \"wb\") as f:\\n    pickle.dump(basic_knn, f)\\n\\n# Save the best SVD++ model\\nwith open(\"base_knn.pkl\", \"wb\") as f:\\n    pickle.dump(base_knn, f)\\n'"
      ]
     },
     "execution_count": 20,
     "metadata": {},
     "output_type": "execute_result"
    }
   ],
   "source": [
    "'''\n",
    "basic_knn.fit(surprise_data.build_full_trainset())\n",
    "base_knn.fit(surprise_data.build_full_trainset())\n",
    "\n",
    "# Save the best SVD model\n",
    "with open(\"basic_knn.pkl\", \"wb\") as f:\n",
    "    pickle.dump(basic_knn, f)\n",
    "\n",
    "# Save the best SVD++ model\n",
    "with open(\"base_knn.pkl\", \"wb\") as f:\n",
    "    pickle.dump(base_knn, f)\n",
    "'''"
   ]
  },
  {
   "cell_type": "code",
   "execution_count": 18,
   "id": "7c72568d",
   "metadata": {},
   "outputs": [
    {
     "data": {
      "image/png": "[encoded data removed]",
      "text/plain": [
       "<Figure size 864x432 with 2 Axes>"
      ]
     },
     "metadata": {
      "needs_background": "light"
     },
     "output_type": "display_data"
    }
   ],
   "source": [
    "rmse_means = []\n",
    "mae_means = []\n",
    "\n",
    "rmse_means.append(mean_rmse_knnbasic)\n",
    "rmse_means.append(mean_rmse_knnbaseline)\n",
    "rmse_means.append(mean_rmse_svd)\n",
    "rmse_means.append(mean_rmse_svdpp)\n",
    "\n",
    "mae_means.append(mean_mae_knnbasic)\n",
    "mae_means.append(mean_mae_knnbaseline)\n",
    "mae_means.append(mean_mae_svd)\n",
    "mae_means.append(mean_mae_svdpp)\n",
    "\n",
    "x_labels = ['basic_knn', 'baseline_knn', 'svd', 'svdpp']\n",
    "\n",
    "fig, (ax1, ax2) = plt.subplots(1, 2, figsize=(12, 6))\n",
    "fig.suptitle('Model Performance Comparison')\n",
    "\n",
    "ax1.bar(x_labels, rmse_means)\n",
    "ax1.set_title('RMSE')\n",
    "ax1.set_ylim([min(rmse_means) * 0.95, max(rmse_means) * 1.02])\n",
    "\n",
    "ax2.bar(x_labels, mae_means)\n",
    "ax2.set_title('MAE')\n",
    "ax2.set_ylim([min(mae_means) * 0.95, max(mae_means) * 1.02])\n",
    "\n",
    "plt.show()"
   ]
  }
 ],
 "metadata": {
  "kernelspec": {
   "display_name": "conda_amazonei_mxnet_p36",
   "language": "python",
   "name": "conda_amazonei_mxnet_p36"
  },
  "language_info": {
   "codemirror_mode": {
    "name": "ipython",
    "version": 3
   },
   "file_extension": ".py",
   "mimetype": "text/x-python",
   "name": "python",
   "nbconvert_exporter": "python",
   "pygments_lexer": "ipython3",
   "version": "3.6.13"
  }
 },
 "nbformat": 4,
 "nbformat_minor": 5
}
