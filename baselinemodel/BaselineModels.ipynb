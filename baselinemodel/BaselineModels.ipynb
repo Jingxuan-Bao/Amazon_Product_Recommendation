{
 "cells": [
  {
   "cell_type": "markdown",
   "id": "de759d3d",
   "metadata": {},
   "source": [
    "import and pip necessary libraries"
   ]
  },
  {
   "cell_type": "code",
   "execution_count": 17,
   "id": "2e08f30b",
   "metadata": {},
   "outputs": [
    {
     "name": "stdout",
     "output_type": "stream",
     "text": [
      "Looking in indexes: https://pypi.org/simple, https://pip.repos.neuron.amazonaws.com\n",
      "Requirement already satisfied: scikit-surprise in /home/ec2-user/anaconda3/envs/amazonei_mxnet_p36/lib/python3.6/site-packages (1.1.1)\n",
      "Requirement already satisfied: numpy>=1.11.2 in /home/ec2-user/anaconda3/envs/amazonei_mxnet_p36/lib/python3.6/site-packages (from scikit-surprise) (1.19.5)\n",
      "Requirement already satisfied: joblib>=0.11 in /home/ec2-user/anaconda3/envs/amazonei_mxnet_p36/lib/python3.6/site-packages (from scikit-surprise) (1.1.1)\n",
      "Requirement already satisfied: scipy>=1.0.0 in /home/ec2-user/anaconda3/envs/amazonei_mxnet_p36/lib/python3.6/site-packages (from scikit-surprise) (1.5.3)\n",
      "Requirement already satisfied: six>=1.10.0 in /home/ec2-user/anaconda3/envs/amazonei_mxnet_p36/lib/python3.6/site-packages (from scikit-surprise) (1.15.0)\n"
     ]
    }
   ],
   "source": [
    "import pandas as pd \n",
    "import time\n",
    "import matplotlib.pyplot as plt\n",
    "import numpy as np\n",
    "\n",
    "! pip install scikit-surprise\n",
    "from surprise import Dataset, Reader\n",
    "from surprise import KNNBasic\n",
    "from surprise import KNNBaseline\n",
    "from surprise.model_selection import cross_validate, train_test_split\n",
    "from surprise import accuracy\n",
    "from surprise.model_selection import GridSearchCV\n",
    "from surprise import SVD, SVDpp\n",
    "from surprise.model_selection import cross_validate\n",
    "from surprise.model_selection import KFold"
   ]
  },
  {
   "cell_type": "code",
   "execution_count": 18,
   "id": "b3c0660d",
   "metadata": {},
   "outputs": [
    {
     "data": {
      "text/html": [
       "<div>\n",
       "<style scoped>\n",
       "    .dataframe tbody tr th:only-of-type {\n",
       "        vertical-align: middle;\n",
       "    }\n",
       "\n",
       "    .dataframe tbody tr th {\n",
       "        vertical-align: top;\n",
       "    }\n",
       "\n",
       "    .dataframe thead th {\n",
       "        text-align: right;\n",
       "    }\n",
       "</style>\n",
       "<table border=\"1\" class=\"dataframe\">\n",
       "  <thead>\n",
       "    <tr style=\"text-align: right;\">\n",
       "      <th></th>\n",
       "      <th>userId</th>\n",
       "      <th>productId</th>\n",
       "      <th>rating</th>\n",
       "      <th>timestamp</th>\n",
       "    </tr>\n",
       "  </thead>\n",
       "  <tbody>\n",
       "    <tr>\n",
       "      <th>0</th>\n",
       "      <td>AO94DHGC771SJ</td>\n",
       "      <td>0528881469</td>\n",
       "      <td>5.0</td>\n",
       "      <td>1370131200</td>\n",
       "    </tr>\n",
       "    <tr>\n",
       "      <th>1</th>\n",
       "      <td>AMO214LNFCEI4</td>\n",
       "      <td>0528881469</td>\n",
       "      <td>1.0</td>\n",
       "      <td>1290643200</td>\n",
       "    </tr>\n",
       "    <tr>\n",
       "      <th>2</th>\n",
       "      <td>A3N7T0DY83Y4IG</td>\n",
       "      <td>0528881469</td>\n",
       "      <td>3.0</td>\n",
       "      <td>1283990400</td>\n",
       "    </tr>\n",
       "    <tr>\n",
       "      <th>3</th>\n",
       "      <td>A1H8PY3QHMQQA0</td>\n",
       "      <td>0528881469</td>\n",
       "      <td>2.0</td>\n",
       "      <td>1290556800</td>\n",
       "    </tr>\n",
       "    <tr>\n",
       "      <th>4</th>\n",
       "      <td>A24EV6RXELQZ63</td>\n",
       "      <td>0528881469</td>\n",
       "      <td>1.0</td>\n",
       "      <td>1317254400</td>\n",
       "    </tr>\n",
       "  </tbody>\n",
       "</table>\n",
       "</div>"
      ],
      "text/plain": [
       "           userId   productId  rating   timestamp\n",
       "0   AO94DHGC771SJ  0528881469     5.0  1370131200\n",
       "1   AMO214LNFCEI4  0528881469     1.0  1290643200\n",
       "2  A3N7T0DY83Y4IG  0528881469     3.0  1283990400\n",
       "3  A1H8PY3QHMQQA0  0528881469     2.0  1290556800\n",
       "4  A24EV6RXELQZ63  0528881469     1.0  1317254400"
      ]
     },
     "execution_count": 18,
     "metadata": {},
     "output_type": "execute_result"
    }
   ],
   "source": [
    "filtered_data = pd.read_csv(\"filtered_data.csv\")\n",
    "filtered_data.head() "
   ]
  },
  {
   "cell_type": "code",
   "execution_count": 19,
   "id": "e9f25770",
   "metadata": {},
   "outputs": [
    {
     "name": "stdout",
     "output_type": "stream",
     "text": [
      "<class 'pandas.core.frame.DataFrame'>\n",
      "RangeIndex: 1991560 entries, 0 to 1991559\n",
      "Data columns (total 4 columns):\n",
      " #   Column     Dtype  \n",
      "---  ------     -----  \n",
      " 0   userId     object \n",
      " 1   productId  object \n",
      " 2   rating     float64\n",
      " 3   timestamp  int64  \n",
      "dtypes: float64(1), int64(1), object(2)\n",
      "memory usage: 60.8+ MB\n",
      "None\n",
      "             rating     timestamp\n",
      "count  1.991560e+06  1.991560e+06\n",
      "mean   4.201605e+00  1.339592e+09\n",
      "std    1.205818e+00  6.520485e+07\n",
      "min    1.000000e+00  9.292320e+08\n",
      "25%    4.000000e+00  1.316909e+09\n",
      "50%    5.000000e+00  1.360714e+09\n",
      "75%    5.000000e+00  1.385078e+09\n",
      "max    5.000000e+00  1.406074e+09\n"
     ]
    }
   ],
   "source": [
    "# Display dataset information and basic statistics\n",
    "print(filtered_data.info())\n",
    "print(filtered_data.describe())"
   ]
  },
  {
   "cell_type": "markdown",
   "id": "9fb72327",
   "metadata": {},
   "source": [
    "Data Preprocess"
   ]
  },
  {
   "cell_type": "code",
   "execution_count": 4,
   "id": "7291c328",
   "metadata": {},
   "outputs": [],
   "source": [
    "sample_fraction = 0.1\n",
    "sample_data = filtered_data.sample(frac=sample_fraction)"
   ]
  },
  {
   "cell_type": "code",
   "execution_count": 5,
   "id": "fe4e34a3",
   "metadata": {},
   "outputs": [
    {
     "data": {
      "text/html": [
       "<div>\n",
       "<style scoped>\n",
       "    .dataframe tbody tr th:only-of-type {\n",
       "        vertical-align: middle;\n",
       "    }\n",
       "\n",
       "    .dataframe tbody tr th {\n",
       "        vertical-align: top;\n",
       "    }\n",
       "\n",
       "    .dataframe thead th {\n",
       "        text-align: right;\n",
       "    }\n",
       "</style>\n",
       "<table border=\"1\" class=\"dataframe\">\n",
       "  <thead>\n",
       "    <tr style=\"text-align: right;\">\n",
       "      <th></th>\n",
       "      <th>userId</th>\n",
       "      <th>productId</th>\n",
       "      <th>rating</th>\n",
       "      <th>timestamp</th>\n",
       "    </tr>\n",
       "  </thead>\n",
       "  <tbody>\n",
       "    <tr>\n",
       "      <th>1464293</th>\n",
       "      <td>A3AEDUJ7MXBNEX</td>\n",
       "      <td>B006U1YUW2</td>\n",
       "      <td>5.0</td>\n",
       "      <td>1376006400</td>\n",
       "    </tr>\n",
       "    <tr>\n",
       "      <th>241262</th>\n",
       "      <td>AE2GD378S55XK</td>\n",
       "      <td>B000EXRSVM</td>\n",
       "      <td>1.0</td>\n",
       "      <td>1187308800</td>\n",
       "    </tr>\n",
       "    <tr>\n",
       "      <th>831788</th>\n",
       "      <td>A13J19NEY58PM8</td>\n",
       "      <td>B00346I5LI</td>\n",
       "      <td>5.0</td>\n",
       "      <td>1315267200</td>\n",
       "    </tr>\n",
       "    <tr>\n",
       "      <th>301016</th>\n",
       "      <td>A5FQY9IUK3P3L</td>\n",
       "      <td>B000KHPIO6</td>\n",
       "      <td>3.0</td>\n",
       "      <td>1302566400</td>\n",
       "    </tr>\n",
       "    <tr>\n",
       "      <th>671988</th>\n",
       "      <td>A242ZSXKJLL4FM</td>\n",
       "      <td>B0027M4CX0</td>\n",
       "      <td>5.0</td>\n",
       "      <td>1396051200</td>\n",
       "    </tr>\n",
       "    <tr>\n",
       "      <th>...</th>\n",
       "      <td>...</td>\n",
       "      <td>...</td>\n",
       "      <td>...</td>\n",
       "      <td>...</td>\n",
       "    </tr>\n",
       "    <tr>\n",
       "      <th>218976</th>\n",
       "      <td>A3HG3FXG1GTWU4</td>\n",
       "      <td>B000CKVOOY</td>\n",
       "      <td>4.0</td>\n",
       "      <td>1366588800</td>\n",
       "    </tr>\n",
       "    <tr>\n",
       "      <th>966152</th>\n",
       "      <td>A1FHU6UUI9S0WM</td>\n",
       "      <td>B003TQ1010</td>\n",
       "      <td>4.0</td>\n",
       "      <td>1374105600</td>\n",
       "    </tr>\n",
       "    <tr>\n",
       "      <th>1164849</th>\n",
       "      <td>A3C3PPYKBW2G5Q</td>\n",
       "      <td>B004NBZ98K</td>\n",
       "      <td>5.0</td>\n",
       "      <td>1359417600</td>\n",
       "    </tr>\n",
       "    <tr>\n",
       "      <th>46965</th>\n",
       "      <td>A3S3MOT7JM82FA</td>\n",
       "      <td>B00006B9CR</td>\n",
       "      <td>4.0</td>\n",
       "      <td>1305849600</td>\n",
       "    </tr>\n",
       "    <tr>\n",
       "      <th>1844668</th>\n",
       "      <td>A1PX1KXROI3YVH</td>\n",
       "      <td>B00BM8OG6I</td>\n",
       "      <td>5.0</td>\n",
       "      <td>1403481600</td>\n",
       "    </tr>\n",
       "  </tbody>\n",
       "</table>\n",
       "<p>199156 rows × 4 columns</p>\n",
       "</div>"
      ],
      "text/plain": [
       "                 userId   productId  rating   timestamp\n",
       "1464293  A3AEDUJ7MXBNEX  B006U1YUW2     5.0  1376006400\n",
       "241262    AE2GD378S55XK  B000EXRSVM     1.0  1187308800\n",
       "831788   A13J19NEY58PM8  B00346I5LI     5.0  1315267200\n",
       "301016    A5FQY9IUK3P3L  B000KHPIO6     3.0  1302566400\n",
       "671988   A242ZSXKJLL4FM  B0027M4CX0     5.0  1396051200\n",
       "...                 ...         ...     ...         ...\n",
       "218976   A3HG3FXG1GTWU4  B000CKVOOY     4.0  1366588800\n",
       "966152   A1FHU6UUI9S0WM  B003TQ1010     4.0  1374105600\n",
       "1164849  A3C3PPYKBW2G5Q  B004NBZ98K     5.0  1359417600\n",
       "46965    A3S3MOT7JM82FA  B00006B9CR     4.0  1305849600\n",
       "1844668  A1PX1KXROI3YVH  B00BM8OG6I     5.0  1403481600\n",
       "\n",
       "[199156 rows x 4 columns]"
      ]
     },
     "execution_count": 5,
     "metadata": {},
     "output_type": "execute_result"
    }
   ],
   "source": [
    "sample_data"
   ]
  },
  {
   "cell_type": "markdown",
   "id": "469b3fc9",
   "metadata": {},
   "source": [
    "Item-Item Collaborative Filtering model"
   ]
  },
  {
   "cell_type": "markdown",
   "id": "4bf94af1",
   "metadata": {},
   "source": [
    "Transfer data into Surprise format, and split train and test data"
   ]
  },
  {
   "cell_type": "code",
   "execution_count": 7,
   "id": "854b0248",
   "metadata": {},
   "outputs": [],
   "source": [
    "reader = Reader(rating_scale=(1, 5))\n",
    "\n",
    "surprise_data = Dataset.load_from_df(filtered_data[['userId', 'productId', 'rating']], reader)\n",
    "surprise_subsetdata = Dataset.load_from_df(sample_data[['userId', 'productId', 'rating']], reader)"
   ]
  },
  {
   "cell_type": "markdown",
   "id": "a1e1297e",
   "metadata": {},
   "source": [
    "SVD and SVD++"
   ]
  },
  {
   "cell_type": "code",
   "execution_count": 7,
   "id": "6a1aa2d0",
   "metadata": {},
   "outputs": [
    {
     "name": "stdout",
     "output_type": "stream",
     "text": [
      "Best parameters for SVD:  {'n_epochs': 20, 'lr_all': 0.008, 'reg_all': 0.4}\n",
      "Elapsed time: 781.98 seconds\n"
     ]
    }
   ],
   "source": [
    "# Record the start time\n",
    "start_time = time.time()\n",
    "\n",
    "# Define the parameter grid for GridSearchCV\n",
    "param_grid = {\n",
    "    'n_epochs': [5, 10, 15, 20],\n",
    "    'lr_all': [0.002, 0.005, 0.008],\n",
    "    'reg_all': [0.2, 0.4, 0.6]\n",
    "}\n",
    "\n",
    "# Perform GridSearchCV for SVD\n",
    "grid_search_svd = GridSearchCV(SVD, param_grid, measures=['rmse', 'mae'], cv=5, n_jobs=-1)\n",
    "grid_search_svd.fit(surprise_subsetdata)\n",
    "\n",
    "# Print the best parameters for SVD\n",
    "print(\"Best parameters for SVD: \", grid_search_svd.best_params['rmse'])\n",
    "\n",
    "elapsed_time = time.time() - start_time\n",
    "print(f\"Elapsed time: {elapsed_time:.2f} seconds\")"
   ]
  },
  {
   "cell_type": "code",
   "execution_count": 8,
   "id": "9cdda381",
   "metadata": {},
   "outputs": [
    {
     "name": "stdout",
     "output_type": "stream",
     "text": [
      "Best parameters for SVD++:  {'n_epochs': 20, 'lr_all': 0.008, 'reg_all': 0.4}\n",
      "Elapsed time: 788.84 seconds\n"
     ]
    }
   ],
   "source": [
    "# Record the start time\n",
    "start_time = time.time()\n",
    "\n",
    "# Perform GridSearchCV for SVD++\n",
    "grid_search_svdpp = GridSearchCV(SVDpp, param_grid, measures=['rmse', 'mae'], cv=5, n_jobs=-1)\n",
    "grid_search_svdpp.fit(surprise_subsetdata)\n",
    "\n",
    "# Print the best parameters for SVD++\n",
    "print(\"Best parameters for SVD++: \", grid_search_svdpp.best_params['rmse'])\n",
    "\n",
    "elapsed_time = time.time() - start_time\n",
    "print(f\"Elapsed time: {elapsed_time:.2f} seconds\")"
   ]
  },
  {
   "cell_type": "code",
   "execution_count": 9,
   "id": "e76c13a5",
   "metadata": {},
   "outputs": [
    {
     "name": "stdout",
     "output_type": "stream",
     "text": [
      "Evaluating RMSE, MAE of algorithm SVD on 5 split(s).\n",
      "\n",
      "                  Fold 1  Fold 2  Fold 3  Fold 4  Fold 5  Mean    Std     \n",
      "RMSE (testset)    1.1091  1.1123  1.1114  1.1069  1.1112  1.1102  0.0019  \n",
      "MAE (testset)     0.8372  0.8398  0.8391  0.8368  0.8380  0.8382  0.0011  \n",
      "Fit time          86.60   87.80   87.17   87.20   86.93   87.14   0.39    \n",
      "Test time         5.09    4.59    5.03    4.45    4.42    4.72    0.29    \n",
      "Evaluating RMSE, MAE of algorithm SVDpp on 5 split(s).\n",
      "\n",
      "                  Fold 1  Fold 2  Fold 3  Fold 4  Fold 5  Mean    Std     \n",
      "RMSE (testset)    1.1123  1.1077  1.1079  1.1091  1.1089  1.1092  0.0017  \n",
      "MAE (testset)     0.8386  0.8352  0.8361  0.8368  0.8371  0.8367  0.0011  \n",
      "Fit time          334.37  330.73  332.79  330.85  340.75  333.90  3.68    \n",
      "Test time         12.08   11.21   12.13   12.06   11.80   11.85   0.34    \n",
      "Elapsed time: 2247.21 seconds\n"
     ]
    }
   ],
   "source": [
    "# Record the start time\n",
    "start_time = time.time()\n",
    "\n",
    "# Cross-validate the best SVD model\n",
    "best_svd = SVD(**grid_search_svd.best_params['rmse'])\n",
    "cv_results_svd = cross_validate(best_svd, surprise_data, measures=['rmse', 'mae'], cv=5, verbose=True)\n",
    "\n",
    "# Cross-validate the best SVD++ model\n",
    "best_svdpp = SVDpp(**grid_search_svdpp.best_params['rmse'])\n",
    "cv_results_svdpp = cross_validate(best_svdpp, surprise_data, measures=['rmse', 'mae'], cv=5, verbose=True)\n",
    "\n",
    "elapsed_time = time.time() - start_time\n",
    "print(f\"Elapsed time: {elapsed_time:.2f} seconds\")"
   ]
  },
  {
   "cell_type": "code",
   "execution_count": 14,
   "id": "54871e2c",
   "metadata": {},
   "outputs": [],
   "source": [
    "import pickle\n",
    "\n",
    "best_svd.fit(surprise_data.build_full_trainset())\n",
    "best_svdpp.fit(surprise_data.build_full_trainset())\n",
    "\n",
    "# Save the best SVD model\n",
    "with open(\"best_svd_model.pkl\", \"wb\") as f:\n",
    "    pickle.dump(best_svd, f)\n",
    "\n",
    "# Save the best SVD++ model\n",
    "with open(\"best_svdpp_model.pkl\", \"wb\") as f:\n",
    "    pickle.dump(best_svdpp, f)"
   ]
  },
  {
   "cell_type": "markdown",
   "id": "9337d3ec",
   "metadata": {},
   "source": [
    "Basic KNN and KNN Baseline"
   ]
  },
  {
   "cell_type": "code",
   "execution_count": 6,
   "id": "1c21a50f",
   "metadata": {},
   "outputs": [
    {
     "name": "stdout",
     "output_type": "stream",
     "text": [
      "Best parameters for KNNBasic:  {'k': 10}\n",
      "Elapsed time: 20.40 seconds\n"
     ]
    }
   ],
   "source": [
    "# Record the start time\n",
    "start_time = time.time()\n",
    "\n",
    "# Parameter grid for KNNBasic and KNNWithMeans\n",
    "param_grid = {\n",
    "    'k': [10, 20, 30, 40, 50]\n",
    "}\n",
    "\n",
    "# Perform GridSearchCV for KNNBasic\n",
    "grid_search_knnbasic = GridSearchCV(KNNBasic, param_grid, measures=['rmse', 'mae'], cv=5, n_jobs=-1)\n",
    "grid_search_knnbasic.fit(surprise_subsetdata)\n",
    "\n",
    "# Print the best parameters for KNNBasic\n",
    "print(\"Best parameters for KNNBasic: \", grid_search_knnbasic.best_params['rmse'])\n",
    "\n",
    "elapsed_time = time.time() - start_time\n",
    "print(f\"Elapsed time: {elapsed_time:.2f} seconds\")"
   ]
  },
  {
   "cell_type": "code",
   "execution_count": 7,
   "id": "50cbec14",
   "metadata": {},
   "outputs": [
    {
     "name": "stdout",
     "output_type": "stream",
     "text": [
      "Best parameters for KNNBaseline:  {'k': 10}\n",
      "Elapsed time: 19.77 seconds\n"
     ]
    }
   ],
   "source": [
    "# Record the start time\n",
    "start_time = time.time()\n",
    "\n",
    "# Perform GridSearchCV for KNNBaseline\n",
    "grid_search_knnbaseline = GridSearchCV(KNNBaseline, param_grid, measures=['rmse', 'mae'], cv=5, n_jobs=-1)\n",
    "grid_search_knnbaseline.fit(surprise_subsetdata)\n",
    "\n",
    "# Print the best parameters for KNNBaseline\n",
    "print(\"Best parameters for KNNBaseline: \", grid_search_knnbaseline.best_params['rmse'])\n",
    "\n",
    "elapsed_time = time.time() - start_time\n",
    "print(f\"Elapsed time: {elapsed_time:.2f} seconds\")"
   ]
  },
  {
   "cell_type": "markdown",
   "id": "0f851208",
   "metadata": {},
   "source": [
    "Basic KNN"
   ]
  },
  {
   "cell_type": "code",
   "execution_count": 8,
   "id": "cb17da71",
   "metadata": {},
   "outputs": [
    {
     "name": "stdout",
     "output_type": "stream",
     "text": [
      "Computing the cosine similarity matrix...\n",
      "Done computing similarity matrix.\n",
      "Computing the cosine similarity matrix...\n",
      "Done computing similarity matrix.\n",
      "Computing the cosine similarity matrix...\n",
      "Done computing similarity matrix.\n",
      "Computing the cosine similarity matrix...\n",
      "Done computing similarity matrix.\n",
      "Computing the cosine similarity matrix...\n",
      "Done computing similarity matrix.\n",
      "Evaluating RMSE, MAE of algorithm KNNBasic on 5 split(s).\n",
      "\n",
      "                  Fold 1  Fold 2  Fold 3  Fold 4  Fold 5  Mean    Std     \n",
      "RMSE (testset)    1.2121  1.2078  1.2075  1.2122  1.2071  1.2094  0.0023  \n",
      "MAE (testset)     0.9496  0.9458  0.9464  0.9475  0.9466  0.9472  0.0013  \n",
      "Fit time          65.17   60.84   64.79   62.26   65.32   63.68   1.80    \n",
      "Test time         0.36    0.36    0.47    0.36    0.36    0.38    0.04    \n",
      "Elapsed time: 323.68 seconds\n"
     ]
    }
   ],
   "source": [
    "# Record the start time\n",
    "start_time = time.time()\n",
    "\n",
    "# Train the basic KNN model\n",
    "basic_knn = KNNBasic(k=10, sim_options={'name': 'cosine', 'user_based': False})\n",
    "\n",
    "# Run 5-fold cross-validation and print results.\n",
    "cross_validate(basic_knn, surprise_data, measures=['RMSE', 'MAE'], cv=5, verbose=True)\n",
    "\n",
    "elapsed_time = time.time() - start_time\n",
    "print(f\"Elapsed time: {elapsed_time:.2f} seconds\")"
   ]
  },
  {
   "cell_type": "markdown",
   "id": "260f0d9b",
   "metadata": {},
   "source": [
    "KNN Baseline"
   ]
  },
  {
   "cell_type": "code",
   "execution_count": 9,
   "id": "023d5d93",
   "metadata": {},
   "outputs": [
    {
     "name": "stdout",
     "output_type": "stream",
     "text": [
      "Estimating biases using als...\n",
      "Computing the msd similarity matrix...\n",
      "Done computing similarity matrix.\n",
      "Estimating biases using als...\n",
      "Computing the msd similarity matrix...\n",
      "Done computing similarity matrix.\n",
      "Estimating biases using als...\n",
      "Computing the msd similarity matrix...\n",
      "Done computing similarity matrix.\n",
      "Estimating biases using als...\n",
      "Computing the msd similarity matrix...\n",
      "Done computing similarity matrix.\n",
      "Estimating biases using als...\n",
      "Computing the msd similarity matrix...\n",
      "Done computing similarity matrix.\n",
      "Evaluating RMSE, MAE of algorithm KNNBaseline on 5 split(s).\n",
      "\n",
      "                  Fold 1  Fold 2  Fold 3  Fold 4  Fold 5  Mean    Std     \n",
      "RMSE (testset)    1.1802  1.1855  1.1697  1.1806  1.1833  1.1799  0.0054  \n",
      "MAE (testset)     0.9054  0.9091  0.8994  0.9049  0.9074  0.9053  0.0033  \n",
      "Fit time          58.93   66.56   64.97   66.36   61.97   63.76   2.92    \n",
      "Test time         0.32    0.32    0.32    0.33    0.32    0.32    0.00    \n",
      "Elapsed time: 323.91 seconds\n"
     ]
    }
   ],
   "source": [
    "# Record the start time\n",
    "start_time = time.time()\n",
    "\n",
    "# Train the best k-NN model using the best parameters\n",
    "base_knn = KNNBaseline(k=10, sim_options={'name': 'msd', 'user_based': False})\n",
    "\n",
    "# Run 5-fold cross-validation and print results.\n",
    "cross_validate(base_knn, surprise_data, measures=['RMSE', 'MAE'], cv=5, verbose=True)\n",
    "\n",
    "elapsed_time = time.time() - start_time\n",
    "print(f\"Elapsed time: {elapsed_time:.2f} seconds\")"
   ]
  },
  {
   "cell_type": "code",
   "execution_count": 20,
   "id": "b63056b9",
   "metadata": {},
   "outputs": [
    {
     "name": "stdout",
     "output_type": "stream",
     "text": [
      "Computing the cosine similarity matrix...\n",
      "Done computing similarity matrix.\n",
      "Computing the cosine similarity matrix...\n",
      "Done computing similarity matrix.\n",
      "Computing the cosine similarity matrix...\n",
      "Done computing similarity matrix.\n",
      "Computing the cosine similarity matrix...\n",
      "Done computing similarity matrix.\n",
      "Computing the cosine similarity matrix...\n",
      "Done computing similarity matrix.\n",
      "Estimating biases using als...\n",
      "Computing the msd similarity matrix...\n",
      "Done computing similarity matrix.\n",
      "Estimating biases using als...\n",
      "Computing the msd similarity matrix...\n",
      "Done computing similarity matrix.\n",
      "Estimating biases using als...\n",
      "Computing the msd similarity matrix...\n",
      "Done computing similarity matrix.\n",
      "Estimating biases using als...\n",
      "Computing the msd similarity matrix...\n",
      "Done computing similarity matrix.\n",
      "Estimating biases using als...\n",
      "Computing the msd similarity matrix...\n",
      "Done computing similarity matrix.\n"
     ]
    },
    {
     "data": {
      "image/png": "[encoded data removed]",
      "text/plain": [
       "<Figure size 864x432 with 2 Axes>"
      ]
     },
     "metadata": {
      "needs_background": "light"
     },
     "output_type": "display_data"
    }
   ],
   "source": [
    "# Define the models\n",
    "\n",
    "model1 = basic_knn\n",
    "model2 = base_knn\n",
    "with open('best_svd_model.pkl', 'rb') as file:\n",
    "    model3 = pickle.load(file)\n",
    "with open('best_svdpp_model.pkl', 'rb') as file:\n",
    "    model4 = pickle.load(file)\n",
    "\n",
    "models = [model1, model2, model3, model4]\n",
    "\n",
    "# Initialize arrays to store the results\n",
    "rmse_means = []\n",
    "mae_means = []\n",
    "elapsed_times = []\n",
    "\n",
    "# Run cross-validation and store results for each model\n",
    "for model in models:\n",
    "    start_time = time.time()\n",
    "    results = cross_validate(model, surprise_data, measures=['RMSE', 'MAE'], cv=5, verbose=False)\n",
    "    elapsed_time = time.time() - start_time\n",
    "\n",
    "    rmse_means.append(np.mean(results['test_rmse']))\n",
    "    mae_means.append(np.mean(results['test_mae']))\n",
    "    elapsed_times.append(elapsed_time)\n",
    "\n",
    "# Create bar plots\n",
    "x_labels = ['basic_knn', 'baseline_knn', 'svd', 'svdpp']\n",
    "\n",
    "fig, (ax1, ax2) = plt.subplots(1, 2, figsize=(12, 6))\n",
    "fig.suptitle('Model Performance Comparison')\n",
    "\n",
    "ax1.bar(x_labels, rmse_means)\n",
    "ax1.set_title('RMSE')\n",
    "ax1.set_ylim([min(rmse_means) * 0.95, max(rmse_means) * 1.05])\n",
    "\n",
    "ax2.bar(x_labels, mae_means)\n",
    "ax2.set_title('MAE')\n",
    "ax2.set_ylim([min(mae_means) * 0.95, max(mae_means) * 1.05])\n",
    "\n",
    "plt.show()\n"
   ]
  }
 ],
 "metadata": {
  "kernelspec": {
   "display_name": "conda_amazonei_mxnet_p36",
   "language": "python",
   "name": "conda_amazonei_mxnet_p36"
  },
  "language_info": {
   "codemirror_mode": {
    "name": "ipython",
    "version": 3
   },
   "file_extension": ".py",
   "mimetype": "text/x-python",
   "name": "python",
   "nbconvert_exporter": "python",
   "pygments_lexer": "ipython3",
   "version": "3.6.13"
  }
 },
 "nbformat": 4,
 "nbformat_minor": 5
}
