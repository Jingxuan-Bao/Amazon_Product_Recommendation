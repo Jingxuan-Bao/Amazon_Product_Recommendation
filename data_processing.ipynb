{
 "cells": [
  {
   "cell_type": "markdown",
   "id": "3783eb76",
   "metadata": {
    "id": "856544fd"
   },
   "source": [
    "import and pip necessary libraries"
   ]
  },
  {
   "cell_type": "code",
   "execution_count": 1,
   "id": "280c1e83",
   "metadata": {
    "id": "3f944967"
   },
   "outputs": [],
   "source": [
    "import pandas as pd \n",
    "import time\n",
    "import matplotlib.pyplot as plt\n",
    "import seaborn as sns\n",
    "import numpy as np\n",
    "from datetime import datetime"
   ]
  },
  {
   "cell_type": "markdown",
   "id": "53d80767",
   "metadata": {
    "id": "787c5a4b"
   },
   "source": [
    "Read Data"
   ]
  },
  {
   "cell_type": "code",
   "execution_count": 2,
   "id": "ec92d72d",
   "metadata": {
    "colab": {
     "base_uri": "https://localhost:8080/",
     "height": 206
    },
    "id": "37042713",
    "outputId": "12e3cf5c-3e03-454d-f671-e42cbc6d321d"
   },
   "outputs": [
    {
     "data": {
      "text/html": [
       "<div>\n",
       "<style scoped>\n",
       "    .dataframe tbody tr th:only-of-type {\n",
       "        vertical-align: middle;\n",
       "    }\n",
       "\n",
       "    .dataframe tbody tr th {\n",
       "        vertical-align: top;\n",
       "    }\n",
       "\n",
       "    .dataframe thead th {\n",
       "        text-align: right;\n",
       "    }\n",
       "</style>\n",
       "<table border=\"1\" class=\"dataframe\">\n",
       "  <thead>\n",
       "    <tr style=\"text-align: right;\">\n",
       "      <th></th>\n",
       "      <th>userId</th>\n",
       "      <th>productId</th>\n",
       "      <th>rating</th>\n",
       "      <th>timestamp</th>\n",
       "    </tr>\n",
       "  </thead>\n",
       "  <tbody>\n",
       "    <tr>\n",
       "      <th>0</th>\n",
       "      <td>AKM1MP6P0OYPR</td>\n",
       "      <td>0132793040</td>\n",
       "      <td>5.0</td>\n",
       "      <td>1365811200</td>\n",
       "    </tr>\n",
       "    <tr>\n",
       "      <th>1</th>\n",
       "      <td>A2CX7LUOHB2NDG</td>\n",
       "      <td>0321732944</td>\n",
       "      <td>5.0</td>\n",
       "      <td>1341100800</td>\n",
       "    </tr>\n",
       "    <tr>\n",
       "      <th>2</th>\n",
       "      <td>A2NWSAGRHCP8N5</td>\n",
       "      <td>0439886341</td>\n",
       "      <td>1.0</td>\n",
       "      <td>1367193600</td>\n",
       "    </tr>\n",
       "    <tr>\n",
       "      <th>3</th>\n",
       "      <td>A2WNBOD3WNDNKT</td>\n",
       "      <td>0439886341</td>\n",
       "      <td>3.0</td>\n",
       "      <td>1374451200</td>\n",
       "    </tr>\n",
       "    <tr>\n",
       "      <th>4</th>\n",
       "      <td>A1GI0U4ZRJA8WN</td>\n",
       "      <td>0439886341</td>\n",
       "      <td>1.0</td>\n",
       "      <td>1334707200</td>\n",
       "    </tr>\n",
       "  </tbody>\n",
       "</table>\n",
       "</div>"
      ],
      "text/plain": [
       "           userId   productId  rating   timestamp\n",
       "0   AKM1MP6P0OYPR  0132793040     5.0  1365811200\n",
       "1  A2CX7LUOHB2NDG  0321732944     5.0  1341100800\n",
       "2  A2NWSAGRHCP8N5  0439886341     1.0  1367193600\n",
       "3  A2WNBOD3WNDNKT  0439886341     3.0  1374451200\n",
       "4  A1GI0U4ZRJA8WN  0439886341     1.0  1334707200"
      ]
     },
     "execution_count": 2,
     "metadata": {},
     "output_type": "execute_result"
    }
   ],
   "source": [
    "df = pd.read_csv(\"ratings_Electronics.csv\", names=[\"userId\", \"productId\", \"rating\", \"timestamp\"])  \n",
    "df.head() "
   ]
  },
  {
   "cell_type": "code",
   "execution_count": 3,
   "id": "64b5c974",
   "metadata": {
    "colab": {
     "base_uri": "https://localhost:8080/"
    },
    "id": "108c521e",
    "outputId": "e31cb9a8-d368-4f5b-d5cd-4556e8bb8686"
   },
   "outputs": [
    {
     "name": "stdout",
     "output_type": "stream",
     "text": [
      "<class 'pandas.core.frame.DataFrame'>\n",
      "RangeIndex: 7824482 entries, 0 to 7824481\n",
      "Data columns (total 4 columns):\n",
      " #   Column     Dtype  \n",
      "---  ------     -----  \n",
      " 0   userId     object \n",
      " 1   productId  object \n",
      " 2   rating     float64\n",
      " 3   timestamp  int64  \n",
      "dtypes: float64(1), int64(1), object(2)\n",
      "memory usage: 238.8+ MB\n",
      "None\n",
      "             rating     timestamp\n",
      "count  7.824482e+06  7.824482e+06\n",
      "mean   4.012337e+00  1.338178e+09\n",
      "std    1.380910e+00  6.900426e+07\n",
      "min    1.000000e+00  9.127296e+08\n",
      "25%    3.000000e+00  1.315354e+09\n",
      "50%    5.000000e+00  1.361059e+09\n",
      "75%    5.000000e+00  1.386115e+09\n",
      "max    5.000000e+00  1.406074e+09\n"
     ]
    }
   ],
   "source": [
    "# Display dataset information and basic statistics\n",
    "print(df.info())\n",
    "print(df.describe())"
   ]
  },
  {
   "cell_type": "markdown",
   "id": "a0a39a08",
   "metadata": {
    "id": "e18a9ed6"
   },
   "source": [
    "Data Preprocess"
   ]
  },
  {
   "cell_type": "code",
   "execution_count": 4,
   "id": "07735407",
   "metadata": {
    "colab": {
     "base_uri": "https://localhost:8080/"
    },
    "id": "4a83c83d",
    "outputId": "eb9e91ba-9246-4f2f-c4e6-df26b299088f"
   },
   "outputs": [
    {
     "name": "stdout",
     "output_type": "stream",
     "text": [
      "Missing values:\n",
      " userId       0\n",
      "productId    0\n",
      "rating       0\n",
      "timestamp    0\n",
      "dtype: int64\n",
      "Duplicate rows:\n",
      " 0\n"
     ]
    }
   ],
   "source": [
    "# Check for missing values\n",
    "print(\"Missing values:\\n\", df.isnull().sum())\n",
    "\n",
    "# Check for duplicate rows\n",
    "print(\"Duplicate rows:\\n\", df.duplicated().sum())"
   ]
  },
  {
   "cell_type": "code",
   "execution_count": 5,
   "id": "1c159cf9",
   "metadata": {
    "id": "455c752d"
   },
   "outputs": [],
   "source": [
    "# Drop duplicate rows, if any\n",
    "df = df.drop_duplicates()"
   ]
  },
  {
   "cell_type": "code",
   "execution_count": 6,
   "id": "b3383e54",
   "metadata": {
    "colab": {
     "base_uri": "https://localhost:8080/",
     "height": 564
    },
    "id": "f476ac95",
    "outputId": "1b5639ba-92f9-4b74-cf64-bfccc9b4196e"
   },
   "outputs": [
    {
     "data": {
      "image/png": "[encoded data removed]",
      "text/plain": [
       "<Figure size 576x432 with 1 Axes>"
      ]
     },
     "metadata": {
      "needs_background": "light"
     },
     "output_type": "display_data"
    }
   ],
   "source": [
    "# Explore the distribution of ratings\n",
    "plt.figure(figsize=(8, 6))\n",
    "sns.countplot(data=df, x='rating', palette='viridis')\n",
    "plt.title('Distribution of Ratings')\n",
    "plt.xlabel('Rating')\n",
    "plt.ylabel('Frequency')\n",
    "plt.show()"
   ]
  },
  {
   "cell_type": "markdown",
   "id": "ff4a07cf",
   "metadata": {
    "id": "aaa50d8b"
   },
   "source": [
    "Data Filter"
   ]
  },
  {
   "cell_type": "code",
   "execution_count": 7,
   "id": "7ea01189",
   "metadata": {
    "colab": {
     "base_uri": "https://localhost:8080/",
     "height": 440
    },
    "id": "3bea68e2",
    "outputId": "fc422449-efdb-44f5-9a66-96b239aaef33"
   },
   "outputs": [
    {
     "data": {
      "image/png": "[encoded data removed]",
      "text/plain": [
       "<Figure size 1152x432 with 1 Axes>"
      ]
     },
     "metadata": {
      "needs_background": "light"
     },
     "output_type": "display_data"
    }
   ],
   "source": [
    "# Explore the number of ratings per user\n",
    "user_ratings_count = df['userId'].value_counts()\n",
    "plt.figure(figsize=(16, 6))\n",
    "sns.histplot(user_ratings_count, kde=False, bins=100, log_scale=(False, True))\n",
    "plt.title('Number of Ratings per User (Logarithmic Scale on Y-axis)')\n",
    "plt.xlabel('Number of Ratings')\n",
    "plt.ylabel('User Count (Logarithmic Scale)')\n",
    "plt.xlim(0, user_ratings_count.max())\n",
    "plt.show()"
   ]
  },
  {
   "cell_type": "code",
   "execution_count": 8,
   "id": "0bcb2231",
   "metadata": {
    "colab": {
     "base_uri": "https://localhost:8080/",
     "height": 440
    },
    "id": "9fc07e56",
    "outputId": "53500de9-1dbd-4ced-c77d-040bc20434f9"
   },
   "outputs": [
    {
     "data": {
      "image/png": "[encoded data removed]",
      "text/plain": [
       "<Figure size 1152x432 with 1 Axes>"
      ]
     },
     "metadata": {
      "needs_background": "light"
     },
     "output_type": "display_data"
    }
   ],
   "source": [
    "# Explore the number of ratings per product\n",
    "product_ratings_count = df['productId'].value_counts()\n",
    "plt.figure(figsize=(16, 6))\n",
    "sns.histplot(product_ratings_count, kde=False, bins=100, log_scale=(False, True))\n",
    "plt.title('Number of Ratings per Product (Logarithmic Scale on Y-axis)')\n",
    "plt.xlabel('Number of Ratings')\n",
    "plt.ylabel('Product Count (Logarithmic Scale)')\n",
    "plt.xlim(0, product_ratings_count.max())\n",
    "plt.show()"
   ]
  },
  {
   "cell_type": "code",
   "execution_count": 9,
   "id": "ea0628bb",
   "metadata": {},
   "outputs": [
    {
     "data": {
      "image/png": "[encoded data removed]",
      "text/plain": [
       "<Figure size 864x288 with 2 Axes>"
      ]
     },
     "metadata": {
      "needs_background": "light"
     },
     "output_type": "display_data"
    }
   ],
   "source": [
    "# Calculate the quantiles for users and products at different percentiles\n",
    "percentiles = np.arange(0, 95, 5)\n",
    "user_quantiles = [user_ratings_count.quantile(p / 100) for p in percentiles]\n",
    "product_quantiles = [product_ratings_count.quantile(p / 100) for p in percentiles]\n",
    "\n",
    "# Plot the quantiles for users and products\n",
    "fig, (ax1, ax2) = plt.subplots(1, 2, figsize=(12, 4))\n",
    "\n",
    "ax1.plot(percentiles, user_quantiles, marker='o', linestyle='-')\n",
    "ax1.set_title('User Ratings Quantiles')\n",
    "ax1.set_xlabel('Percentiles')\n",
    "ax1.set_ylabel('Number of Ratings')\n",
    "ax1.grid()\n",
    "\n",
    "ax2.plot(percentiles, product_quantiles, marker='o', linestyle='-')\n",
    "ax2.set_title('Product Ratings Quantiles')\n",
    "ax2.set_xlabel('Percentiles')\n",
    "ax2.set_ylabel('Number of Ratings')\n",
    "ax2.grid()\n",
    "\n",
    "plt.show()"
   ]
  },
  {
   "cell_type": "code",
   "execution_count": 10,
   "id": "9df76e9c",
   "metadata": {},
   "outputs": [
    {
     "data": {
      "image/png": "[encoded data removed]",
      "text/plain": [
       "<Figure size 720x432 with 1 Axes>"
      ]
     },
     "metadata": {
      "needs_background": "light"
     },
     "output_type": "display_data"
    },
    {
     "data": {
      "image/png": "[encoded data removed]",
      "text/plain": [
       "<Figure size 720x432 with 1 Axes>"
      ]
     },
     "metadata": {
      "needs_background": "light"
     },
     "output_type": "display_data"
    }
   ],
   "source": [
    "product_rating_agg = df.groupby('productId')['rating'].agg(['mean', 'count']).reset_index()\n",
    "\n",
    "user_rating_agg = df.groupby('userId')['rating'].agg(['mean', 'count']).reset_index()\n",
    "\n",
    "plt.figure(figsize=(10, 6))\n",
    "sns.histplot(user_rating_agg['mean'], bins=50, kde=False)\n",
    "plt.title('Distribution of Average Ratings per User')\n",
    "plt.xlabel('Average Rating')\n",
    "plt.ylabel('Frequency')\n",
    "plt.show()\n",
    "\n",
    "plt.figure(figsize=(10, 6))\n",
    "sns.histplot(product_rating_agg['mean'], bins=50, kde=False)\n",
    "plt.title('Distribution of Average Ratings per Product')\n",
    "plt.xlabel('Average Rating')\n",
    "plt.ylabel('Frequency')\n",
    "plt.show()"
   ]
  },
  {
   "cell_type": "code",
   "execution_count": 11,
   "id": "fb61547e",
   "metadata": {
    "colab": {
     "base_uri": "https://localhost:8080/"
    },
    "id": "9a7e519a",
    "outputId": "1c1b4a6d-53ac-4d17-afcc-7d381d1d3968"
   },
   "outputs": [
    {
     "name": "stdout",
     "output_type": "stream",
     "text": [
      "Original data shape: (7824482, 4)\n",
      "Filtered data shape: (1991560, 4)\n"
     ]
    }
   ],
   "source": [
    "# Filter users and products with a minimum number of ratings\n",
    "# we set min user ratings as 20 and min product ratings as 10\n",
    "min_user_ratings = 5\n",
    "min_product_ratings = 10\n",
    "\n",
    "filtered_users = user_ratings_count[user_ratings_count >= min_user_ratings].index\n",
    "filtered_products = product_ratings_count[product_ratings_count >= min_product_ratings].index\n",
    "\n",
    "filtered_data = df[(df['userId'].isin(filtered_users)) & (df['productId'].isin(filtered_products))]\n",
    "\n",
    "# Print the shape of the original and filtered data\n",
    "print(f\"Original data shape: {df.shape}\")\n",
    "print(f\"Filtered data shape: {filtered_data.shape}\")"
   ]
  },
  {
   "cell_type": "markdown",
   "id": "07c7eca2",
   "metadata": {
    "id": "89f5fc2c"
   },
   "source": [
    "EDA"
   ]
  },
  {
   "cell_type": "code",
   "execution_count": 12,
   "id": "2cc8eade",
   "metadata": {
    "colab": {
     "base_uri": "https://localhost:8080/"
    },
    "id": "c953f74e",
    "outputId": "9780f6b8-277c-4a5e-9662-c6ae03c014e7"
   },
   "outputs": [
    {
     "name": "stdout",
     "output_type": "stream",
     "text": [
      "Data shape: (1991560, 4)\n",
      "\n",
      "Data types:\n",
      " userId        object\n",
      "productId     object\n",
      "rating       float64\n",
      "timestamp      int64\n",
      "dtype: object\n",
      "\n",
      "Missing values:\n",
      " userId       0\n",
      "productId    0\n",
      "rating       0\n",
      "timestamp    0\n",
      "dtype: int64\n"
     ]
    }
   ],
   "source": [
    "# basic data information\n",
    "print(\"Data shape:\", filtered_data.shape)\n",
    "print(\"\\nData types:\\n\", filtered_data.dtypes)\n",
    "print(\"\\nMissing values:\\n\", filtered_data.isnull().sum())"
   ]
  },
  {
   "cell_type": "code",
   "execution_count": 13,
   "id": "47098a27",
   "metadata": {
    "colab": {
     "base_uri": "https://localhost:8080/"
    },
    "id": "fa56d1e9",
    "outputId": "130f63a2-3e96-4a3e-843e-dfebc14e546d"
   },
   "outputs": [
    {
     "name": "stdout",
     "output_type": "stream",
     "text": [
      "\n",
      "Summary statistics for numerical features:\n",
      "              rating     timestamp\n",
      "count  1.991560e+06  1.991560e+06\n",
      "mean   4.201605e+00  1.339592e+09\n",
      "std    1.205818e+00  6.520485e+07\n",
      "min    1.000000e+00  9.292320e+08\n",
      "25%    4.000000e+00  1.316909e+09\n",
      "50%    5.000000e+00  1.360714e+09\n",
      "75%    5.000000e+00  1.385078e+09\n",
      "max    5.000000e+00  1.406074e+09\n",
      "\n",
      "Frequency distribution for categorical features:\n",
      "\n",
      "userId:\n",
      "ADLVFFE4VBT8      439\n",
      "A3OXHLG6DIBRW8    423\n",
      "A5JLAU2ARJ0BO     410\n",
      "A6FIAB28IS79      390\n",
      "A680RUE1FDO8B     356\n",
      "                 ... \n",
      "AY14HVG8HE5EF       1\n",
      "A2K14ULK1QZW1K      1\n",
      "A1GUT6TIUSW48G      1\n",
      "A4R2FRH4HSWF        1\n",
      "AWNJIJYMN0NJ1       1\n",
      "Name: userId, Length: 253895, dtype: int64\n",
      "\n",
      "productId:\n",
      "B007WTAJTO    5483\n",
      "B003ES5ZUU    4480\n",
      "B00DR0PDNE    4283\n",
      "B0019EHU8G    3836\n",
      "B002WE6D44    3107\n",
      "              ... \n",
      "B00HD32FWI       1\n",
      "B00ESQ424W       1\n",
      "B002MCTZZU       1\n",
      "B00E7NG5M8       1\n",
      "B007GRXXD6       1\n",
      "Name: productId, Length: 95177, dtype: int64\n"
     ]
    }
   ],
   "source": [
    "# data statistics information\n",
    "print(\"\\nSummary statistics for numerical features:\\n\", filtered_data.describe())\n",
    "\n",
    "print(\"\\nFrequency distribution for categorical features:\")\n",
    "for col in filtered_data.select_dtypes(include=['object']):\n",
    "    print(f\"\\n{col}:\\n{filtered_data[col].value_counts()}\")"
   ]
  },
  {
   "cell_type": "code",
   "execution_count": 14,
   "id": "65160394",
   "metadata": {
    "colab": {
     "base_uri": "https://localhost:8080/"
    },
    "id": "2209b5fb",
    "outputId": "09b63437-ffe1-43a5-b5d9-ce5ccc51835f"
   },
   "outputs": [
    {
     "name": "stdout",
     "output_type": "stream",
     "text": [
      "Number of unique users: 253895\n",
      "Number of unique products: 95177\n"
     ]
    }
   ],
   "source": [
    "# check unique values\n",
    "print(f\"Number of unique users: {filtered_data['userId'].nunique()}\")\n",
    "print(f\"Number of unique products: {filtered_data['productId'].nunique()}\")"
   ]
  },
  {
   "cell_type": "code",
   "execution_count": 15,
   "id": "91401721",
   "metadata": {
    "colab": {
     "base_uri": "https://localhost:8080/",
     "height": 1000
    },
    "id": "8566a017",
    "outputId": "8e7a31a1-5f0b-4dff-fa91-5291540fcd3b"
   },
   "outputs": [
    {
     "data": {
      "image/png": "[encoded data removed]",
      "text/plain": [
       "<Figure size 720x432 with 1 Axes>"
      ]
     },
     "metadata": {
      "needs_background": "light"
     },
     "output_type": "display_data"
    },
    {
     "data": {
      "image/png": "[encoded data removed]",
      "text/plain": [
       "<Figure size 720x432 with 1 Axes>"
      ]
     },
     "metadata": {
      "needs_background": "light"
     },
     "output_type": "display_data"
    }
   ],
   "source": [
    "product_rating_agg = filtered_data.groupby('productId')['rating'].agg(['mean', 'count']).reset_index()\n",
    "\n",
    "user_rating_agg = filtered_data.groupby('userId')['rating'].agg(['mean', 'count']).reset_index()\n",
    "\n",
    "plt.figure(figsize=(10, 6))\n",
    "sns.histplot(user_rating_agg['mean'], bins=50, kde=False)\n",
    "plt.title('Distribution of Average Ratings per User')\n",
    "plt.xlabel('Average Rating')\n",
    "plt.ylabel('Frequency')\n",
    "plt.show()\n",
    "\n",
    "plt.figure(figsize=(10, 6))\n",
    "sns.histplot(product_rating_agg['mean'], bins=50, kde=False)\n",
    "plt.title('Distribution of Average Ratings per Product')\n",
    "plt.xlabel('Average Rating')\n",
    "plt.ylabel('Frequency')\n",
    "plt.show()"
   ]
  },
  {
   "cell_type": "code",
   "execution_count": 16,
   "id": "20949197",
   "metadata": {
    "colab": {
     "base_uri": "https://localhost:8080/",
     "height": 1000
    },
    "id": "21083351",
    "outputId": "8d7e5e93-1488-438d-9536-c5b131268a5d"
   },
   "outputs": [
    {
     "data": {
      "image/png": "[encoded data removed]",
      "text/plain": [
       "<Figure size 720x432 with 1 Axes>"
      ]
     },
     "metadata": {
      "needs_background": "light"
     },
     "output_type": "display_data"
    },
    {
     "data": {
      "image/png": "[encoded data removed]",
      "text/plain": [
       "<Figure size 720x432 with 1 Axes>"
      ]
     },
     "metadata": {
      "needs_background": "light"
     },
     "output_type": "display_data"
    },
    {
     "data": {
      "image/png": "[encoded data removed]",
      "text/plain": [
       "<Figure size 720x432 with 1 Axes>"
      ]
     },
     "metadata": {
      "needs_background": "light"
     },
     "output_type": "display_data"
    }
   ],
   "source": [
    "data_with_datetime = filtered_data.copy()\n",
    "\n",
    "# Convert the 'timestamp' column to a datetime object\n",
    "data_with_datetime['datetime'] = data_with_datetime['timestamp'].apply(lambda x: datetime.fromtimestamp(x))\n",
    "\n",
    "# Extract year, month, day, and hour information\n",
    "data_with_datetime['year'] = data_with_datetime['datetime'].dt.year\n",
    "data_with_datetime['month'] = data_with_datetime['datetime'].dt.month\n",
    "data_with_datetime['day'] = data_with_datetime['datetime'].dt.day\n",
    "\n",
    "\n",
    "\n",
    "# Visualize the distribution of ratings by year, month, day, and hour\n",
    "plt.figure(figsize=(10, 6))\n",
    "sns.countplot(x='year', data=data_with_datetime)\n",
    "plt.title('Number of Ratings by Year')\n",
    "plt.xlabel('Year')\n",
    "plt.ylabel('Frequency')\n",
    "plt.show()\n",
    "\n",
    "plt.figure(figsize=(10, 6))\n",
    "sns.countplot(x='month', data=data_with_datetime)\n",
    "plt.title('Number of Ratings by Month')\n",
    "plt.xlabel('Month')\n",
    "plt.ylabel('Frequency')\n",
    "plt.show()\n",
    "\n",
    "plt.figure(figsize=(10, 6))\n",
    "sns.countplot(x='day', data=data_with_datetime)\n",
    "plt.title('Number of Ratings by Day of Month')\n",
    "plt.xlabel('Day')\n",
    "plt.ylabel('Frequency')\n",
    "plt.show()"
   ]
  },
  {
   "cell_type": "markdown",
   "id": "05b5dfad",
   "metadata": {
    "id": "vEfqlM2CJqdr"
   },
   "source": [
    "Download the processed dataset"
   ]
  },
  {
   "cell_type": "code",
   "execution_count": 17,
   "id": "65ccc09f",
   "metadata": {
    "colab": {
     "base_uri": "https://localhost:8080/",
     "height": 17
    },
    "id": "9u3pL12NJmY0",
    "outputId": "ec7a261c-aad2-4685-d5ff-af5f4ca5216c"
   },
   "outputs": [
    {
     "name": "stdout",
     "output_type": "stream",
     "text": [
      "You can find the CSV file in the current directory.\n"
     ]
    }
   ],
   "source": [
    "# Save the DataFrame to a CSV file\n",
    "csv_file = 'filtered_data.csv'\n",
    "filtered_data.to_csv(csv_file, index=False)\n",
    "\n",
    "# Download the CSV file\n",
    "try:\n",
    "    from google.colab import files\n",
    "    files.download(csv_file)\n",
    "except ImportError:\n",
    "    print(\"You can find the CSV file in the current directory.\")"
   ]
  },
  {
   "cell_type": "markdown",
   "id": "907411c9",
   "metadata": {
    "id": "xaQ0fPsZMKNx"
   },
   "source": [
    "Check filtered_data"
   ]
  },
  {
   "cell_type": "code",
   "execution_count": 18,
   "id": "89506169",
   "metadata": {
    "colab": {
     "base_uri": "https://localhost:8080/",
     "height": 262
    },
    "id": "w9f1Eh4VMJfj",
    "outputId": "3ab44900-27e5-46fe-9c19-2a0288a8ea5f"
   },
   "outputs": [
    {
     "name": "stderr",
     "output_type": "stream",
     "text": [
      "/home/ec2-user/anaconda3/envs/amazonei_mxnet_p36/lib/python3.6/site-packages/IPython/core/interactiveshell.py:3072: DtypeWarning: Columns (2,3) have mixed types.Specify dtype option on import or set low_memory=False.\n",
      "  interactivity=interactivity, compiler=compiler, result=result)\n"
     ]
    },
    {
     "data": {
      "text/html": [
       "<div>\n",
       "<style scoped>\n",
       "    .dataframe tbody tr th:only-of-type {\n",
       "        vertical-align: middle;\n",
       "    }\n",
       "\n",
       "    .dataframe tbody tr th {\n",
       "        vertical-align: top;\n",
       "    }\n",
       "\n",
       "    .dataframe thead th {\n",
       "        text-align: right;\n",
       "    }\n",
       "</style>\n",
       "<table border=\"1\" class=\"dataframe\">\n",
       "  <thead>\n",
       "    <tr style=\"text-align: right;\">\n",
       "      <th></th>\n",
       "      <th>userId</th>\n",
       "      <th>productId</th>\n",
       "      <th>rating</th>\n",
       "      <th>timestamp</th>\n",
       "    </tr>\n",
       "  </thead>\n",
       "  <tbody>\n",
       "    <tr>\n",
       "      <th>0</th>\n",
       "      <td>userId</td>\n",
       "      <td>productId</td>\n",
       "      <td>rating</td>\n",
       "      <td>timestamp</td>\n",
       "    </tr>\n",
       "    <tr>\n",
       "      <th>1</th>\n",
       "      <td>AO94DHGC771SJ</td>\n",
       "      <td>0528881469</td>\n",
       "      <td>5.0</td>\n",
       "      <td>1370131200</td>\n",
       "    </tr>\n",
       "    <tr>\n",
       "      <th>2</th>\n",
       "      <td>AMO214LNFCEI4</td>\n",
       "      <td>0528881469</td>\n",
       "      <td>1.0</td>\n",
       "      <td>1290643200</td>\n",
       "    </tr>\n",
       "    <tr>\n",
       "      <th>3</th>\n",
       "      <td>A3N7T0DY83Y4IG</td>\n",
       "      <td>0528881469</td>\n",
       "      <td>3.0</td>\n",
       "      <td>1283990400</td>\n",
       "    </tr>\n",
       "    <tr>\n",
       "      <th>4</th>\n",
       "      <td>A1H8PY3QHMQQA0</td>\n",
       "      <td>0528881469</td>\n",
       "      <td>2.0</td>\n",
       "      <td>1290556800</td>\n",
       "    </tr>\n",
       "  </tbody>\n",
       "</table>\n",
       "</div>"
      ],
      "text/plain": [
       "           userId   productId  rating   timestamp\n",
       "0          userId   productId  rating   timestamp\n",
       "1   AO94DHGC771SJ  0528881469     5.0  1370131200\n",
       "2   AMO214LNFCEI4  0528881469     1.0  1290643200\n",
       "3  A3N7T0DY83Y4IG  0528881469     3.0  1283990400\n",
       "4  A1H8PY3QHMQQA0  0528881469     2.0  1290556800"
      ]
     },
     "execution_count": 18,
     "metadata": {},
     "output_type": "execute_result"
    }
   ],
   "source": [
    "df_check = pd.read_csv(\"filtered_data.csv\", names=[\"userId\", \"productId\", \"rating\", \"timestamp\"])  \n",
    "df_check.head() "
   ]
  },
  {
   "cell_type": "code",
   "execution_count": 19,
   "id": "39de2873",
   "metadata": {
    "colab": {
     "base_uri": "https://localhost:8080/",
     "height": 424
    },
    "id": "Rx9PWBNBMTvw",
    "outputId": "517f16c7-8291-41c8-a05a-a912cd54a1e4"
   },
   "outputs": [
    {
     "data": {
      "text/html": [
       "<div>\n",
       "<style scoped>\n",
       "    .dataframe tbody tr th:only-of-type {\n",
       "        vertical-align: middle;\n",
       "    }\n",
       "\n",
       "    .dataframe tbody tr th {\n",
       "        vertical-align: top;\n",
       "    }\n",
       "\n",
       "    .dataframe thead th {\n",
       "        text-align: right;\n",
       "    }\n",
       "</style>\n",
       "<table border=\"1\" class=\"dataframe\">\n",
       "  <thead>\n",
       "    <tr style=\"text-align: right;\">\n",
       "      <th></th>\n",
       "      <th>userId</th>\n",
       "      <th>productId</th>\n",
       "      <th>rating</th>\n",
       "      <th>timestamp</th>\n",
       "    </tr>\n",
       "  </thead>\n",
       "  <tbody>\n",
       "    <tr>\n",
       "      <th>0</th>\n",
       "      <td>userId</td>\n",
       "      <td>productId</td>\n",
       "      <td>rating</td>\n",
       "      <td>timestamp</td>\n",
       "    </tr>\n",
       "    <tr>\n",
       "      <th>1</th>\n",
       "      <td>AO94DHGC771SJ</td>\n",
       "      <td>0528881469</td>\n",
       "      <td>5.0</td>\n",
       "      <td>1370131200</td>\n",
       "    </tr>\n",
       "    <tr>\n",
       "      <th>2</th>\n",
       "      <td>AMO214LNFCEI4</td>\n",
       "      <td>0528881469</td>\n",
       "      <td>1.0</td>\n",
       "      <td>1290643200</td>\n",
       "    </tr>\n",
       "    <tr>\n",
       "      <th>3</th>\n",
       "      <td>A3N7T0DY83Y4IG</td>\n",
       "      <td>0528881469</td>\n",
       "      <td>3.0</td>\n",
       "      <td>1283990400</td>\n",
       "    </tr>\n",
       "    <tr>\n",
       "      <th>4</th>\n",
       "      <td>A1H8PY3QHMQQA0</td>\n",
       "      <td>0528881469</td>\n",
       "      <td>2.0</td>\n",
       "      <td>1290556800</td>\n",
       "    </tr>\n",
       "    <tr>\n",
       "      <th>...</th>\n",
       "      <td>...</td>\n",
       "      <td>...</td>\n",
       "      <td>...</td>\n",
       "      <td>...</td>\n",
       "    </tr>\n",
       "    <tr>\n",
       "      <th>1991556</th>\n",
       "      <td>A1HZ0N2SXVMOGS</td>\n",
       "      <td>B00L5KRU52</td>\n",
       "      <td>5</td>\n",
       "      <td>1403654400</td>\n",
       "    </tr>\n",
       "    <tr>\n",
       "      <th>1991557</th>\n",
       "      <td>ATK4Q037EM13F</td>\n",
       "      <td>BT008UKTMW</td>\n",
       "      <td>4</td>\n",
       "      <td>1356134400</td>\n",
       "    </tr>\n",
       "    <tr>\n",
       "      <th>1991558</th>\n",
       "      <td>A2H4BLBXDNSZ2O</td>\n",
       "      <td>BT008UKTMW</td>\n",
       "      <td>4</td>\n",
       "      <td>1316563200</td>\n",
       "    </tr>\n",
       "    <tr>\n",
       "      <th>1991559</th>\n",
       "      <td>A2R6Q6KJCYSVH7</td>\n",
       "      <td>BT008UKTMW</td>\n",
       "      <td>3</td>\n",
       "      <td>1343520000</td>\n",
       "    </tr>\n",
       "    <tr>\n",
       "      <th>1991560</th>\n",
       "      <td>A1MH90R0ADMIK0</td>\n",
       "      <td>BT008UKTMW</td>\n",
       "      <td>4</td>\n",
       "      <td>1404172800</td>\n",
       "    </tr>\n",
       "  </tbody>\n",
       "</table>\n",
       "<p>1991561 rows × 4 columns</p>\n",
       "</div>"
      ],
      "text/plain": [
       "                 userId   productId  rating   timestamp\n",
       "0                userId   productId  rating   timestamp\n",
       "1         AO94DHGC771SJ  0528881469     5.0  1370131200\n",
       "2         AMO214LNFCEI4  0528881469     1.0  1290643200\n",
       "3        A3N7T0DY83Y4IG  0528881469     3.0  1283990400\n",
       "4        A1H8PY3QHMQQA0  0528881469     2.0  1290556800\n",
       "...                 ...         ...     ...         ...\n",
       "1991556  A1HZ0N2SXVMOGS  B00L5KRU52       5  1403654400\n",
       "1991557   ATK4Q037EM13F  BT008UKTMW       4  1356134400\n",
       "1991558  A2H4BLBXDNSZ2O  BT008UKTMW       4  1316563200\n",
       "1991559  A2R6Q6KJCYSVH7  BT008UKTMW       3  1343520000\n",
       "1991560  A1MH90R0ADMIK0  BT008UKTMW       4  1404172800\n",
       "\n",
       "[1991561 rows x 4 columns]"
      ]
     },
     "execution_count": 19,
     "metadata": {},
     "output_type": "execute_result"
    }
   ],
   "source": [
    "df_check"
   ]
  }
 ],
 "metadata": {
  "colab": {
   "provenance": []
  },
  "kernelspec": {
   "display_name": "conda_amazonei_mxnet_p36",
   "language": "python",
   "name": "conda_amazonei_mxnet_p36"
  },
  "language_info": {
   "codemirror_mode": {
    "name": "ipython",
    "version": 3
   },
   "file_extension": ".py",
   "mimetype": "text/x-python",
   "name": "python",
   "nbconvert_exporter": "python",
   "pygments_lexer": "ipython3",
   "version": "3.6.13"
  }
 },
 "nbformat": 4,
 "nbformat_minor": 5
}
