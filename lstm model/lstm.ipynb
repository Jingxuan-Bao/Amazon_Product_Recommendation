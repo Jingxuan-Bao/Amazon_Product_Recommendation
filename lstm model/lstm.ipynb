{
 "cells": [
  {
   "cell_type": "code",
   "execution_count": 1,
   "id": "5c71ec00",
   "metadata": {},
   "outputs": [
    {
     "name": "stderr",
     "output_type": "stream",
     "text": [
      "Matplotlib is building the font cache; this may take a moment.\n"
     ]
    }
   ],
   "source": [
    "import numpy as np\n",
    "import pandas as pd\n",
    "from sklearn.model_selection import train_test_split\n",
    "from tensorflow.keras.models import Sequential\n",
    "from tensorflow.keras.layers import Dense, LSTM,Dropout\n",
    "from tensorflow.keras.callbacks import EarlyStopping\n",
    "import matplotlib.pyplot as plt\n"
   ]
  },
  {
   "cell_type": "markdown",
   "id": "3b48b24f",
   "metadata": {},
   "source": [
    "## Preprocessing the dataset for LSTM model:"
   ]
  },
  {
   "cell_type": "code",
   "execution_count": 2,
   "id": "1fd42004",
   "metadata": {},
   "outputs": [],
   "source": [
    "#Load the dataset and create a dictionary to map user and product IDs to unique integer values\n",
    "data = pd.read_csv('filtered_data.csv')\n",
    "users = data['userId'].unique()\n",
    "user_id_to_int = {user_id: i for i, user_id in enumerate(users)}\n",
    "\n",
    "products = data['productId'].unique()\n",
    "product_id_to_int = {product_id: i for i, product_id in enumerate(products)}\n"
   ]
  },
  {
   "cell_type": "code",
   "execution_count": 3,
   "id": "2415ca48",
   "metadata": {},
   "outputs": [],
   "source": [
    "#Replace user and product IDs in the dataset with their corresponding integer values:\n",
    "data['userId'] = data['userId'].apply(lambda x: user_id_to_int[x])\n",
    "data['productId'] = data['productId'].apply(lambda x: product_id_to_int[x])\n"
   ]
  },
  {
   "cell_type": "code",
   "execution_count": 4,
   "id": "2981d245",
   "metadata": {},
   "outputs": [
    {
     "data": {
      "text/html": [
       "<div>\n",
       "<style scoped>\n",
       "    .dataframe tbody tr th:only-of-type {\n",
       "        vertical-align: middle;\n",
       "    }\n",
       "\n",
       "    .dataframe tbody tr th {\n",
       "        vertical-align: top;\n",
       "    }\n",
       "\n",
       "    .dataframe thead th {\n",
       "        text-align: right;\n",
       "    }\n",
       "</style>\n",
       "<table border=\"1\" class=\"dataframe\">\n",
       "  <thead>\n",
       "    <tr style=\"text-align: right;\">\n",
       "      <th></th>\n",
       "      <th>userId</th>\n",
       "      <th>productId</th>\n",
       "      <th>rating</th>\n",
       "      <th>timestamp</th>\n",
       "    </tr>\n",
       "  </thead>\n",
       "  <tbody>\n",
       "    <tr>\n",
       "      <th>0</th>\n",
       "      <td>0</td>\n",
       "      <td>0</td>\n",
       "      <td>5.0</td>\n",
       "      <td>16675200</td>\n",
       "    </tr>\n",
       "    <tr>\n",
       "      <th>1</th>\n",
       "      <td>1</td>\n",
       "      <td>0</td>\n",
       "      <td>1.0</td>\n",
       "      <td>0</td>\n",
       "    </tr>\n",
       "    <tr>\n",
       "      <th>2</th>\n",
       "      <td>2</td>\n",
       "      <td>0</td>\n",
       "      <td>3.0</td>\n",
       "      <td>120096000</td>\n",
       "    </tr>\n",
       "    <tr>\n",
       "      <th>3</th>\n",
       "      <td>3</td>\n",
       "      <td>0</td>\n",
       "      <td>2.0</td>\n",
       "      <td>7430400</td>\n",
       "    </tr>\n",
       "    <tr>\n",
       "      <th>4</th>\n",
       "      <td>4</td>\n",
       "      <td>0</td>\n",
       "      <td>1.0</td>\n",
       "      <td>0</td>\n",
       "    </tr>\n",
       "  </tbody>\n",
       "</table>\n",
       "</div>"
      ],
      "text/plain": [
       "   userId  productId  rating  timestamp\n",
       "0       0          0     5.0   16675200\n",
       "1       1          0     1.0          0\n",
       "2       2          0     3.0  120096000\n",
       "3       3          0     2.0    7430400\n",
       "4       4          0     1.0          0"
      ]
     },
     "execution_count": 4,
     "metadata": {},
     "output_type": "execute_result"
    }
   ],
   "source": [
    "#Normalize the timestamp by subtracting the user's first ever review time:\n",
    "data['timestamp'] = data.groupby('userId')['timestamp'].apply(lambda x: x - x.min())\n",
    "data.head()"
   ]
  },
  {
   "cell_type": "code",
   "execution_count": 5,
   "id": "7d1fce3b",
   "metadata": {},
   "outputs": [],
   "source": [
    "#Split the dataset into training and testing sets\n",
    "train_df, val_df = train_test_split(data, test_size=0.2, random_state=42)"
   ]
  },
  {
   "cell_type": "code",
   "execution_count": 6,
   "id": "0fa4389d",
   "metadata": {},
   "outputs": [
    {
     "name": "stderr",
     "output_type": "stream",
     "text": [
      "/home/ec2-user/anaconda3/envs/amazonei_tensorflow2_p36/lib/python3.6/site-packages/ipykernel/__main__.py:5: SettingWithCopyWarning: \n",
      "A value is trying to be set on a copy of a slice from a DataFrame.\n",
      "Try using .loc[row_indexer,col_indexer] = value instead\n",
      "\n",
      "See the caveats in the documentation: https://pandas.pydata.org/pandas-docs/stable/user_guide/indexing.html#returning-a-view-versus-a-copy\n",
      "/home/ec2-user/anaconda3/envs/amazonei_tensorflow2_p36/lib/python3.6/site-packages/ipykernel/__main__.py:6: SettingWithCopyWarning: \n",
      "A value is trying to be set on a copy of a slice from a DataFrame.\n",
      "Try using .loc[row_indexer,col_indexer] = value instead\n",
      "\n",
      "See the caveats in the documentation: https://pandas.pydata.org/pandas-docs/stable/user_guide/indexing.html#returning-a-view-versus-a-copy\n"
     ]
    }
   ],
   "source": [
    "from sklearn.preprocessing import MinMaxScaler\n",
    "\n",
    "# Scale 'timestamp' to be between 0 and 1\n",
    "scaler = MinMaxScaler()\n",
    "train_df['timestamp'] = scaler.fit_transform(train_df['timestamp'].values.reshape(-1, 1))\n",
    "val_df['timestamp'] = scaler.transform(val_df['timestamp'].values.reshape(-1, 1))\n",
    "\n",
    "# Split the data into input and output variables\n",
    "train_data = train_df.drop('rating', axis=1).values\n",
    "train_labels = train_df['rating'].values\n",
    "val_data = val_df.drop('rating', axis=1).values\n",
    "val_labels = val_df['rating'].values\n",
    "\n",
    "# Reshape the input variables for LSTM\n",
    "train_data = train_data.reshape((train_data.shape[0], train_data.shape[1], 1))\n",
    "val_data = val_data.reshape((val_data.shape[0], val_data.shape[1], 1))\n"
   ]
  },
  {
   "cell_type": "markdown",
   "id": "3dc64e34",
   "metadata": {},
   "source": [
    "## Define and train the model: "
   ]
  },
  {
   "cell_type": "code",
   "execution_count": 7,
   "id": "8cebe1df",
   "metadata": {},
   "outputs": [
    {
     "name": "stdout",
     "output_type": "stream",
     "text": [
      "Epoch 1/10\n",
      "24895/24895 [==============================] - 88s 4ms/step - loss: 1.5264 - mae: 0.9658 - val_loss: 1.4525 - val_mae: 0.9376\n",
      "Epoch 2/10\n",
      "24895/24895 [==============================] - 87s 3ms/step - loss: 1.4594 - mae: 0.9457 - val_loss: 1.4515 - val_mae: 0.9430\n",
      "Epoch 3/10\n",
      "24895/24895 [==============================] - 87s 3ms/step - loss: 1.4536 - mae: 0.9446 - val_loss: 1.4514 - val_mae: 0.9435\n",
      "Epoch 4/10\n",
      "24895/24895 [==============================] - 87s 3ms/step - loss: 1.4527 - mae: 0.9444 - val_loss: 1.4524 - val_mae: 0.9385\n",
      "Epoch 5/10\n",
      "24895/24895 [==============================] - 87s 3ms/step - loss: 1.4526 - mae: 0.9443 - val_loss: 1.4521 - val_mae: 0.9398\n",
      "Epoch 6/10\n",
      "24895/24895 [==============================] - 87s 3ms/step - loss: 1.4526 - mae: 0.9443 - val_loss: 1.4520 - val_mae: 0.9434\n",
      "Epoch 7/10\n",
      "24895/24895 [==============================] - 87s 3ms/step - loss: 1.4525 - mae: 0.9442 - val_loss: 1.4515 - val_mae: 0.9425\n",
      "Epoch 8/10\n",
      "24895/24895 [==============================] - 87s 3ms/step - loss: 1.4525 - mae: 0.9442 - val_loss: 1.4524 - val_mae: 0.9427\n"
     ]
    }
   ],
   "source": [
    "# Define the LSTM model architecture\n",
    "model = Sequential()\n",
    "model.add(LSTM(128, input_shape=(train_data.shape[1], 1)))\n",
    "model.add(Dropout(0.2))\n",
    "model.add(Dense(64, activation='relu'))\n",
    "model.add(Dropout(0.2))\n",
    "model.add(Dense(1))\n",
    "\n",
    "# Compile the LSTM model\n",
    "model.compile(loss='mse', optimizer='adam', metrics=['mae'])\n",
    "\n",
    "# Train the LSTM model with early stopping\n",
    "early_stop = EarlyStopping(monitor='val_loss', patience=5, restore_best_weights=True)\n",
    "history = model.fit(train_data, train_labels, epochs=10, batch_size=64, validation_data=(val_data, val_labels), callbacks=[early_stop])\n"
   ]
  },
  {
   "cell_type": "markdown",
   "id": "6f5371e5",
   "metadata": {},
   "source": [
    "## Evaluate the model:"
   ]
  },
  {
   "cell_type": "code",
   "execution_count": 8,
   "id": "c4e816e2",
   "metadata": {},
   "outputs": [],
   "source": [
    "#Prepare the Test Data\n",
    "test_data = val_df.drop('rating', axis=1).values\n",
    "test_data = test_data.reshape((test_data.shape[0], test_data.shape[1], 1))"
   ]
  },
  {
   "cell_type": "code",
   "execution_count": 9,
   "id": "be5fcb00",
   "metadata": {},
   "outputs": [],
   "source": [
    "# Use the trained LSTM model to make predictions on the test data\n",
    "predictions = model.predict(test_data)"
   ]
  },
  {
   "cell_type": "code",
   "execution_count": 10,
   "id": "3f85908a",
   "metadata": {},
   "outputs": [],
   "source": [
    "# Save the trained LSTM model\n",
    "model.save('amazon_reviews_lstm_model.h5')"
   ]
  },
  {
   "cell_type": "code",
   "execution_count": 18,
   "id": "455530be",
   "metadata": {},
   "outputs": [
    {
     "data": {
      "image/png": "[encoded data removed]",
      "text/plain": [
       "<Figure size 432x288 with 1 Axes>"
      ]
     },
     "metadata": {
      "needs_background": "light"
     },
     "output_type": "display_data"
    }
   ],
   "source": [
    "#Print the learning curve for each Epoch\n",
    "plt.plot(history.history['mae'], label='train')\n",
    "plt.plot(history.history['val_mae'], label='validation')\n",
    "plt.title('Learning Curve')\n",
    "plt.xlabel('Epochs')\n",
    "plt.ylabel('mae')\n",
    "plt.legend()\n",
    "plt.show()"
   ]
  },
  {
   "cell_type": "code",
   "execution_count": 17,
   "id": "b0988f16",
   "metadata": {},
   "outputs": [
    {
     "name": "stdout",
     "output_type": "stream",
     "text": [
      "12448/12448 [==============================] - 14s 1ms/step - loss: 1.4514 - mae: 0.9433\n",
      "Mean Squared Error: 1.4514108896255493\n",
      "Mean Absolute Error: 0.9433237910270691\n"
     ]
    }
   ],
   "source": [
    "# Evaluate the performance of the LSTM model on the test data\n",
    "rmse, mae = model.evaluate(test_data, val_df['rating'].values)\n",
    "print('Mean Squared Error:', rmse)\n",
    "print('Mean Absolute Error:', mae)\n"
   ]
  }
 ],
 "metadata": {
  "kernelspec": {
   "display_name": "conda_amazonei_tensorflow2_p36",
   "language": "python",
   "name": "conda_amazonei_tensorflow2_p36"
  },
  "language_info": {
   "codemirror_mode": {
    "name": "ipython",
    "version": 3
   },
   "file_extension": ".py",
   "mimetype": "text/x-python",
   "name": "python",
   "nbconvert_exporter": "python",
   "pygments_lexer": "ipython3",
   "version": "3.6.13"
  }
 },
 "nbformat": 4,
 "nbformat_minor": 5
}
