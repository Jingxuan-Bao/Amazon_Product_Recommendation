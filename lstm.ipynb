{
 "cells": [
  {
   "cell_type": "code",
   "execution_count": 1,
   "id": "5c71ec00",
   "metadata": {},
   "outputs": [],
   "source": [
    "import numpy as np\n",
    "import pandas as pd\n",
    "from sklearn.model_selection import train_test_split\n",
    "from tensorflow.keras.models import Sequential\n",
    "from tensorflow.keras.layers import Dense, LSTM,Dropout\n",
    "from tensorflow.keras.callbacks import EarlyStopping\n"
   ]
  },
  {
   "cell_type": "markdown",
   "id": "3b48b24f",
   "metadata": {},
   "source": [
    "## Preprocessing the dataset for LSTM model:"
   ]
  },
  {
   "cell_type": "code",
   "execution_count": 2,
   "id": "1fd42004",
   "metadata": {},
   "outputs": [],
   "source": [
    "#Load the dataset and create a dictionary to map user and product IDs to unique integer values\n",
    "data = pd.read_csv('filtered_data.csv')\n",
    "users = data['userId'].unique()\n",
    "user_id_to_int = {user_id: i for i, user_id in enumerate(users)}\n",
    "\n",
    "products = data['productId'].unique()\n",
    "product_id_to_int = {product_id: i for i, product_id in enumerate(products)}\n"
   ]
  },
  {
   "cell_type": "code",
   "execution_count": 3,
   "id": "2415ca48",
   "metadata": {},
   "outputs": [],
   "source": [
    "#Replace user and product IDs in the dataset with their corresponding integer values:\n",
    "data['userId'] = data['userId'].apply(lambda x: user_id_to_int[x])\n",
    "data['productId'] = data['productId'].apply(lambda x: product_id_to_int[x])\n"
   ]
  },
  {
   "cell_type": "code",
   "execution_count": 4,
   "id": "2981d245",
   "metadata": {},
   "outputs": [
    {
     "data": {
      "text/html": [
       "<div>\n",
       "<style scoped>\n",
       "    .dataframe tbody tr th:only-of-type {\n",
       "        vertical-align: middle;\n",
       "    }\n",
       "\n",
       "    .dataframe tbody tr th {\n",
       "        vertical-align: top;\n",
       "    }\n",
       "\n",
       "    .dataframe thead th {\n",
       "        text-align: right;\n",
       "    }\n",
       "</style>\n",
       "<table border=\"1\" class=\"dataframe\">\n",
       "  <thead>\n",
       "    <tr style=\"text-align: right;\">\n",
       "      <th></th>\n",
       "      <th>userId</th>\n",
       "      <th>productId</th>\n",
       "      <th>rating</th>\n",
       "      <th>timestamp</th>\n",
       "    </tr>\n",
       "  </thead>\n",
       "  <tbody>\n",
       "    <tr>\n",
       "      <th>0</th>\n",
       "      <td>0</td>\n",
       "      <td>0</td>\n",
       "      <td>5.0</td>\n",
       "      <td>16675200</td>\n",
       "    </tr>\n",
       "    <tr>\n",
       "      <th>1</th>\n",
       "      <td>1</td>\n",
       "      <td>0</td>\n",
       "      <td>1.0</td>\n",
       "      <td>0</td>\n",
       "    </tr>\n",
       "    <tr>\n",
       "      <th>2</th>\n",
       "      <td>2</td>\n",
       "      <td>0</td>\n",
       "      <td>3.0</td>\n",
       "      <td>120096000</td>\n",
       "    </tr>\n",
       "    <tr>\n",
       "      <th>3</th>\n",
       "      <td>3</td>\n",
       "      <td>0</td>\n",
       "      <td>2.0</td>\n",
       "      <td>7430400</td>\n",
       "    </tr>\n",
       "    <tr>\n",
       "      <th>4</th>\n",
       "      <td>4</td>\n",
       "      <td>0</td>\n",
       "      <td>1.0</td>\n",
       "      <td>0</td>\n",
       "    </tr>\n",
       "  </tbody>\n",
       "</table>\n",
       "</div>"
      ],
      "text/plain": [
       "   userId  productId  rating  timestamp\n",
       "0       0          0     5.0   16675200\n",
       "1       1          0     1.0          0\n",
       "2       2          0     3.0  120096000\n",
       "3       3          0     2.0    7430400\n",
       "4       4          0     1.0          0"
      ]
     },
     "execution_count": 4,
     "metadata": {},
     "output_type": "execute_result"
    }
   ],
   "source": [
    "#Normalize the timestamp by subtracting the user's first ever review time:\n",
    "data['timestamp'] = data.groupby('userId')['timestamp'].apply(lambda x: x - x.min())\n",
    "data.head()"
   ]
  },
  {
   "cell_type": "code",
   "execution_count": 5,
   "id": "7d1fce3b",
   "metadata": {},
   "outputs": [],
   "source": [
    "#Split the dataset into training and testing sets\n",
    "train_df, val_df = train_test_split(data, test_size=0.2, random_state=42)"
   ]
  },
  {
   "cell_type": "code",
   "execution_count": 6,
   "id": "0fa4389d",
   "metadata": {},
   "outputs": [
    {
     "name": "stderr",
     "output_type": "stream",
     "text": [
      "/home/ec2-user/anaconda3/envs/amazonei_tensorflow2_p36/lib/python3.6/site-packages/ipykernel/__main__.py:5: SettingWithCopyWarning: \n",
      "A value is trying to be set on a copy of a slice from a DataFrame.\n",
      "Try using .loc[row_indexer,col_indexer] = value instead\n",
      "\n",
      "See the caveats in the documentation: https://pandas.pydata.org/pandas-docs/stable/user_guide/indexing.html#returning-a-view-versus-a-copy\n",
      "/home/ec2-user/anaconda3/envs/amazonei_tensorflow2_p36/lib/python3.6/site-packages/ipykernel/__main__.py:6: SettingWithCopyWarning: \n",
      "A value is trying to be set on a copy of a slice from a DataFrame.\n",
      "Try using .loc[row_indexer,col_indexer] = value instead\n",
      "\n",
      "See the caveats in the documentation: https://pandas.pydata.org/pandas-docs/stable/user_guide/indexing.html#returning-a-view-versus-a-copy\n"
     ]
    }
   ],
   "source": [
    "from sklearn.preprocessing import MinMaxScaler\n",
    "\n",
    "# Scale 'timestamp' to be between 0 and 1\n",
    "scaler = MinMaxScaler()\n",
    "train_df['timestamp'] = scaler.fit_transform(train_df['timestamp'].values.reshape(-1, 1))\n",
    "val_df['timestamp'] = scaler.transform(val_df['timestamp'].values.reshape(-1, 1))\n",
    "\n",
    "# Split the data into input and output variables\n",
    "train_data = train_df.drop('rating', axis=1).values\n",
    "train_labels = train_df['rating'].values\n",
    "val_data = val_df.drop('rating', axis=1).values\n",
    "val_labels = val_df['rating'].values\n",
    "\n",
    "# Reshape the input variables for LSTM\n",
    "train_data = train_data.reshape((train_data.shape[0], train_data.shape[1], 1))\n",
    "val_data = val_data.reshape((val_data.shape[0], val_data.shape[1], 1))\n"
   ]
  },
  {
   "cell_type": "markdown",
   "id": "3dc64e34",
   "metadata": {},
   "source": [
    "## Define and train the model: "
   ]
  },
  {
   "cell_type": "code",
   "execution_count": 7,
   "id": "8cebe1df",
   "metadata": {},
   "outputs": [
    {
     "name": "stdout",
     "output_type": "stream",
     "text": [
      "Epoch 1/50\n",
      "24895/24895 [==============================] - 89s 4ms/step - loss: 1.5302 - mae: 0.9673 - val_loss: 1.4517 - val_mae: 0.9459\n",
      "Epoch 2/50\n",
      "24895/24895 [==============================] - 88s 4ms/step - loss: 1.4579 - mae: 0.9454 - val_loss: 1.4580 - val_mae: 0.9592\n",
      "Epoch 3/50\n",
      "24895/24895 [==============================] - 89s 4ms/step - loss: 1.4529 - mae: 0.9444 - val_loss: 1.4519 - val_mae: 0.9479\n",
      "Epoch 4/50\n",
      "24895/24895 [==============================] - 89s 4ms/step - loss: 1.4527 - mae: 0.9442 - val_loss: 1.4514 - val_mae: 0.9433\n",
      "Epoch 5/50\n",
      "24895/24895 [==============================] - 88s 4ms/step - loss: 1.4526 - mae: 0.9443 - val_loss: 1.4525 - val_mae: 0.9396\n",
      "Epoch 6/50\n",
      "24895/24895 [==============================] - 89s 4ms/step - loss: 1.4526 - mae: 0.9442 - val_loss: 1.4520 - val_mae: 0.9441\n",
      "Epoch 7/50\n",
      "24895/24895 [==============================] - 89s 4ms/step - loss: 1.4525 - mae: 0.9442 - val_loss: 1.4516 - val_mae: 0.9461\n",
      "Epoch 8/50\n",
      "24895/24895 [==============================] - 88s 4ms/step - loss: 1.4525 - mae: 0.9442 - val_loss: 1.4520 - val_mae: 0.9442\n",
      "Epoch 9/50\n",
      "24895/24895 [==============================] - 88s 4ms/step - loss: 1.4524 - mae: 0.9441 - val_loss: 1.4515 - val_mae: 0.9463\n"
     ]
    }
   ],
   "source": [
    "# Define the LSTM model architecture\n",
    "model = Sequential()\n",
    "model.add(LSTM(128, input_shape=(train_data.shape[1], 1)))\n",
    "model.add(Dropout(0.2))\n",
    "model.add(Dense(64, activation='relu'))\n",
    "model.add(Dropout(0.2))\n",
    "model.add(Dense(1))\n",
    "\n",
    "# Compile the LSTM model\n",
    "model.compile(loss='mse', optimizer='adam', metrics=['mae'])\n",
    "\n",
    "# Train the LSTM model with early stopping\n",
    "early_stop = EarlyStopping(monitor='val_loss', patience=5, restore_best_weights=True)\n",
    "history = model.fit(train_data, train_labels, epochs=50, batch_size=64, validation_data=(val_data, val_labels), callbacks=[early_stop])\n"
   ]
  },
  {
   "cell_type": "markdown",
   "id": "6f5371e5",
   "metadata": {},
   "source": [
    "## Evaluate the model:"
   ]
  },
  {
   "cell_type": "code",
   "execution_count": 10,
   "id": "c4e816e2",
   "metadata": {},
   "outputs": [],
   "source": [
    "#Prepare the Test Data\n",
    "test_data = val_df.drop('rating', axis=1).values\n",
    "test_data = test_data.reshape((test_data.shape[0], test_data.shape[1], 1))"
   ]
  },
  {
   "cell_type": "code",
   "execution_count": 11,
   "id": "be5fcb00",
   "metadata": {},
   "outputs": [],
   "source": [
    "# Use the trained LSTM model to make predictions on the test data\n",
    "predictions = model.predict(test_data)"
   ]
  },
  {
   "cell_type": "code",
   "execution_count": 14,
   "id": "3f85908a",
   "metadata": {},
   "outputs": [],
   "source": [
    "# Save the trained LSTM model\n",
    "model.save('amazon_reviews_lstm_model.h5')"
   ]
  },
  {
   "cell_type": "code",
   "execution_count": 17,
   "id": "b0988f16",
   "metadata": {},
   "outputs": [
    {
     "name": "stdout",
     "output_type": "stream",
     "text": [
      "12448/12448 [==============================] - 14s 1ms/step - loss: 1.4514 - mae: 0.9433\n",
      "Mean Squared Error: 1.4514108896255493\n",
      "Mean Absolute Error: 0.9433237910270691\n"
     ]
    }
   ],
   "source": [
    "# Evaluate the performance of the LSTM model on the test data\n",
    "rmse, mae = model.evaluate(test_data, val_df['rating'].values)\n",
    "print('Mean Squared Error:', rmse)\n",
    "print('Mean Absolute Error:', mae)\n"
   ]
  }
 ],
 "metadata": {
  "kernelspec": {
   "display_name": "conda_amazonei_tensorflow2_p36",
   "language": "python",
   "name": "conda_amazonei_tensorflow2_p36"
  },
  "language_info": {
   "codemirror_mode": {
    "name": "ipython",
    "version": 3
   },
   "file_extension": ".py",
   "mimetype": "text/x-python",
   "name": "python",
   "nbconvert_exporter": "python",
   "pygments_lexer": "ipython3",
   "version": "3.6.13"
  }
 },
 "nbformat": 4,
 "nbformat_minor": 5
}
