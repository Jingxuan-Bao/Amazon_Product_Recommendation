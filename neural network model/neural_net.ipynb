{
 "cells": [
  {
   "cell_type": "code",
   "execution_count": 40,
   "id": "5c71ec00",
   "metadata": {},
   "outputs": [],
   "source": [
    "import numpy as np\n",
    "import pandas as pd\n",
    "from sklearn.model_selection import train_test_split\n",
    "from sklearn.preprocessing import LabelEncoder\n",
    "from tensorflow.keras.layers import Input, Embedding, Flatten, Dense, Concatenate, Dropout\n",
    "from tensorflow.keras.models import Model\n"
   ]
  },
  {
   "cell_type": "markdown",
   "id": "3b48b24f",
   "metadata": {},
   "source": [
    "## Preprocessing the dataset for Neural Network model:"
   ]
  },
  {
   "cell_type": "code",
   "execution_count": 11,
   "id": "1fd42004",
   "metadata": {},
   "outputs": [],
   "source": [
    "#Load the dataset and create a dictionary to map user and product IDs to unique integer values\n",
    "data = pd.read_csv('filtered_data.csv')\n",
    "users = data['userId'].unique()\n",
    "user_id_to_int = {user_id: i for i, user_id in enumerate(users)}\n",
    "\n",
    "products = data['productId'].unique()\n",
    "product_id_to_int = {product_id: i for i, product_id in enumerate(products)}\n"
   ]
  },
  {
   "cell_type": "code",
   "execution_count": 12,
   "id": "2415ca48",
   "metadata": {},
   "outputs": [],
   "source": [
    "#Replace user and product IDs in the dataset with their corresponding integer values:\n",
    "data['userId'] = data['userId'].apply(lambda x: user_id_to_int[x])\n",
    "data['productId'] = data['productId'].apply(lambda x: product_id_to_int[x])\n"
   ]
  },
  {
   "cell_type": "code",
   "execution_count": 21,
   "id": "2981d245",
   "metadata": {},
   "outputs": [],
   "source": [
    "#Normalize the timestamp by subtracting the user's first ever review time:\n",
    "data['timestamp'] = data.groupby('userId')['timestamp'].apply(lambda x: x - x.min())\n",
    "data.head()\n",
    "data = data.sample(frac=0.1, random_state=42)"
   ]
  },
  {
   "cell_type": "code",
   "execution_count": 22,
   "id": "7d1fce3b",
   "metadata": {},
   "outputs": [],
   "source": [
    "#Split the dataset into training and testing sets\n",
    "train_df, val_df = train_test_split(data, test_size=0.2, random_state=42)"
   ]
  },
  {
   "cell_type": "code",
   "execution_count": 23,
   "id": "0fa4389d",
   "metadata": {
    "scrolled": false
   },
   "outputs": [
    {
     "name": "stderr",
     "output_type": "stream",
     "text": [
      "/home/ec2-user/anaconda3/envs/amazonei_tensorflow2_p36/lib/python3.6/site-packages/ipykernel/__main__.py:5: SettingWithCopyWarning: \n",
      "A value is trying to be set on a copy of a slice from a DataFrame.\n",
      "Try using .loc[row_indexer,col_indexer] = value instead\n",
      "\n",
      "See the caveats in the documentation: https://pandas.pydata.org/pandas-docs/stable/user_guide/indexing.html#returning-a-view-versus-a-copy\n",
      "/home/ec2-user/anaconda3/envs/amazonei_tensorflow2_p36/lib/python3.6/site-packages/ipykernel/__main__.py:6: SettingWithCopyWarning: \n",
      "A value is trying to be set on a copy of a slice from a DataFrame.\n",
      "Try using .loc[row_indexer,col_indexer] = value instead\n",
      "\n",
      "See the caveats in the documentation: https://pandas.pydata.org/pandas-docs/stable/user_guide/indexing.html#returning-a-view-versus-a-copy\n"
     ]
    }
   ],
   "source": [
    "from sklearn.preprocessing import MinMaxScaler\n",
    "\n",
    "# Scale 'timestamp' to be between 0 and 1\n",
    "scaler = MinMaxScaler()\n",
    "train_df['timestamp'] = scaler.fit_transform(train_df['timestamp'].values.reshape(-1, 1))\n",
    "val_df['timestamp'] = scaler.transform(val_df['timestamp'].values.reshape(-1, 1))\n",
    "\n",
    "# Split the data into input and output variables\n",
    "train_data = train_df.drop('rating', axis=1).values\n",
    "train_labels = train_df['rating'].values\n",
    "val_data = val_df.drop('rating', axis=1).values\n",
    "val_labels = val_df['rating'].values\n",
    "\n",
    "# Reshape the input variables\n",
    "train_data = train_data.reshape((train_data.shape[0], train_data.shape[1], 1))\n",
    "val_data = val_data.reshape((val_data.shape[0], val_data.shape[1], 1))\n"
   ]
  },
  {
   "cell_type": "markdown",
   "id": "3dc64e34",
   "metadata": {},
   "source": [
    "## Define and train the model: "
   ]
  },
  {
   "cell_type": "code",
   "execution_count": 45,
   "id": "8cebe1df",
   "metadata": {
    "scrolled": true
   },
   "outputs": [
    {
     "name": "stdout",
     "output_type": "stream",
     "text": [
      "Epoch 1/10\n",
      "1245/1245 [==============================] - 190s 152ms/step - loss: 2.1126 - mae: 1.0693 - val_loss: 1.3936 - val_mae: 0.9077\n",
      "Epoch 2/10\n",
      "1245/1245 [==============================] - 190s 152ms/step - loss: 0.8891 - mae: 0.6671 - val_loss: 1.5077 - val_mae: 0.9163\n",
      "Epoch 3/10\n",
      "1245/1245 [==============================] - 190s 152ms/step - loss: 0.4594 - mae: 0.4580 - val_loss: 1.7499 - val_mae: 1.0114\n",
      "Epoch 4/10\n",
      "1245/1245 [==============================] - 190s 152ms/step - loss: 0.2703 - mae: 0.3468 - val_loss: 1.8116 - val_mae: 1.0081\n",
      "Epoch 5/10\n",
      "1245/1245 [==============================] - 190s 153ms/step - loss: 0.1709 - mae: 0.2742 - val_loss: 1.7861 - val_mae: 1.0099\n",
      "Epoch 6/10\n",
      "1245/1245 [==============================] - 190s 153ms/step - loss: 0.1209 - mae: 0.2262 - val_loss: 1.8493 - val_mae: 1.0364\n",
      "Epoch 7/10\n",
      "1245/1245 [==============================] - 190s 153ms/step - loss: 0.0850 - mae: 0.1883 - val_loss: 1.8143 - val_mae: 1.0284\n",
      "Epoch 8/10\n",
      "1245/1245 [==============================] - 191s 153ms/step - loss: 0.0668 - mae: 0.1644 - val_loss: 1.8303 - val_mae: 1.0268\n",
      "Epoch 9/10\n",
      "1245/1245 [==============================] - 189s 152ms/step - loss: 0.0595 - mae: 0.1543 - val_loss: 1.8360 - val_mae: 1.0327\n",
      "Epoch 10/10\n",
      "1245/1245 [==============================] - 190s 153ms/step - loss: 0.0523 - mae: 0.1436 - val_loss: 1.8498 - val_mae: 1.0429\n"
     ]
    }
   ],
   "source": [
    "# Define the inputs\n",
    "user_id_input = Input(shape=[1], name='user')\n",
    "product_id_input = Input(shape=[1], name='product')\n",
    "\n",
    "# User embedding\n",
    "user_embedding = Embedding(input_dim=len(users), output_dim=64, input_length=1, name='user_embedding')(user_id_input)\n",
    "user_flattened = Flatten()(user_embedding)\n",
    "\n",
    "# Product embedding\n",
    "product_embedding = Embedding(input_dim=len(products), output_dim=64, input_length=1, name='product_embedding')(product_id_input)\n",
    "product_flattened = Flatten()(product_embedding)\n",
    "\n",
    "# Concatenate the user and product embeddings\n",
    "x = Concatenate()([user_flattened, product_flattened])\n",
    "\n",
    "# Add fully connected layers\n",
    "x = Dense(64, activation='relu')(x)\n",
    "x = Dense(32, activation='relu')(x)\n",
    "\n",
    "# Output layer with a single neuron\n",
    "output = Dense(1)(x)\n",
    "\n",
    "# Define the model\n",
    "model = Model(inputs=[user_id_input, product_id_input], outputs=output)\n",
    "\n",
    "# Compile the model\n",
    "model.compile(loss='mse', optimizer='adam', metrics=['mae'])\n",
    "\n",
    "# Train the model\n",
    "history = model.fit(x=[train_df['userId'], train_df['productId']], y=train_df['rating'],\n",
    "                    batch_size=128, epochs=10, validation_data=([val_df['userId'], val_df['productId']], val_df['rating']))\n",
    "\n",
    "# Save the trained model\n",
    "model.save('amazon_reviews_nn_model.h5')"
   ]
  },
  {
   "cell_type": "code",
   "execution_count": 46,
   "id": "889cd534",
   "metadata": {},
   "outputs": [
    {
     "data": {
      "image/png": "[encoded data removed]",
      "text/plain": [
       "<Figure size 432x288 with 1 Axes>"
      ]
     },
     "metadata": {
      "needs_background": "light"
     },
     "output_type": "display_data"
    }
   ],
   "source": [
    "import matplotlib.pyplot as plt\n",
    "#Print the learning curve for each Epoch\n",
    "plt.plot(history.history['mae'], label='train')\n",
    "plt.plot(history.history['val_mae'], label='validation')\n",
    "plt.title('Learning Curve')\n",
    "plt.xlabel('Epochs')\n",
    "plt.ylabel('mae')\n",
    "plt.legend()\n",
    "plt.show()"
   ]
  },
  {
   "cell_type": "markdown",
   "id": "6f5371e5",
   "metadata": {},
   "source": [
    "## Evaluate the model:"
   ]
  },
  {
   "cell_type": "code",
   "execution_count": 47,
   "id": "c4e816e2",
   "metadata": {},
   "outputs": [
    {
     "name": "stdout",
     "output_type": "stream",
     "text": [
      "1245/1245 [==============================] - 1s 451us/step - loss: 1.8498 - mean_absolute_error: 1.0429\n",
      "Test Loss: 1.84977388381958\n",
      "Test MAE: 1.04292893409729\n"
     ]
    }
   ],
   "source": [
    "# Load the saved model\n",
    "from tensorflow.keras.models import load_model\n",
    "model = load_model('amazon_reviews_nn_model.h5')\n",
    "\n",
    "# Evaluate the model on the test data\n",
    "test_loss, test_mae = model.evaluate([val_df['userId'], val_df['productId'], val_df['timestamp']], val_df['rating'])\n",
    "\n",
    "# Print the test loss and test MAE\n",
    "print('Test Loss:', test_loss)\n",
    "print('Test MAE:', test_mae)"
   ]
  },
  {
   "cell_type": "code",
   "execution_count": null,
   "id": "3f85908a",
   "metadata": {},
   "outputs": [],
   "source": []
  },
  {
   "cell_type": "code",
   "execution_count": null,
   "id": "b0988f16",
   "metadata": {},
   "outputs": [],
   "source": [
    "\n"
   ]
  },
  {
   "cell_type": "code",
   "execution_count": null,
   "id": "2e68af97",
   "metadata": {},
   "outputs": [],
   "source": []
  }
 ],
 "metadata": {
  "kernelspec": {
   "display_name": "conda_amazonei_tensorflow2_p36",
   "language": "python",
   "name": "conda_amazonei_tensorflow2_p36"
  },
  "language_info": {
   "codemirror_mode": {
    "name": "ipython",
    "version": 3
   },
   "file_extension": ".py",
   "mimetype": "text/x-python",
   "name": "python",
   "nbconvert_exporter": "python",
   "pygments_lexer": "ipython3",
   "version": "3.6.13"
  }
 },
 "nbformat": 4,
 "nbformat_minor": 5
}
